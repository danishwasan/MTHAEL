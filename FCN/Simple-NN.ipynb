{
 "cells": [
  {
   "cell_type": "code",
   "execution_count": 8,
   "metadata": {},
   "outputs": [],
   "source": [
    "import os\n",
    "os.environ[\"CUDA_DEVICE_ORDER\"] = \"PCI_BUS_ID\"   # see issue #152\n",
    "os.environ[\"CUDA_VISIBLE_DEVICES\"] = \"-1\""
   ]
  },
  {
   "cell_type": "code",
   "execution_count": 9,
   "metadata": {},
   "outputs": [],
   "source": [
    "## extra imports to set GPU options\n",
    "import tensorflow as tf\n",
    "from keras import backend as k\n",
    "\n",
    "###################################\n",
    "# TensorFlow wizardry\n",
    "config = tf.ConfigProto()\n",
    "\n",
    "# Don't pre-allocate memory; allocate as-needed\n",
    "config.gpu_options.allow_growth = True\n",
    "\n",
    "# Only allow a total of half the GPU memory to be allocated\n",
    "config.gpu_options.per_process_gpu_memory_fraction = 1 # 0.5 for Half\n",
    "\n",
    "# Create a session with the above options specified.\n",
    "k.tensorflow_backend.set_session(tf.Session(config=config))\n"
   ]
  },
  {
   "cell_type": "code",
   "execution_count": 10,
   "metadata": {},
   "outputs": [],
   "source": [
    "#matplotlib inline\n",
    "import matplotlib.pyplot as plt\n",
    "import tensorflow as tf\n",
    "import numpy as np\n",
    "from scipy.spatial.distance import cdist"
   ]
  },
  {
   "cell_type": "code",
   "execution_count": 11,
   "metadata": {},
   "outputs": [],
   "source": [
    "import tensorflow as tf\n",
    "import keras\n",
    "from keras import backend as K\n",
    "from keras.models import Sequential\n",
    "from keras.layers import Activation\n",
    "from keras.layers.core import Dense\n",
    "from keras.optimizers import Adam\n",
    "from keras.metrics import categorical_crossentropy\n",
    "import math\n",
    "import numpy as np\n",
    "import matplotlib.pyplot as plt\n",
    "from PIL import Image\n",
    "import pandas as pd\n",
    "import numpy as np\n",
    "import keras\n",
    "from keras import backend as K\n",
    "from keras.models import Sequential\n",
    "from keras.layers import Activation\n",
    "from keras.layers import Dense, Flatten\n",
    "from keras.optimizers import Adam\n",
    "from keras.metrics import categorical_crossentropy\n",
    "from keras.preprocessing.image import ImageDataGenerator\n",
    "from keras.layers.normalization import BatchNormalization\n",
    "from keras.layers.convolutional import *\n",
    "from matplotlib import pyplot as plt\n",
    "from sklearn.metrics import confusion_matrix\n",
    "import itertools\n",
    "import matplotlib.pyplot as plt\n",
    "import os\n",
    "import pyqrcode\n",
    "import re\n",
    "from collections import *\n",
    "import this\n",
    "import pandas as pd\n",
    "import numpy as np\n",
    "from sklearn.model_selection import train_test_split\n",
    "\n",
    "import tensorflow as tf\n",
    "import keras\n",
    "import seaborn as sn\n",
    "import pandas as pd\n",
    "import numpy as np\n",
    "import linecache\n",
    "import sys\n",
    "import h5py\n",
    "import itertools\n",
    "import matplotlib.pyplot as plt\n",
    "import os\n",
    "import pickle\n",
    "import matplotlib.pyplot as plt; plt.rcdefaults()\n",
    "import numpy as np\n",
    "import matplotlib.pyplot as plt\n",
    "from keras.callbacks import ModelCheckpoint\n",
    "from keras.callbacks import TensorBoard\n",
    "from keras.callbacks import ReduceLROnPlateau\n",
    "from keras.callbacks import EarlyStopping\n",
    "from keras.callbacks import RemoteMonitor\n",
    "from keras.layers.merge import concatenate\n",
    "from keras.layers import AveragePooling2D, Convolution2D, Dense, Dropout, Flatten, Input, MaxPooling2D, ZeroPadding2D \n",
    "from keras.models import Model, Sequential"
   ]
  },
  {
   "cell_type": "code",
   "execution_count": 12,
   "metadata": {},
   "outputs": [],
   "source": [
    "# from tf.keras.models import Sequential  # This does not work!\n",
    "from keras.models import Sequential\n",
    "from keras.layers import Dense, GRU, Embedding\n",
    "from keras.optimizers import Adam\n",
    "from keras.preprocessing.text import Tokenizer\n",
    "from keras.preprocessing.sequence import pad_sequences"
   ]
  },
  {
   "cell_type": "markdown",
   "metadata": {},
   "source": [
    "This was developed using Python 3.6 (Anaconda) and package versions:"
   ]
  },
  {
   "cell_type": "code",
   "execution_count": 13,
   "metadata": {
    "scrolled": false
   },
   "outputs": [
    {
     "data": {
      "text/plain": [
       "'1.9.0'"
      ]
     },
     "execution_count": 13,
     "metadata": {},
     "output_type": "execute_result"
    }
   ],
   "source": [
    "tf.__version__"
   ]
  },
  {
   "cell_type": "code",
   "execution_count": 14,
   "metadata": {
    "scrolled": true
   },
   "outputs": [
    {
     "data": {
      "text/plain": [
       "'2.1.6-tf'"
      ]
     },
     "execution_count": 14,
     "metadata": {},
     "output_type": "execute_result"
    }
   ],
   "source": [
    "tf.keras.__version__"
   ]
  },
  {
   "cell_type": "markdown",
   "metadata": {},
   "source": [
    "## Load Data\n",
    "\n",
    "We will use a data-set consisting of 50000 reviews of movies from IMDB. Keras has a built-in function for downloading a similar data-set (but apparently half the size). However, Keras' version has already converted the text in the data-set to integer-tokens, which is a crucial part of working with natural languages that will also be demonstrated in this tutorial, so we download the actual text-data.\n",
    "\n",
    "NOTE: The data-set is 84 MB and will be downloaded automatically."
   ]
  },
  {
   "cell_type": "code",
   "execution_count": 15,
   "metadata": {},
   "outputs": [
    {
     "name": "stdout",
     "output_type": "stream",
     "text": [
      "/data/danish/Data/IoT_Malware_Opcodes/benign_Sequences/\n",
      "271\n",
      "271\n",
      "271\n",
      "Average Time is = 0.0218846419641\n"
     ]
    }
   ],
   "source": [
    "import time\n",
    "#import imdb\n",
    "relevant_path = \"/data/danish/Data/IoT_Malware_Opcodes/benign_Sequences/\"\n",
    "print(relevant_path)\n",
    "\n",
    "included_extentions = ['txt']\n",
    "file_names = [fn for fn in os.listdir(relevant_path)\n",
    "              if any(fn.endswith(ext) for ext in included_extentions)]\n",
    "print(len(file_names))\n",
    "\n",
    "X = []\n",
    "Y = []\n",
    "wordCounter_benign = dict()\n",
    "time_ = []\n",
    "\n",
    "for fn in file_names:\n",
    "    tic = time.time();\n",
    "    with open('/data/danish/Data/IoT_Malware_Opcodes/benign_Sequences/'+fn,'r') as fh:\n",
    "        for line in fh:\n",
    "            # Replacing punctuation characters. Making the string to lower.\n",
    "            # The split will spit the line into a list.\n",
    "            word_list = line.replace(',','').replace('\\'','').replace('.','').lower().split()\n",
    "        for word in word_list:\n",
    "              # Adding  the word into the wordCounter dictionary.\n",
    "            if word not in wordCounter_benign:\n",
    "                wordCounter_benign[word] = 1\n",
    "            else:\n",
    "                # if the word is already in the dictionary update its count.\n",
    "                wordCounter_benign[word] = wordCounter_benign[word] + 1\n",
    "        toc = time.time();\n",
    "        time_.append(toc-tic)\n",
    "        #print (\"Elasped Time (s) = \", toc-tic);\n",
    "      \n",
    "\n",
    "    key=' '.join('{}'.format(keys) for keys in wordCounter_benign.keys())\n",
    "    #value=' '.join('{}'.format(values) for values in wordCounter_benign.values())\n",
    "\n",
    "    X.append(key)\n",
    "    Y.append(0)\n",
    "    \n",
    "    \n",
    "print(len(X))\n",
    "print(len(Y)) \n",
    "print(\"Average Time is =\", np.mean(time_))\n",
    "\n",
    "\n"
   ]
  },
  {
   "cell_type": "code",
   "execution_count": 16,
   "metadata": {},
   "outputs": [
    {
     "name": "stdout",
     "output_type": "stream",
     "text": [
      "/data/danish/Data/IoT_Malware_Opcodes/malicious_Sequences/\n",
      "280\n",
      "551\n",
      "551\n"
     ]
    }
   ],
   "source": [
    "#import imdb\n",
    "relevant_path = \"/data/danish/Data/IoT_Malware_Opcodes/malicious_Sequences/\"\n",
    "print(relevant_path)\n",
    "\n",
    "included_extentions = ['txt']\n",
    "file_names = [fn for fn in os.listdir(relevant_path)\n",
    "              if any(fn.endswith(ext) for ext in included_extentions)]\n",
    "print(len(file_names))\n",
    "wordCounter_malicious = dict()\n",
    "\n",
    "for fn in file_names:\n",
    "    with open('/data/danish/Data/IoT_Malware_Opcodes/malicious_Sequences/'+fn,'r') as fh:\n",
    "        for line in fh:\n",
    "            # Replacing punctuation characters. Making the string to lower.\n",
    "            # The split will spit the line into a list.\n",
    "            word_list = line.replace(',','').replace('\\'','').replace('.','').lower().split()\n",
    "        for word in word_list:\n",
    "              # Adding  the word into the wordCounter dictionary.\n",
    "            if word not in wordCounter_malicious:\n",
    "                wordCounter_malicious[word] = 1\n",
    "            else:\n",
    "                # if the word is already in the dictionary update its count.\n",
    "                wordCounter_malicious[word] = wordCounter_malicious[word] + 1\n",
    "        \n",
    "      \n",
    "\n",
    "    key=' '.join('{}'.format(keys) for keys in wordCounter_malicious.keys())\n",
    "    #value=' '.join('{}'.format(values) for values in wordCounter_malicious.values())\n",
    "\n",
    "    X.append(key)\n",
    "    Y.append(1)\n",
    "    \n",
    "    \n",
    "print(len(X))\n",
    "print(len(Y)) "
   ]
  },
  {
   "cell_type": "raw",
   "metadata": {},
   "source": [
    "#X = np.array(X)\n",
    "#Y = np.array(Y)"
   ]
  },
  {
   "cell_type": "raw",
   "metadata": {},
   "source": [
    "from keras.utils import np_utils\n",
    "\n",
    "Y = np_utils.to_categorical(Y)"
   ]
  },
  {
   "cell_type": "code",
   "execution_count": 17,
   "metadata": {},
   "outputs": [],
   "source": [
    "x_train_text, x_test_text, y_train, y_test = train_test_split(X, Y, test_size=0.2, random_state=42)"
   ]
  },
  {
   "cell_type": "code",
   "execution_count": 18,
   "metadata": {},
   "outputs": [
    {
     "name": "stdout",
     "output_type": "stream",
     "text": [
      "440\n",
      "440\n",
      "111\n",
      "111\n"
     ]
    }
   ],
   "source": [
    "print(len(x_train_text))\n",
    "print(len(y_train)) \n",
    "print(len(x_test_text))\n",
    "print(len(y_test)) "
   ]
  },
  {
   "cell_type": "code",
   "execution_count": 19,
   "metadata": {},
   "outputs": [
    {
     "name": "stdout",
     "output_type": "stream",
     "text": [
      "Train-set size:  440\n",
      "Test-set size:   111\n"
     ]
    }
   ],
   "source": [
    "print(\"Train-set size: \", len(x_train_text))\n",
    "print(\"Test-set size:  \", len(x_test_text))\n"
   ]
  },
  {
   "cell_type": "code",
   "execution_count": null,
   "metadata": {},
   "outputs": [],
   "source": [
    "from keras.utils import np_utils\n",
    "\n",
    "y_train = np_utils.to_categorical(y_train, 2)\n",
    "y_test = np_utils.to_categorical(y_test, 2)"
   ]
  },
  {
   "cell_type": "code",
   "execution_count": 21,
   "metadata": {},
   "outputs": [
    {
     "data": {
      "text/plain": [
       "(551,)"
      ]
     },
     "execution_count": 21,
     "metadata": {},
     "output_type": "execute_result"
    }
   ],
   "source": [
    "#data_text = np.hstack((x_train_text,x_test_text))\n",
    "#data_text.shape\n",
    "data_text = x_train_text + x_test_text\n",
    "data_text.shape"
   ]
  },
  {
   "cell_type": "code",
   "execution_count": 22,
   "metadata": {},
   "outputs": [],
   "source": [
    "num_words = None"
   ]
  },
  {
   "cell_type": "code",
   "execution_count": 23,
   "metadata": {
    "scrolled": true
   },
   "outputs": [],
   "source": [
    "tokenizer = Tokenizer(num_words=num_words)\n",
    "#tokenizer_1 = Tokenizer(2000)"
   ]
  },
  {
   "cell_type": "code",
   "execution_count": 51,
   "metadata": {},
   "outputs": [
    {
     "name": "stdout",
     "output_type": "stream",
     "text": [
      "Elasped Time (s) =  0.3368980884552002\n"
     ]
    }
   ],
   "source": [
    "tic = time.time();\n",
    "\n",
    "tokenizer.fit_on_texts(data_text)\n",
    "\n",
    "toc = time.time();\n",
    "print (\"Elasped Time (s) = \", toc-tic);\n",
    "#tokenizer.fit_on_texts(data_text)"
   ]
  },
  {
   "cell_type": "code",
   "execution_count": 25,
   "metadata": {},
   "outputs": [
    {
     "data": {
      "text/plain": [
       "551"
      ]
     },
     "execution_count": 25,
     "metadata": {},
     "output_type": "execute_result"
    }
   ],
   "source": [
    "len(data_text)"
   ]
  },
  {
   "cell_type": "markdown",
   "metadata": {},
   "source": [
    "If you want to use the entire vocabulary then set `num_words=None` above, and then it will automatically be set to the vocabulary-size here. (This is because of Keras' somewhat awkward implementation.)"
   ]
  },
  {
   "cell_type": "code",
   "execution_count": 26,
   "metadata": {},
   "outputs": [],
   "source": [
    "if num_words is None:\n",
    "    num_words = len(tokenizer.word_index)\n"
   ]
  },
  {
   "cell_type": "code",
   "execution_count": 27,
   "metadata": {},
   "outputs": [
    {
     "data": {
      "text/plain": [
       "658"
      ]
     },
     "execution_count": 27,
     "metadata": {},
     "output_type": "execute_result"
    }
   ],
   "source": [
    "num_words"
   ]
  },
  {
   "cell_type": "markdown",
   "metadata": {},
   "source": [
    "We can then inspect the vocabulary that has been gathered by the tokenizer. This is ordered by the number of occurrences of the words in the data-set. These integer-numbers are called word indices or \"tokens\" because they uniquely identify each word in the vocabulary."
   ]
  },
  {
   "cell_type": "code",
   "execution_count": 28,
   "metadata": {},
   "outputs": [],
   "source": [
    "#tokenizer.word_index\n",
    "#tokenizer_1.word_index"
   ]
  },
  {
   "cell_type": "code",
   "execution_count": 29,
   "metadata": {},
   "outputs": [],
   "source": [
    "#tokenizer_1.word_index"
   ]
  },
  {
   "cell_type": "markdown",
   "metadata": {},
   "source": [
    "We can then use the tokenizer to convert all texts in the training-set to lists of these tokens."
   ]
  },
  {
   "cell_type": "code",
   "execution_count": 50,
   "metadata": {},
   "outputs": [
    {
     "name": "stdout",
     "output_type": "stream",
     "text": [
      "Elasped Time (s) =  0.18138837814331055\n"
     ]
    }
   ],
   "source": [
    "#%%time\n",
    "tic = time.time();\n",
    "\n",
    "x_train_tokens = tokenizer.texts_to_sequences(x_train_text)\n",
    "\n",
    "toc = time.time();\n",
    "print (\"Elasped Time (s) = \", toc-tic);\n"
   ]
  },
  {
   "cell_type": "code",
   "execution_count": 31,
   "metadata": {},
   "outputs": [],
   "source": [
    "#x_train_tokens[1]"
   ]
  },
  {
   "cell_type": "markdown",
   "metadata": {},
   "source": [
    "For example, here is a text from the training-set:"
   ]
  },
  {
   "cell_type": "code",
   "execution_count": 32,
   "metadata": {},
   "outputs": [],
   "source": [
    "#x_train_text[1]"
   ]
  },
  {
   "cell_type": "markdown",
   "metadata": {},
   "source": [
    "This text corresponds to the following list of tokens:"
   ]
  },
  {
   "cell_type": "code",
   "execution_count": 33,
   "metadata": {},
   "outputs": [],
   "source": [
    "#x_train_tokens[1]\n",
    "#np.array(x_train_tokens[1])"
   ]
  },
  {
   "cell_type": "markdown",
   "metadata": {},
   "source": [
    "We also need to convert the texts in the test-set to tokens."
   ]
  },
  {
   "cell_type": "code",
   "execution_count": 34,
   "metadata": {},
   "outputs": [
    {
     "name": "stdout",
     "output_type": "stream",
     "text": [
      "CPU times: user 43.5 ms, sys: 58 µs, total: 43.6 ms\n",
      "Wall time: 43.3 ms\n"
     ]
    }
   ],
   "source": [
    "%%time\n",
    "x_test_tokens = tokenizer.texts_to_sequences(x_test_text)"
   ]
  },
  {
   "cell_type": "code",
   "execution_count": 35,
   "metadata": {},
   "outputs": [],
   "source": [
    "#x_test_tokens[0]"
   ]
  },
  {
   "cell_type": "markdown",
   "metadata": {},
   "source": [
    "## Padding and Truncating Data\n",
    "\n",
    "The Recurrent Neural Network can take sequences of arbitrary length as input, but in order to use a whole batch of data, the sequences need to have the same length. There are two ways of achieving this: (A) Either we ensure that all sequences in the entire data-set have the same length, or (B) we write a custom data-generator that ensures the sequences have the same length within each batch.\n",
    "\n",
    "Solution (A) is simpler but if we use the length of the longest sequence in the data-set, then we are wasting a lot of memory. This is particularly important for larger data-sets.\n",
    "\n",
    "So in order to make a compromise, we will use a sequence-length that covers most sequences in the data-set, and we will then truncate longer sequences and pad shorter sequences.\n",
    "\n",
    "First we count the number of tokens in all the sequences in the data-set."
   ]
  },
  {
   "cell_type": "code",
   "execution_count": 36,
   "metadata": {},
   "outputs": [
    {
     "name": "stdout",
     "output_type": "stream",
     "text": [
      "CPU times: user 185 µs, sys: 5 µs, total: 190 µs\n",
      "Wall time: 198 µs\n"
     ]
    }
   ],
   "source": [
    "%%time\n",
    "num_tokens = [len(tokens) for tokens in x_train_tokens + x_test_tokens]\n",
    "num_tokens = np.array(num_tokens)"
   ]
  },
  {
   "cell_type": "markdown",
   "metadata": {},
   "source": [
    "The average number of tokens in a sequence is:"
   ]
  },
  {
   "cell_type": "code",
   "execution_count": 37,
   "metadata": {},
   "outputs": [
    {
     "data": {
      "text/plain": [
       "503.9364791288566"
      ]
     },
     "execution_count": 37,
     "metadata": {},
     "output_type": "execute_result"
    }
   ],
   "source": [
    "np.mean(num_tokens)"
   ]
  },
  {
   "cell_type": "markdown",
   "metadata": {},
   "source": [
    "The maximum number of tokens in a sequence is:"
   ]
  },
  {
   "cell_type": "code",
   "execution_count": 38,
   "metadata": {},
   "outputs": [
    {
     "data": {
      "text/plain": [
       "600"
      ]
     },
     "execution_count": 38,
     "metadata": {},
     "output_type": "execute_result"
    }
   ],
   "source": [
    "np.max(num_tokens)"
   ]
  },
  {
   "cell_type": "markdown",
   "metadata": {},
   "source": [
    "The max number of tokens we will allow is set to the average plus 2 standard deviations."
   ]
  },
  {
   "cell_type": "code",
   "execution_count": 39,
   "metadata": {},
   "outputs": [
    {
     "data": {
      "text/plain": [
       "656"
      ]
     },
     "execution_count": 39,
     "metadata": {},
     "output_type": "execute_result"
    }
   ],
   "source": [
    "max_tokens = np.mean(num_tokens) + 2 * np.std(num_tokens)\n",
    "max_tokens = int(max_tokens)\n",
    "max_tokens"
   ]
  },
  {
   "cell_type": "markdown",
   "metadata": {},
   "source": [
    "This covers about 95% of the data-set."
   ]
  },
  {
   "cell_type": "code",
   "execution_count": 40,
   "metadata": {},
   "outputs": [
    {
     "data": {
      "text/plain": [
       "1.0"
      ]
     },
     "execution_count": 40,
     "metadata": {},
     "output_type": "execute_result"
    }
   ],
   "source": [
    "np.sum(num_tokens < max_tokens) / len(num_tokens)"
   ]
  },
  {
   "cell_type": "markdown",
   "metadata": {},
   "source": [
    "When padding or truncating the sequences that have a different length, we need to determine if we want to do this padding or truncating 'pre' or 'post'. If a sequence is truncated, it means that a part of the sequence is simply thrown away. If a sequence is padded, it means that zeros are added to the sequence.\n",
    "\n",
    "So the choice of 'pre' or 'post' can be important because it determines whether we throw away the first or last part of a sequence when truncating, and it determines whether we add zeros to the beginning or end of the sequence when padding. This may confuse the Recurrent Neural Network."
   ]
  },
  {
   "cell_type": "code",
   "execution_count": 41,
   "metadata": {},
   "outputs": [],
   "source": [
    "pad = 'pre'"
   ]
  },
  {
   "cell_type": "code",
   "execution_count": 52,
   "metadata": {},
   "outputs": [
    {
     "name": "stdout",
     "output_type": "stream",
     "text": [
      "Elasped Time (s) =  0.04354357719421387\n"
     ]
    }
   ],
   "source": [
    "tic = time.time();\n",
    "\n",
    "x_train_pad = pad_sequences(x_train_tokens, maxlen=max_tokens,\n",
    "                            padding=pad, truncating=pad)\n",
    "toc = time.time();\n",
    "print (\"Elasped Time (s) = \", toc-tic);\n"
   ]
  },
  {
   "cell_type": "code",
   "execution_count": 43,
   "metadata": {},
   "outputs": [
    {
     "name": "stdout",
     "output_type": "stream",
     "text": [
      "CPU times: user 8.73 ms, sys: 13 µs, total: 8.75 ms\n",
      "Wall time: 7.85 ms\n"
     ]
    }
   ],
   "source": [
    "%%time\n",
    "x_test_pad = pad_sequences(x_test_tokens, maxlen=max_tokens,\n",
    "                           padding=pad, truncating=pad)"
   ]
  },
  {
   "cell_type": "markdown",
   "metadata": {},
   "source": [
    "We have now transformed the training-set into one big matrix of integers (tokens) with this shape:"
   ]
  },
  {
   "cell_type": "code",
   "execution_count": 44,
   "metadata": {},
   "outputs": [
    {
     "data": {
      "text/plain": [
       "(440, 656)"
      ]
     },
     "execution_count": 44,
     "metadata": {},
     "output_type": "execute_result"
    }
   ],
   "source": [
    "x_train_pad.shape"
   ]
  },
  {
   "cell_type": "markdown",
   "metadata": {},
   "source": [
    "The matrix for the test-set has the same shape:"
   ]
  },
  {
   "cell_type": "code",
   "execution_count": 45,
   "metadata": {
    "scrolled": true
   },
   "outputs": [
    {
     "data": {
      "text/plain": [
       "(111, 656)"
      ]
     },
     "execution_count": 45,
     "metadata": {},
     "output_type": "execute_result"
    }
   ],
   "source": [
    "x_test_pad.shape"
   ]
  },
  {
   "cell_type": "markdown",
   "metadata": {},
   "source": [
    "For example, we had the following sequence of tokens above:"
   ]
  },
  {
   "cell_type": "markdown",
   "metadata": {},
   "source": [
    "## Tokenizer Inverse Map\n",
    "\n",
    "For some strange reason, the Keras implementation of a tokenizer does not seem to have the inverse mapping from integer-tokens back to words, which is needed to reconstruct text-strings from lists of tokens. So we make that mapping here."
   ]
  },
  {
   "cell_type": "code",
   "execution_count": 46,
   "metadata": {},
   "outputs": [],
   "source": [
    "idx = tokenizer.word_index\n",
    "inverse_map = dict(zip(idx.values(), idx.keys()))"
   ]
  },
  {
   "cell_type": "markdown",
   "metadata": {},
   "source": [
    "Helper-function for converting a list of tokens back to a string of words."
   ]
  },
  {
   "cell_type": "code",
   "execution_count": 47,
   "metadata": {},
   "outputs": [],
   "source": [
    "def tokens_to_string(tokens):\n",
    "    # Map from tokens back to words.\n",
    "    words = [inverse_map[token] for token in tokens if token != 0]\n",
    "    \n",
    "    # Concatenate all words.\n",
    "    text = \" \".join(words)\n",
    "\n",
    "    return text"
   ]
  },
  {
   "cell_type": "markdown",
   "metadata": {},
   "source": [
    "For example, this is the original text from the data-set:"
   ]
  },
  {
   "cell_type": "code",
   "execution_count": 48,
   "metadata": {
    "scrolled": true
   },
   "outputs": [],
   "source": [
    "#x_train_text[1]"
   ]
  },
  {
   "cell_type": "markdown",
   "metadata": {},
   "source": [
    "We can recreate this text except for punctuation and other symbols, by converting the list of tokens back to words:"
   ]
  },
  {
   "cell_type": "code",
   "execution_count": 49,
   "metadata": {},
   "outputs": [],
   "source": [
    "#tokens_to_string(x_train_tokens[1])"
   ]
  },
  {
   "cell_type": "code",
   "execution_count": null,
   "metadata": {},
   "outputs": [],
   "source": []
  },
  {
   "cell_type": "markdown",
   "metadata": {},
   "source": [
    "## Performance on Test-Set\n",
    "\n",
    "Now that the model has been trained we can calculate its classification accuracy on the test-set."
   ]
  },
  {
   "cell_type": "code",
   "execution_count": 43,
   "metadata": {},
   "outputs": [
    {
     "name": "stderr",
     "output_type": "stream",
     "text": [
      "/home/danish/anaconda3/envs/tf/lib/python3.6/site-packages/ipykernel_launcher.py:7: UserWarning: Update your `Dense` call to the Keras 2 API: `Dense(50, input_dim=656, activation=\"relu\", kernel_initializer=\"uniform\")`\n",
      "  import sys\n"
     ]
    }
   ],
   "source": [
    "#from keras import regularizers\n",
    "from keras.regularizers import l2\n",
    "\n",
    "\n",
    "# define the architecture of the network\n",
    "model = Sequential()\n",
    "model.add(Dense(50, input_dim=656, init=\"uniform\", activation=\"relu\"))#,kernel_regularizer=l2(0.001)))#, kernel_regularizer=regularizers.l2(0.01)))\n",
    "model.add(Dense(10, activation=\"relu\",kernel_initializer=\"uniform\"))#, kernel_regularizer=regularizers.l2(0.01)))\n",
    "model.add(Dense(2, activation='softmax'))\n"
   ]
  },
  {
   "cell_type": "code",
   "execution_count": 44,
   "metadata": {},
   "outputs": [
    {
     "name": "stdout",
     "output_type": "stream",
     "text": [
      "_________________________________________________________________\n",
      "Layer (type)                 Output Shape              Param #   \n",
      "=================================================================\n",
      "dense_1 (Dense)              (None, 50)                32850     \n",
      "_________________________________________________________________\n",
      "dense_2 (Dense)              (None, 10)                510       \n",
      "_________________________________________________________________\n",
      "dense_3 (Dense)              (None, 1)                 11        \n",
      "=================================================================\n",
      "Total params: 33,371\n",
      "Trainable params: 33,371\n",
      "Non-trainable params: 0\n",
      "_________________________________________________________________\n",
      "None\n"
     ]
    }
   ],
   "source": [
    "from keras.optimizers import SGD\n",
    "\n",
    "adam = Adam(lr=1e-3)\n",
    "sgd = SGD(lr=0.01, decay=0.01, momentum=0.9)\n",
    "model.compile(loss='categorical_crossentropy', optimizer=adam, metrics=['accuracy'])\n",
    "print(model.summary())"
   ]
  },
  {
   "cell_type": "code",
   "execution_count": 45,
   "metadata": {},
   "outputs": [
    {
     "name": "stdout",
     "output_type": "stream",
     "text": [
      "Train on 440 samples, validate on 111 samples\n",
      "Epoch 1/50\n",
      "440/440 [==============================] - 1s 3ms/step - loss: 8.3882 - acc: 0.4614 - val_loss: 7.0322 - val_acc: 0.5586\n",
      "Epoch 2/50\n",
      "440/440 [==============================] - 0s 53us/step - loss: 8.4328 - acc: 0.4750 - val_loss: 7.0386 - val_acc: 0.5586\n",
      "Epoch 3/50\n",
      "440/440 [==============================] - 0s 61us/step - loss: 8.4256 - acc: 0.4750 - val_loss: 7.0283 - val_acc: 0.5586\n",
      "Epoch 4/50\n",
      "440/440 [==============================] - 0s 57us/step - loss: 8.4018 - acc: 0.4750 - val_loss: 6.9767 - val_acc: 0.5586\n",
      "Epoch 5/50\n",
      "440/440 [==============================] - 0s 75us/step - loss: 8.2625 - acc: 0.4727 - val_loss: 7.2839 - val_acc: 0.3694\n",
      "Epoch 6/50\n",
      "440/440 [==============================] - 0s 123us/step - loss: 4.9258 - acc: 0.4614 - val_loss: 4.5076 - val_acc: 0.5495\n",
      "Epoch 7/50\n",
      "440/440 [==============================] - 0s 96us/step - loss: 3.3274 - acc: 0.5682 - val_loss: 1.9696 - val_acc: 0.6306\n",
      "Epoch 8/50\n",
      "440/440 [==============================] - 0s 90us/step - loss: 1.9446 - acc: 0.6636 - val_loss: 1.5511 - val_acc: 0.7117\n",
      "Epoch 9/50\n",
      "440/440 [==============================] - 0s 73us/step - loss: 1.1828 - acc: 0.7523 - val_loss: 0.7794 - val_acc: 0.8198\n",
      "Epoch 10/50\n",
      "440/440 [==============================] - 0s 86us/step - loss: 0.7841 - acc: 0.7841 - val_loss: 0.6062 - val_acc: 0.8378\n",
      "Epoch 11/50\n",
      "440/440 [==============================] - 0s 79us/step - loss: 0.6622 - acc: 0.8250 - val_loss: 0.3349 - val_acc: 0.9009\n",
      "Epoch 12/50\n",
      "440/440 [==============================] - 0s 68us/step - loss: 0.4936 - acc: 0.8682 - val_loss: 0.4412 - val_acc: 0.8649\n",
      "Epoch 13/50\n",
      "440/440 [==============================] - 0s 90us/step - loss: 0.3067 - acc: 0.9091 - val_loss: 0.3346 - val_acc: 0.8739\n",
      "Epoch 14/50\n",
      "440/440 [==============================] - 0s 95us/step - loss: 0.2313 - acc: 0.9227 - val_loss: 0.2314 - val_acc: 0.9459\n",
      "Epoch 15/50\n",
      "440/440 [==============================] - 0s 63us/step - loss: 0.1833 - acc: 0.9523 - val_loss: 0.2637 - val_acc: 0.9189\n",
      "Epoch 16/50\n",
      "440/440 [==============================] - 0s 63us/step - loss: 0.1780 - acc: 0.9545 - val_loss: 0.2579 - val_acc: 0.9279\n",
      "Epoch 17/50\n",
      "440/440 [==============================] - 0s 83us/step - loss: 0.1618 - acc: 0.9614 - val_loss: 0.2613 - val_acc: 0.9189\n",
      "Epoch 18/50\n",
      "440/440 [==============================] - 0s 100us/step - loss: 0.1620 - acc: 0.9591 - val_loss: 0.2484 - val_acc: 0.9189\n",
      "Epoch 19/50\n",
      "440/440 [==============================] - 0s 69us/step - loss: 0.1602 - acc: 0.9568 - val_loss: 0.2383 - val_acc: 0.9189\n",
      "Epoch 20/50\n",
      "440/440 [==============================] - 0s 68us/step - loss: 0.1459 - acc: 0.9614 - val_loss: 0.2253 - val_acc: 0.9550\n",
      "Epoch 21/50\n",
      "440/440 [==============================] - 0s 57us/step - loss: 0.1328 - acc: 0.9705 - val_loss: 0.2122 - val_acc: 0.9550\n",
      "Epoch 22/50\n",
      "440/440 [==============================] - 0s 54us/step - loss: 0.1237 - acc: 0.9727 - val_loss: 0.2075 - val_acc: 0.9550\n",
      "Epoch 23/50\n",
      "440/440 [==============================] - 0s 66us/step - loss: 0.1187 - acc: 0.9705 - val_loss: 0.2099 - val_acc: 0.9550\n",
      "Epoch 24/50\n",
      "440/440 [==============================] - 0s 66us/step - loss: 0.1154 - acc: 0.9727 - val_loss: 0.2038 - val_acc: 0.9550\n",
      "Epoch 25/50\n",
      "440/440 [==============================] - 0s 78us/step - loss: 0.1079 - acc: 0.9727 - val_loss: 0.2061 - val_acc: 0.9189\n",
      "Epoch 26/50\n",
      "440/440 [==============================] - 0s 90us/step - loss: 0.1033 - acc: 0.9727 - val_loss: 0.2004 - val_acc: 0.9369\n",
      "Epoch 27/50\n",
      "440/440 [==============================] - 0s 56us/step - loss: 0.1044 - acc: 0.9795 - val_loss: 0.2212 - val_acc: 0.9279\n",
      "Epoch 28/50\n",
      "440/440 [==============================] - 0s 90us/step - loss: 0.0969 - acc: 0.9864 - val_loss: 0.1971 - val_acc: 0.9640\n",
      "Epoch 29/50\n",
      "440/440 [==============================] - 0s 65us/step - loss: 0.0925 - acc: 0.9818 - val_loss: 0.2123 - val_acc: 0.9369\n",
      "Epoch 30/50\n",
      "440/440 [==============================] - 0s 60us/step - loss: 0.0930 - acc: 0.9795 - val_loss: 0.1844 - val_acc: 0.9640\n",
      "Epoch 31/50\n",
      "440/440 [==============================] - 0s 61us/step - loss: 0.0880 - acc: 0.9864 - val_loss: 0.1961 - val_acc: 0.9730\n",
      "Epoch 32/50\n",
      "440/440 [==============================] - 0s 90us/step - loss: 0.0916 - acc: 0.9841 - val_loss: 0.2078 - val_acc: 0.9369\n",
      "Epoch 33/50\n",
      "440/440 [==============================] - 0s 62us/step - loss: 0.0846 - acc: 0.9841 - val_loss: 0.1795 - val_acc: 0.9730\n",
      "Epoch 34/50\n",
      "440/440 [==============================] - 0s 58us/step - loss: 0.0830 - acc: 0.9864 - val_loss: 0.1887 - val_acc: 0.9730\n",
      "Epoch 35/50\n",
      "440/440 [==============================] - 0s 56us/step - loss: 0.0790 - acc: 0.9886 - val_loss: 0.1742 - val_acc: 0.9640\n",
      "Epoch 36/50\n",
      "440/440 [==============================] - 0s 67us/step - loss: 0.0771 - acc: 0.9886 - val_loss: 0.1753 - val_acc: 0.9640\n",
      "Epoch 37/50\n",
      "440/440 [==============================] - 0s 93us/step - loss: 0.0738 - acc: 0.9841 - val_loss: 0.1749 - val_acc: 0.9640\n",
      "Epoch 38/50\n",
      "440/440 [==============================] - 0s 54us/step - loss: 0.0710 - acc: 0.9886 - val_loss: 0.2047 - val_acc: 0.9369\n",
      "Epoch 39/50\n",
      "440/440 [==============================] - 0s 93us/step - loss: 0.0788 - acc: 0.9886 - val_loss: 0.1707 - val_acc: 0.9730\n",
      "Epoch 40/50\n",
      "440/440 [==============================] - 0s 100us/step - loss: 0.0709 - acc: 0.9864 - val_loss: 0.1760 - val_acc: 0.9459\n",
      "Epoch 41/50\n",
      "440/440 [==============================] - 0s 60us/step - loss: 0.0707 - acc: 0.9864 - val_loss: 0.1746 - val_acc: 0.9459\n",
      "Epoch 42/50\n",
      "440/440 [==============================] - 0s 72us/step - loss: 0.0674 - acc: 0.9864 - val_loss: 0.2004 - val_acc: 0.9369\n",
      "Epoch 43/50\n",
      "440/440 [==============================] - 0s 60us/step - loss: 0.0699 - acc: 0.9886 - val_loss: 0.1662 - val_acc: 0.9730\n",
      "Epoch 44/50\n",
      "440/440 [==============================] - 0s 82us/step - loss: 0.0641 - acc: 0.9886 - val_loss: 0.1607 - val_acc: 0.9730\n",
      "Epoch 45/50\n",
      "440/440 [==============================] - 0s 62us/step - loss: 0.0594 - acc: 0.9886 - val_loss: 0.1602 - val_acc: 0.9730\n",
      "Epoch 46/50\n",
      "440/440 [==============================] - 0s 64us/step - loss: 0.0573 - acc: 0.9886 - val_loss: 0.1642 - val_acc: 0.9730\n",
      "Epoch 47/50\n",
      "440/440 [==============================] - 0s 71us/step - loss: 0.0556 - acc: 0.9886 - val_loss: 0.1597 - val_acc: 0.9730\n",
      "Epoch 48/50\n",
      "440/440 [==============================] - 0s 63us/step - loss: 0.0543 - acc: 0.9886 - val_loss: 0.1581 - val_acc: 0.9730\n",
      "Epoch 49/50\n",
      "440/440 [==============================] - 0s 69us/step - loss: 0.0525 - acc: 0.9886 - val_loss: 0.1604 - val_acc: 0.9730\n",
      "Epoch 50/50\n",
      "440/440 [==============================] - 0s 76us/step - loss: 0.0504 - acc: 0.9909 - val_loss: 0.1541 - val_acc: 0.9730\n",
      "CPU times: user 3.14 s, sys: 217 ms, total: 3.35 s\n",
      "Wall time: 4.33 s\n"
     ]
    }
   ],
   "source": [
    "%%time\n",
    "history = model.fit(x_train_pad, y_train,\n",
    "          validation_data=(x_test_pad, y_test), epochs=50, batch_size=64)\n"
   ]
  },
  {
   "cell_type": "code",
   "execution_count": 46,
   "metadata": {},
   "outputs": [
    {
     "name": "stdout",
     "output_type": "stream",
     "text": [
      "111/111 [==============================] - 0s 89us/step\n",
      "Elasped Time (s) =  0.012779474258422852\n"
     ]
    }
   ],
   "source": [
    "import time\n",
    "tic = time.time();\n",
    "\n",
    "result = model.evaluate(x_test_pad, y_test)\n",
    "\n",
    "toc = time.time();\n",
    "print (\"Elasped Time (s) = \", toc-tic);"
   ]
  },
  {
   "cell_type": "code",
   "execution_count": 47,
   "metadata": {},
   "outputs": [
    {
     "name": "stdout",
     "output_type": "stream",
     "text": [
      "Accuracy: 97.30%\n"
     ]
    }
   ],
   "source": [
    "print(\"Accuracy: {0:.2%}\".format(result[1]))"
   ]
  },
  {
   "cell_type": "code",
   "execution_count": 48,
   "metadata": {},
   "outputs": [],
   "source": [
    "model.save(\"FCN.h5\")"
   ]
  },
  {
   "cell_type": "code",
   "execution_count": 49,
   "metadata": {},
   "outputs": [],
   "source": [
    "#####################################\n",
    "# write Traning History to a file\n",
    "output = open('History.pkl', 'wb')\n",
    "pickle.dump(history.history, output)\n",
    "output.close()\n",
    "#####################################"
   ]
  },
  {
   "cell_type": "code",
   "execution_count": 5,
   "metadata": {},
   "outputs": [],
   "source": [
    "\n",
    "# read Traning History back from the file\n",
    "pkl_file = open('History.pkl', 'rb')\n",
    "history = pickle.load(pkl_file)\n",
    "pkl_file.close()"
   ]
  },
  {
   "cell_type": "code",
   "execution_count": 9,
   "metadata": {},
   "outputs": [],
   "source": [
    "import pandas as pd\n",
    "# convert the history.history dict to a pandas DataFrame:     \n",
    "hist_df = pd.DataFrame(history) \n",
    "\n",
    "csv_file = 'FCN-History.csv'\n",
    "with open(csv_file, mode='w') as f:\n",
    "    hist_df.to_csv(f)"
   ]
  },
  {
   "cell_type": "code",
   "execution_count": 51,
   "metadata": {},
   "outputs": [],
   "source": [
    "def plot_history(history):\n",
    "    loss_list = [s for s in history.keys() if 'loss' in s and 'val' not in s]\n",
    "    val_loss_list = [s for s in history.keys() if 'loss' in s and 'val' in s]\n",
    "    acc_list = [s for s in history.keys() if 'acc' in s and 'val' not in s]\n",
    "    val_acc_list = [s for s in history.keys() if 'acc' in s and 'val' in s]\n",
    "    plt.figure(figsize = (25,7))\n",
    "    if len(loss_list) == 0:\n",
    "        print('Loss is missing in history')\n",
    "        return \n",
    "    \n",
    "    ## As loss always exists\n",
    "    epochs = range(1,len(history[loss_list[0]]) + 1)\n",
    "    \n",
    "    ## Loss\n",
    "    plt.figure(1)\n",
    "    for l in loss_list:\n",
    "        plt.plot(epochs, history[l], 'b', label='Training loss (' + str(str(format(history[l][-1],'.5f'))+')'))\n",
    "    for l in val_loss_list:\n",
    "        plt.plot(epochs, history[l], 'g', label='Testing loss (' + str(str(format(history[l][-1],'.5f'))+')'))\n",
    "    \n",
    "    plt.title('Loss')\n",
    "    plt.xlabel('Epochs')\n",
    "    plt.ylabel('Loss')\n",
    "    plt.legend()\n",
    "    plt.savefig('_Graph#######LOSS.png', bbox_inches='tight')\n",
    "    \n",
    "    \n",
    "    ## Accuracy\n",
    "    plt.figure(figsize = (25,7))\n",
    "    plt.figure(2)\n",
    "    for l in acc_list:\n",
    "        plt.plot(epochs, history[l], 'b', label='Training accuracy (' + str(format(history[l][-1],'.5f'))+')')\n",
    "    for l in val_acc_list:    \n",
    "        plt.plot(epochs, history[l], 'g', label='Testing accuracy (' + str(format(history[l][-1],'.5f'))+')')\n",
    "\n",
    "    plt.title('Accuracy')\n",
    "    plt.xlabel('Epochs')\n",
    "    plt.ylabel('Accuracy')\n",
    "    plt.legend()\n",
    "    plt.savefig('_Graph#######ACC.png', bbox_inches='tight')\n",
    "    plt.show()"
   ]
  },
  {
   "cell_type": "code",
   "execution_count": 52,
   "metadata": {},
   "outputs": [
    {
     "data": {
      "image/png": "[encoded data removed]",
      "text/plain": [
       "<matplotlib.figure.Figure at 0x7f6a1e478358>"
      ]
     },
     "metadata": {},
     "output_type": "display_data"
    },
    {
     "data": {
      "image/png": "[encoded data removed]",
      "text/plain": [
       "<matplotlib.figure.Figure at 0x7f6a1dadc5c0>"
      ]
     },
     "metadata": {},
     "output_type": "display_data"
    }
   ],
   "source": [
    "plot_history(history)"
   ]
  },
  {
   "cell_type": "markdown",
   "metadata": {},
   "source": [
    "## Example of Mis-Classified Text\n",
    "\n",
    "In order to show an example of mis-classified text, we first calculate the predicted sentiment for the first 1000 texts in the test-set."
   ]
  },
  {
   "cell_type": "code",
   "execution_count": 53,
   "metadata": {},
   "outputs": [
    {
     "name": "stdout",
     "output_type": "stream",
     "text": [
      "111/111 [==============================] - 0s 2ms/step\n",
      "CPU times: user 40.9 ms, sys: 106 µs, total: 41 ms\n",
      "Wall time: 190 ms\n"
     ]
    }
   ],
   "source": [
    "%%time\n",
    "y_pred = model.predict(x=x_test_pad,verbose=1)\n",
    "#y_pred = y_pred.T[0]"
   ]
  },
  {
   "cell_type": "code",
   "execution_count": 54,
   "metadata": {},
   "outputs": [
    {
     "data": {
      "text/plain": [
       "(111,)"
      ]
     },
     "execution_count": 54,
     "metadata": {},
     "output_type": "execute_result"
    }
   ],
   "source": [
    "cls_pred = np.array([1 if p>0.5 else 0 for p in y_pred])\n",
    "cls_pred.shape"
   ]
  },
  {
   "cell_type": "code",
   "execution_count": 55,
   "metadata": {},
   "outputs": [
    {
     "data": {
      "text/plain": [
       "(111,)"
      ]
     },
     "execution_count": 55,
     "metadata": {},
     "output_type": "execute_result"
    }
   ],
   "source": [
    "np.array(y_test).shape"
   ]
  },
  {
   "cell_type": "code",
   "execution_count": null,
   "metadata": {},
   "outputs": [],
   "source": []
  },
  {
   "cell_type": "code",
   "execution_count": 56,
   "metadata": {},
   "outputs": [
    {
     "name": "stdout",
     "output_type": "stream",
     "text": [
      "Predict  0        1        \n",
      "Actual\n",
      "0        61       1        \n",
      "\n",
      "1        2        47       \n",
      "\n",
      "\n",
      "\n",
      "\n",
      "\n",
      "Overall Statistics : \n",
      "\n",
      "95% CI                                                            (0.94281,1.00314)\n",
      "ACC Macro                                                         0.97297\n",
      "AUNP                                                              0.97153\n",
      "AUNU                                                              0.97153\n",
      "Bennett S                                                         0.94595\n",
      "CBA                                                               0.96372\n",
      "Chi-Squared                                                       99.17511\n",
      "Chi-Squared DF                                                    1\n",
      "Conditional Entropy                                               0.17514\n",
      "Cramer V                                                          0.94524\n",
      "Cross Entropy                                                     0.99032\n",
      "F1 Macro                                                          0.97254\n",
      "F1 Micro                                                          0.97297\n",
      "Gwet AC1                                                          0.94679\n",
      "Hamming Loss                                                      0.02703\n",
      "Joint Entropy                                                     1.16522\n",
      "KL Divergence                                                     0.00024\n",
      "Kappa                                                             0.94508\n",
      "Kappa 95% CI                                                      (0.88377,1.00638)\n",
      "Kappa No Prevalence                                               0.94595\n",
      "Kappa Standard Error                                              0.03128\n",
      "Kappa Unbiased                                                    0.94507\n",
      "Lambda A                                                          0.93878\n",
      "Lambda B                                                          0.9375\n",
      "Mutual Information                                                0.81165\n",
      "NIR                                                               0.55856\n",
      "Overall ACC                                                       0.97297\n",
      "Overall CEN                                                       0.1653\n",
      "Overall J                                                         (1.89312,0.94656)\n",
      "Overall MCC                                                       0.94524\n",
      "Overall MCEN                                                      0.13933\n",
      "Overall RACC                                                      0.50791\n",
      "Overall RACCU                                                     0.50795\n",
      "P-Value                                                           0.0\n",
      "PPV Macro                                                         0.97371\n",
      "PPV Micro                                                         0.97297\n",
      "Pearson C                                                         0.68693\n",
      "Phi-Squared                                                       0.89347\n",
      "RCI                                                               0.81978\n",
      "RR                                                                55.5\n",
      "Reference Entropy                                                 0.99008\n",
      "Response Entropy                                                  0.98679\n",
      "SOA1(Landis & Koch)                                               Almost Perfect\n",
      "SOA2(Fleiss)                                                      Excellent\n",
      "SOA3(Altman)                                                      Very Good\n",
      "SOA4(Cicchetti)                                                   Excellent\n",
      "SOA5(Cramer)                                                      Very Strong\n",
      "SOA6(Matthews)                                                    Very Strong\n",
      "Scott PI                                                          0.94507\n",
      "Standard Error                                                    0.01539\n",
      "TPR Macro                                                         0.97153\n",
      "TPR Micro                                                         0.97297\n",
      "Zero-one Loss                                                     3\n",
      "\n",
      "Class Statistics :\n",
      "\n",
      "Classes                                                           0             1             \n",
      "ACC(Accuracy)                                                     0.97297       0.97297       \n",
      "AGF(Adjusted F-score)                                             0.9779        0.96722       \n",
      "AGM(Adjusted geometric mean)                                      0.96769       0.9759        \n",
      "AM(Difference between automatic and manual classification)        1             -1            \n",
      "AUC(Area under the ROC curve)                                     0.97153       0.97153       \n",
      "AUCI(AUC value interpretation)                                    Excellent     Excellent     \n",
      "AUPR(Area under the PR curve)                                     0.97606       0.96918       \n",
      "BCD(Bray-Curtis dissimilarity)                                    0.0045        0.0045        \n",
      "BM(Informedness or bookmaker informedness)                        0.94305       0.94305       \n",
      "CEN(Confusion entropy)                                            0.15118       0.1835        \n",
      "DOR(Diagnostic odds ratio)                                        1433.5        1433.5        \n",
      "DP(Discriminant power)                                            1.74021       1.74021       \n",
      "DPI(Discriminant power interpretation)                            Limited       Limited       \n",
      "ERR(Error rate)                                                   0.02703       0.02703       \n",
      "F0.5(F0.5 score)                                                  0.97134       0.9751        \n",
      "F1(F1 score - harmonic mean of precision and sensitivity)         0.976         0.96907       \n",
      "F2(F2 score)                                                      0.98071       0.96311       \n",
      "FDR(False discovery rate)                                         0.03175       0.02083       \n",
      "FN(False negative/miss/type 2 error)                              1             2             \n",
      "FNR(Miss rate or false negative rate)                             0.01613       0.04082       \n",
      "FOR(False omission rate)                                          0.02083       0.03175       \n",
      "FP(False positive/type 1 error/false alarm)                       2             1             \n",
      "FPR(Fall-out or false positive rate)                              0.04082       0.01613       \n",
      "G(G-measure geometric mean of precision and sensitivity)          0.97603       0.96912       \n",
      "GI(Gini index)                                                    0.94305       0.94305       \n",
      "GM(G-mean geometric mean of specificity and sensitivity)          0.97145       0.97145       \n",
      "IBA(Index of balanced accuracy)                                   0.96701       0.92042       \n",
      "IS(Information score)                                             0.79368       1.14933       \n",
      "J(Jaccard index)                                                  0.95312       0.94          \n",
      "LS(Lift score)                                                    1.73349       2.21811       \n",
      "MCC(Matthews correlation coefficient)                             0.94524       0.94524       \n",
      "MCCI(Matthews correlation coefficient interpretation)             Very Strong   Very Strong   \n",
      "MCEN(Modified confusion entropy)                                  0.25          0.29863       \n",
      "MK(Markedness)                                                    0.94742       0.94742       \n",
      "N(Condition negative)                                             49            62            \n",
      "NLR(Negative likelihood ratio)                                    0.01682       0.04149       \n",
      "NLRI(Negative likelihood ratio interpretation)                    Good          Good          \n",
      "NPV(Negative predictive value)                                    0.97917       0.96825       \n",
      "OC(Overlap coefficient)                                           0.98387       0.97917       \n",
      "OOC(Otsuka-Ochiai coefficient)                                    0.97603       0.96912       \n",
      "OP(Optimized precision)                                           0.96027       0.96027       \n",
      "P(Condition positive or support)                                  62            49            \n",
      "PLR(Positive likelihood ratio)                                    24.10484      59.46939      \n",
      "PLRI(Positive likelihood ratio interpretation)                    Good          Good          \n",
      "POP(Population)                                                   111           111           \n",
      "PPV(Precision or positive predictive value)                       0.96825       0.97917       \n",
      "PRE(Prevalence)                                                   0.55856       0.44144       \n",
      "Q(Yule Q - coefficient of colligation)                            0.99861       0.99861       \n",
      "RACC(Random accuracy)                                             0.31702       0.19089       \n",
      "RACCU(Random accuracy unbiased)                                   0.31704       0.19091       \n",
      "TN(True negative/correct rejection)                               47            61            \n",
      "TNR(Specificity or true negative rate)                            0.95918       0.98387       \n",
      "TON(Test outcome negative)                                        48            63            \n",
      "TOP(Test outcome positive)                                        63            48            \n",
      "TP(True positive/hit)                                             61            47            \n",
      "TPR(Sensitivity, recall, hit rate, or true positive rate)         0.98387       0.95918       \n",
      "Y(Youden index)                                                   0.94305       0.94305       \n",
      "dInd(Distance index)                                              0.04389       0.04389       \n",
      "sInd(Similarity index)                                            0.96897       0.96897       \n",
      "\n"
     ]
    }
   ],
   "source": [
    "from pycm import ConfusionMatrix\n",
    "\n",
    "CM_FCN = ConfusionMatrix(y_test, cls_pred)\n",
    "output = open('CM_FCN.pkl', 'wb')\n",
    "pickle.dump(CM_FCN, output)\n",
    "output.close()\n",
    "\n",
    "print(CM_FCN)"
   ]
  },
  {
   "cell_type": "code",
   "execution_count": 11,
   "metadata": {},
   "outputs": [],
   "source": [
    "file = open('CM_FCN.pkl', 'rb')\n",
    "CM_FCN = pickle.load(file)\n",
    "file.close()"
   ]
  },
  {
   "cell_type": "code",
   "execution_count": 12,
   "metadata": {},
   "outputs": [
    {
     "data": {
      "text/plain": [
       "{'Status': True,\n",
       " 'Message': '/data/danish/ImgProPython/TensorFlow-Tutorials/Ensemble-Networks/IoT-Ensemble/FCN/CM-FCN.csv'}"
      ]
     },
     "execution_count": 12,
     "metadata": {},
     "output_type": "execute_result"
    }
   ],
   "source": [
    "CM_FCN.save_csv(\"CM-FCN\",address=True)"
   ]
  },
  {
   "cell_type": "code",
   "execution_count": 57,
   "metadata": {},
   "outputs": [
    {
     "data": {
      "text/plain": [
       "{'0': 2, '1': 1}"
      ]
     },
     "execution_count": 57,
     "metadata": {},
     "output_type": "execute_result"
    }
   ],
   "source": [
    "CM_FCN.FP"
   ]
  },
  {
   "cell_type": "code",
   "execution_count": 58,
   "metadata": {},
   "outputs": [
    {
     "name": "stdout",
     "output_type": "stream",
     "text": [
      "(111, 2)\n",
      "(111, 2)\n"
     ]
    }
   ],
   "source": [
    "from numpy import array\n",
    "from numpy import argmax\n",
    "from keras.utils import to_categorical\n",
    "\n",
    "y_pred = to_categorical(cls_pred)\n",
    "print(y_pred.shape)\n",
    "\n",
    "ytest = to_categorical(y_test)\n",
    "print(ytest.shape)\n"
   ]
  },
  {
   "cell_type": "code",
   "execution_count": 59,
   "metadata": {},
   "outputs": [],
   "source": [
    "import numpy as np\n",
    "import matplotlib.pyplot as plt\n",
    "from itertools import cycle\n",
    "\n",
    "from sklearn import svm, datasets\n",
    "from sklearn.metrics import roc_curve, auc\n",
    "from sklearn.model_selection import train_test_split\n",
    "from sklearn.preprocessing import label_binarize\n",
    "from sklearn.multiclass import OneVsRestClassifier\n",
    "from scipy import interp\n",
    "\n",
    "# Compute ROC curve and ROC area for each class\n",
    "fpr = dict()\n",
    "tpr = dict()\n",
    "roc_auc = dict()\n",
    "for i in range(2):\n",
    "    fpr[i], tpr[i], _ = roc_curve(ytest[:, i], y_pred[:, i])\n",
    "    roc_auc[i] = auc(fpr[i], tpr[i])\n",
    "    #print(\"False-Positive-Rate\",argmax(fpr[i],axis=1))\n",
    "    #print(\"True-Positive-Rate\",argmax(tpr[i],axis=1))\n",
    "    #print(\"ROC_AUC\",argmax(roc_auc[i],axis=0))\n",
    "\n",
    "# Compute micro-average ROC curve and ROC area\n",
    "fpr[\"micro\"], tpr[\"micro\"], _ = roc_curve(ytest.ravel(), y_pred.ravel())\n",
    "roc_auc[\"micro\"] = auc(fpr[\"micro\"], tpr[\"micro\"])"
   ]
  },
  {
   "cell_type": "code",
   "execution_count": 60,
   "metadata": {},
   "outputs": [
    {
     "data": {
      "image/png": "[encoded data removed]",
      "text/plain": [
       "<matplotlib.figure.Figure at 0x7f6a1dac6908>"
      ]
     },
     "metadata": {},
     "output_type": "display_data"
    }
   ],
   "source": [
    "# First aggregate all false positive rates\n",
    "all_fpr = np.unique(np.concatenate([fpr[i] for i in range(2)]))\n",
    "\n",
    "list_fams = ['Benign','Malware']\n",
    "# Then interpolate all ROC curves at this points\n",
    "mean_tpr = np.zeros_like(all_fpr)\n",
    "for i in range(2):\n",
    "    mean_tpr += interp(all_fpr, fpr[i], tpr[i])\n",
    "\n",
    "# Finally average it and compute AUC\n",
    "mean_tpr /= 2\n",
    "\n",
    "fpr[\"macro\"] = all_fpr\n",
    "tpr[\"macro\"] = mean_tpr\n",
    "roc_auc[\"macro\"] = auc(fpr[\"macro\"], tpr[\"macro\"])\n",
    "\n",
    "\n",
    "# Plot all ROC curves\n",
    "#plt.figure()\n",
    "#plt.figure(figsize = (25,9))\n",
    "\n",
    "#plt.plot(fpr[\"micro\"], tpr[\"micro\"],\n",
    "#         label='micro-average ROC curve (area = {0:0.2f})'\n",
    "#               ''.format(roc_auc[\"micro\"]),\n",
    "#         color='deeppink', linestyle=':', linewidth=4)\n",
    "\n",
    "#plt.plot(fpr[\"macro\"], tpr[\"macro\"],\n",
    "#         label='macro-average ROC curve (area = {0:0.2f})'\n",
    "#               ''.format(roc_auc[\"macro\"]),\n",
    "#         color='navy', linestyle=':', linewidth=4)\n",
    "\n",
    "\n",
    "colormap = plt.cm.gist_ncar #nipy_spectral, Set1,Paired  \n",
    "colorst = [colormap(i) for i in np.linspace(0, 0.9,25)]  \n",
    "\n",
    "colors = cycle(['aqua', 'darkorange', 'cornflowerblue'])\n",
    "for i, color in zip(range(2), colors):\n",
    "    plt.plot(fpr[i], tpr[i], \n",
    "             label='ROC curve of Family {0} (area = {1:0.2f})'\n",
    "             ''.format(list_fams[i], roc_auc[i]))\n",
    "\n",
    "plt.plot([0, 1], [0, 1], 'k--', lw=2)\n",
    "plt.xlim([0.0, 1.0])\n",
    "plt.ylim([0.0, 1.05])\n",
    "plt.xlabel('False Positive Rate')\n",
    "plt.ylabel('True Positive Rate')\n",
    "plt.title('Roc for FCN')\n",
    "plt.legend(loc=\"lower right\", fontsize='small')\n",
    "plt.savefig('Roc for FCN.png', transparent=True)\n",
    "plt.show()"
   ]
  },
  {
   "cell_type": "code",
   "execution_count": 61,
   "metadata": {},
   "outputs": [
    {
     "data": {
      "image/png": "[encoded data removed]",
      "text/plain": [
       "<matplotlib.figure.Figure at 0x7f6a1dac2a58>"
      ]
     },
     "metadata": {},
     "output_type": "display_data"
    }
   ],
   "source": [
    "import seaborn as sns\n",
    "list_fams = ['Benign','Malware']  \n",
    "\n",
    "def plot_confusion_matrix(cls_pred):\n",
    "    \n",
    "    cm = confusion_matrix(y_true=y_test, y_pred=cls_pred)\n",
    "    \n",
    "    cm=cm.astype('float')/cm.sum(axis=1)[:,np.newaxis]\n",
    "    \n",
    "    figure = plt.gcf()\n",
    "    figure.set_size_inches(20, 12)\n",
    "    sns.set(font_scale=1.25)\n",
    "    hm = sns.heatmap(cm, cbar=True, annot=True, square=True,\n",
    "                 annot_kws={'size': 9}, linewidth = 0.1,\n",
    "                 yticklabels=list_fams, xticklabels=list_fams)\n",
    "    plt.ylabel('True label')\n",
    "    plt.xlabel('Predicted label')\n",
    "    \n",
    "    plt.savefig('VGG16-Fine-tuned-softmax-Confusion-matrix(loss=SGD).png', bbox_inches='tight')\n",
    "    plt.show()\n",
    "    \n",
    "plot_confusion_matrix(cls_pred=cls_pred)"
   ]
  },
  {
   "cell_type": "code",
   "execution_count": null,
   "metadata": {},
   "outputs": [],
   "source": []
  },
  {
   "cell_type": "code",
   "execution_count": 62,
   "metadata": {},
   "outputs": [
    {
     "name": "stdout",
     "output_type": "stream",
     "text": [
      "All Classes\n",
      "Precision:  [ 0.96825397  0.97916667]\n",
      "Recall:  [ 0.98387097  0.95918367]\n",
      "F1 score:  [ 0.976       0.96907216]\n",
      "CPU times: user 427 µs, sys: 6.28 ms, total: 6.7 ms\n",
      "Wall time: 33.6 ms\n"
     ]
    }
   ],
   "source": [
    "%%time\n",
    "from sklearn.metrics import precision_recall_fscore_support, accuracy_score\n",
    "cls_true = cls_test = y_test\n",
    "accuracy = accuracy_score(cls_true, cls_pred)\n",
    "precision, recall, f1_score, support = precision_recall_fscore_support(cls_true, cls_pred, average=None)\n",
    "\n",
    "print(\"All Classes\")\n",
    "print(\"Precision: \", precision)\n",
    "print(\"Recall: \", recall)\n",
    "print(\"F1 score: \", f1_score)\n",
    "#print(\"Accuracy:\",accuracy)"
   ]
  },
  {
   "cell_type": "code",
   "execution_count": 63,
   "metadata": {},
   "outputs": [
    {
     "name": "stdout",
     "output_type": "stream",
     "text": [
      "Micro\n",
      "Precision:  0.972972972973\n",
      "Recall:  0.972972972973\n",
      "F1 score:  0.972972972973\n",
      "CPU times: user 3.94 ms, sys: 29 µs, total: 3.97 ms\n",
      "Wall time: 9.14 ms\n"
     ]
    }
   ],
   "source": [
    "%%time\n",
    "from sklearn.metrics import precision_recall_fscore_support, accuracy_score\n",
    "cls_true = cls_test = y_test\n",
    "accuracy = accuracy_score(cls_true, cls_pred)\n",
    "precision, recall, f1_score, _ = precision_recall_fscore_support(cls_true, cls_pred, average='micro')\n",
    "\n",
    "print(\"Micro\")\n",
    "print(\"Precision: \", precision)\n",
    "print(\"Recall: \", recall)\n",
    "print(\"F1 score: \", f1_score)"
   ]
  },
  {
   "cell_type": "code",
   "execution_count": 64,
   "metadata": {},
   "outputs": [
    {
     "name": "stdout",
     "output_type": "stream",
     "text": [
      "Macro\n",
      "Precision:  0.97371031746\n",
      "Recall:  0.971527320606\n",
      "F1 score:  0.972536082474\n",
      "CPU times: user 0 ns, sys: 3.19 ms, total: 3.19 ms\n",
      "Wall time: 13.4 ms\n"
     ]
    }
   ],
   "source": [
    "%%time\n",
    "from sklearn.metrics import precision_recall_fscore_support, accuracy_score\n",
    "cls_true = cls_test = y_test\n",
    "accuracy = accuracy_score(cls_true, cls_pred)\n",
    "precision, recall, f1_score, _ = precision_recall_fscore_support(cls_true, cls_pred, average='macro')\n",
    "\n",
    "print(\"Macro\")\n",
    "print(\"Precision: \", precision)\n",
    "print(\"Recall: \", recall)\n",
    "print(\"F1 score: \", f1_score)"
   ]
  },
  {
   "cell_type": "code",
   "execution_count": 65,
   "metadata": {},
   "outputs": [
    {
     "name": "stdout",
     "output_type": "stream",
     "text": [
      "weighted\n",
      "Precision:  0.973071285571\n",
      "Recall:  0.972972972973\n",
      "F1 score:  0.972941766509\n",
      "CPU times: user 6.19 ms, sys: 107 µs, total: 6.29 ms\n",
      "Wall time: 38.5 ms\n"
     ]
    }
   ],
   "source": [
    "%%time\n",
    "from sklearn.metrics import precision_recall_fscore_support, accuracy_score\n",
    "cls_true = cls_test = y_test\n",
    "accuracy = accuracy_score(cls_true, cls_pred)\n",
    "precision, recall, f1_score, _ = precision_recall_fscore_support(cls_true, cls_pred, average='weighted')\n",
    "\n",
    "print(\"weighted\")\n",
    "print(\"Precision: \", precision)\n",
    "print(\"Recall: \", recall)\n",
    "print(\"F1 score: \", f1_score)"
   ]
  },
  {
   "cell_type": "code",
   "execution_count": null,
   "metadata": {},
   "outputs": [],
   "source": []
  },
  {
   "cell_type": "code",
   "execution_count": null,
   "metadata": {},
   "outputs": [],
   "source": []
  },
  {
   "cell_type": "code",
   "execution_count": null,
   "metadata": {},
   "outputs": [],
   "source": []
  }
 ],
 "metadata": {
  "anaconda-cloud": {},
  "kernelspec": {
   "display_name": "Python 3",
   "language": "python",
   "name": "python3"
  },
  "language_info": {
   "codemirror_mode": {
    "name": "ipython",
    "version": 3
   },
   "file_extension": ".py",
   "mimetype": "text/x-python",
   "name": "python",
   "nbconvert_exporter": "python",
   "pygments_lexer": "ipython3",
   "version": "3.6.10"
  }
 },
 "nbformat": 4,
 "nbformat_minor": 1
}
