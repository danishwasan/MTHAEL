{
 "cells": [
  {
   "cell_type": "code",
   "execution_count": 1,
   "metadata": {},
   "outputs": [],
   "source": [
    "import os\n",
    "os.environ[\"CUDA_DEVICE_ORDER\"] = \"PCI_BUS_ID\"   # see issue #152\n",
    "os.environ[\"CUDA_VISIBLE_DEVICES\"] = \"0\""
   ]
  },
  {
   "cell_type": "code",
   "execution_count": 2,
   "metadata": {},
   "outputs": [
    {
     "name": "stderr",
     "output_type": "stream",
     "text": [
      "/home/danish/anaconda3/envs/tf/lib/python3.6/site-packages/tensorflow/python/framework/dtypes.py:523: FutureWarning: Passing (type, 1) or '1type' as a synonym of type is deprecated; in a future version of numpy, it will be understood as (type, (1,)) / '(1,)type'.\n",
      "  _np_qint8 = np.dtype([(\"qint8\", np.int8, 1)])\n",
      "/home/danish/anaconda3/envs/tf/lib/python3.6/site-packages/tensorflow/python/framework/dtypes.py:524: FutureWarning: Passing (type, 1) or '1type' as a synonym of type is deprecated; in a future version of numpy, it will be understood as (type, (1,)) / '(1,)type'.\n",
      "  _np_quint8 = np.dtype([(\"quint8\", np.uint8, 1)])\n",
      "/home/danish/anaconda3/envs/tf/lib/python3.6/site-packages/tensorflow/python/framework/dtypes.py:525: FutureWarning: Passing (type, 1) or '1type' as a synonym of type is deprecated; in a future version of numpy, it will be understood as (type, (1,)) / '(1,)type'.\n",
      "  _np_qint16 = np.dtype([(\"qint16\", np.int16, 1)])\n",
      "/home/danish/anaconda3/envs/tf/lib/python3.6/site-packages/tensorflow/python/framework/dtypes.py:526: FutureWarning: Passing (type, 1) or '1type' as a synonym of type is deprecated; in a future version of numpy, it will be understood as (type, (1,)) / '(1,)type'.\n",
      "  _np_quint16 = np.dtype([(\"quint16\", np.uint16, 1)])\n",
      "/home/danish/anaconda3/envs/tf/lib/python3.6/site-packages/tensorflow/python/framework/dtypes.py:527: FutureWarning: Passing (type, 1) or '1type' as a synonym of type is deprecated; in a future version of numpy, it will be understood as (type, (1,)) / '(1,)type'.\n",
      "  _np_qint32 = np.dtype([(\"qint32\", np.int32, 1)])\n",
      "/home/danish/anaconda3/envs/tf/lib/python3.6/site-packages/tensorflow/python/framework/dtypes.py:532: FutureWarning: Passing (type, 1) or '1type' as a synonym of type is deprecated; in a future version of numpy, it will be understood as (type, (1,)) / '(1,)type'.\n",
      "  np_resource = np.dtype([(\"resource\", np.ubyte, 1)])\n",
      "Using TensorFlow backend.\n"
     ]
    }
   ],
   "source": [
    "## extra imports to set GPU options\n",
    "import tensorflow as tf\n",
    "from keras import backend as k\n",
    "\n",
    "###################################\n",
    "# TensorFlow wizardry\n",
    "config = tf.ConfigProto()\n",
    "\n",
    "# Don't pre-allocate memory; allocate as-needed\n",
    "config.gpu_options.allow_growth = True\n",
    "\n",
    "# Only allow a total of half the GPU memory to be allocated\n",
    "config.gpu_options.per_process_gpu_memory_fraction = 1 # 0.5 for Half\n",
    "\n",
    "# Create a session with the above options specified.\n",
    "k.tensorflow_backend.set_session(tf.Session(config=config))\n"
   ]
  },
  {
   "cell_type": "code",
   "execution_count": 3,
   "metadata": {},
   "outputs": [],
   "source": [
    "#matplotlib inline\n",
    "import matplotlib.pyplot as plt\n",
    "import tensorflow as tf\n",
    "import numpy as np\n",
    "from scipy.spatial.distance import cdist"
   ]
  },
  {
   "cell_type": "code",
   "execution_count": 4,
   "metadata": {},
   "outputs": [
    {
     "name": "stdout",
     "output_type": "stream",
     "text": [
      "The Zen of Python, by Tim Peters\n",
      "\n",
      "Beautiful is better than ugly.\n",
      "Explicit is better than implicit.\n",
      "Simple is better than complex.\n",
      "Complex is better than complicated.\n",
      "Flat is better than nested.\n",
      "Sparse is better than dense.\n",
      "Readability counts.\n",
      "Special cases aren't special enough to break the rules.\n",
      "Although practicality beats purity.\n",
      "Errors should never pass silently.\n",
      "Unless explicitly silenced.\n",
      "In the face of ambiguity, refuse the temptation to guess.\n",
      "There should be one-- and preferably only one --obvious way to do it.\n",
      "Although that way may not be obvious at first unless you're Dutch.\n",
      "Now is better than never.\n",
      "Although never is often better than *right* now.\n",
      "If the implementation is hard to explain, it's a bad idea.\n",
      "If the implementation is easy to explain, it may be a good idea.\n",
      "Namespaces are one honking great idea -- let's do more of those!\n"
     ]
    }
   ],
   "source": [
    "import tensorflow as tf\n",
    "import keras\n",
    "from keras import backend as K\n",
    "from keras.models import Sequential\n",
    "from keras.layers import Activation\n",
    "from keras.layers.core import Dense\n",
    "from keras.optimizers import Adam\n",
    "from keras.metrics import categorical_crossentropy\n",
    "import math\n",
    "import numpy as np\n",
    "import matplotlib.pyplot as plt\n",
    "from PIL import Image\n",
    "import cv2\n",
    "import pandas as pd\n",
    "import numpy as np\n",
    "import keras\n",
    "from keras import backend as K\n",
    "from keras.models import Sequential\n",
    "from keras.layers import Activation\n",
    "from keras.layers import Dense, Flatten\n",
    "from keras.optimizers import Adam\n",
    "from keras.metrics import categorical_crossentropy\n",
    "from keras.preprocessing.image import ImageDataGenerator\n",
    "from keras.layers.normalization import BatchNormalization\n",
    "from keras.layers.convolutional import *\n",
    "from matplotlib import pyplot as plt\n",
    "from sklearn.metrics import confusion_matrix\n",
    "import itertools\n",
    "import matplotlib.pyplot as plt\n",
    "import os\n",
    "import pyqrcode\n",
    "import re\n",
    "from collections import *\n",
    "import this\n",
    "import pandas as pd\n",
    "import numpy as np\n",
    "from sklearn.model_selection import train_test_split\n",
    "\n",
    "import tensorflow as tf\n",
    "import keras\n",
    "import seaborn as sn\n",
    "import pandas as pd\n",
    "import numpy as np\n",
    "import linecache\n",
    "import sys\n",
    "import h5py\n",
    "import itertools\n",
    "import matplotlib.pyplot as plt\n",
    "import os\n",
    "import pickle\n",
    "import matplotlib.pyplot as plt; plt.rcdefaults()\n",
    "import numpy as np\n",
    "import matplotlib.pyplot as plt\n",
    "from keras.callbacks import ModelCheckpoint\n",
    "from keras.callbacks import TensorBoard\n",
    "from keras.callbacks import ReduceLROnPlateau\n",
    "from keras.callbacks import EarlyStopping\n",
    "from keras.callbacks import RemoteMonitor\n",
    "from keras.layers.merge import concatenate\n",
    "from keras.layers import AveragePooling2D, Convolution2D, Dense, Dropout, Flatten, Input, MaxPooling2D, ZeroPadding2D \n",
    "from keras.models import Model, Sequential"
   ]
  },
  {
   "cell_type": "code",
   "execution_count": 5,
   "metadata": {},
   "outputs": [],
   "source": [
    "# from tf.keras.models import Sequential  # This does not work!\n",
    "from keras.models import Sequential\n",
    "from keras.layers import Dense, GRU, Embedding\n",
    "from keras.optimizers import Adam\n",
    "from keras.preprocessing.text import Tokenizer\n",
    "from keras.preprocessing.sequence import pad_sequences"
   ]
  },
  {
   "cell_type": "markdown",
   "metadata": {},
   "source": [
    "This was developed using Python 3.6 (Anaconda) and package versions:"
   ]
  },
  {
   "cell_type": "code",
   "execution_count": 6,
   "metadata": {
    "scrolled": false
   },
   "outputs": [
    {
     "data": {
      "text/plain": [
       "'1.9.0'"
      ]
     },
     "execution_count": 6,
     "metadata": {},
     "output_type": "execute_result"
    }
   ],
   "source": [
    "tf.__version__"
   ]
  },
  {
   "cell_type": "code",
   "execution_count": 7,
   "metadata": {
    "scrolled": true
   },
   "outputs": [
    {
     "data": {
      "text/plain": [
       "'2.1.6-tf'"
      ]
     },
     "execution_count": 7,
     "metadata": {},
     "output_type": "execute_result"
    }
   ],
   "source": [
    "tf.keras.__version__"
   ]
  },
  {
   "cell_type": "markdown",
   "metadata": {},
   "source": [
    "## Load Data\n",
    "\n",
    "We will use a data-set consisting of 50000 reviews of movies from IMDB. Keras has a built-in function for downloading a similar data-set (but apparently half the size). However, Keras' version has already converted the text in the data-set to integer-tokens, which is a crucial part of working with natural languages that will also be demonstrated in this tutorial, so we download the actual text-data.\n",
    "\n",
    "NOTE: The data-set is 84 MB and will be downloaded automatically."
   ]
  },
  {
   "cell_type": "code",
   "execution_count": 8,
   "metadata": {},
   "outputs": [
    {
     "name": "stdout",
     "output_type": "stream",
     "text": [
      "/data/danish/Data/IoT_Malware_Opcodes/benign_Sequences/\n",
      "271\n",
      "271\n",
      "271\n"
     ]
    }
   ],
   "source": [
    "#import imdb\n",
    "relevant_path = \"/data/danish/Data/IoT_Malware_Opcodes/benign_Sequences/\"\n",
    "print(relevant_path)\n",
    "\n",
    "included_extentions = ['txt']\n",
    "file_names = [fn for fn in os.listdir(relevant_path)\n",
    "              if any(fn.endswith(ext) for ext in included_extentions)]\n",
    "print(len(file_names))\n",
    "\n",
    "X_train = []\n",
    "y_train = []\n",
    "wordCounter = {}\n",
    "for fn in file_names:\n",
    "    #file = open('/data/danish/Data/IoT_Malware_Opcodes/benign_Sequences/'+fn, 'r')\n",
    "    with open('/data/danish/Data/IoT_Malware_Opcodes/benign_Sequences/'+fn,'r') as fh:\n",
    "        for line in fh:\n",
    "            # Replacing punctuation characters. Making the string to lower.\n",
    "            # The split will spit the line into a list.\n",
    "            word_list = line.replace(',','').replace('\\'','').replace('.','').lower().split()\n",
    "        for word in word_list:\n",
    "              # Adding  the word into the wordCounter dictionary.\n",
    "            if word not in wordCounter:\n",
    "                wordCounter[word] = 1\n",
    "            else:\n",
    "                # if the word is already in the dictionary update its count.\n",
    "                wordCounter[word] = wordCounter[word] + 1\n",
    "    #print('{:15}{:3}'.format('Word','Count'))\n",
    "    #print('-' * 25)\n",
    "    \n",
    "    # printing the words and its occurrence.\n",
    "    #for  (word,occurance)  in wordCounter.items(): \n",
    "    #    print('{:15}{:3}'.format(word,occurance))\n",
    "\n",
    "    data=' '.join('{}'.format(keys) for keys in wordCounter.keys())\n",
    "    #data=' '.join('{}'.format(values) for values in wordCounter.values())\n",
    "\n",
    "    X_train.append(data)\n",
    "    y_train.append(0)\n",
    "    \n",
    "print(len(X_train))\n",
    "print(len(y_train)) \n",
    "\n"
   ]
  },
  {
   "cell_type": "raw",
   "metadata": {},
   "source": [
    "messages = [\"Hey hey hey lets get lunch :)\",\"I need a favor\"]\n",
    "from sklearn.feature_extraction.text import TfidfVectorizer\n",
    "vect = TfidfVectorizer()\n",
    "#dtm = vect.fit_transform(messages) # create DTM\n",
    "dtm = vect.fit_transform(X_train) # create DTM\n",
    "pd.DataFrame(dtm.toarray(), columns=vect.get_feature_names()) "
   ]
  },
  {
   "cell_type": "code",
   "execution_count": 9,
   "metadata": {},
   "outputs": [
    {
     "name": "stdout",
     "output_type": "stream",
     "text": [
      "/data/danish/Data/IoT_Malware_Opcodes/malicious_Sequences/\n",
      "280\n",
      "551\n",
      "551\n"
     ]
    }
   ],
   "source": [
    "#import imdb\n",
    "relevant_path = \"/data/danish/Data/IoT_Malware_Opcodes/malicious_Sequences/\"\n",
    "print(relevant_path)\n",
    "\n",
    "included_extentions = ['txt']\n",
    "file_names = [fn for fn in os.listdir(relevant_path)\n",
    "              if any(fn.endswith(ext) for ext in included_extentions)]\n",
    "print(len(file_names))\n",
    "\n",
    "\n",
    "for fn in file_names:\n",
    "    #file = open('/data/danish/Data/IoT_Malware_Opcodes/malicious_Sequences/'+fn, 'r')\n",
    "    with open('/data/danish/Data/IoT_Malware_Opcodes/malicious_Sequences/'+fn,'r') as fh:\n",
    "        for line in fh:\n",
    "            # Replacing punctuation characters. Making the string to lower.\n",
    "            # The split will spit the line into a list.\n",
    "            word_list = line.replace(',',' ').replace('\\'','').replace('.','').lower().split()\n",
    "        for word in word_list:\n",
    "              # Adding  the word into the wordCounter dictionary.\n",
    "            if word not in wordCounter:\n",
    "                wordCounter[word] = 1\n",
    "            else:\n",
    "                # if the word is already in the dictionary update its count.\n",
    "                wordCounter[word] = wordCounter[word] + 1\n",
    "    #print('{:15}{:3}'.format('Word','Count'))\n",
    "    #print('-' * 25)\n",
    "    \n",
    "    # printing the words and its occurrence.\n",
    "    #for  (word,occurance)  in wordCounter.items(): \n",
    "    #    print('{:15}{:3}'.format(word,occurance))\n",
    "\n",
    "    data=' '.join('{}'.format(keys) for keys in wordCounter.keys())\n",
    "    #data=' '.join('{}'.format(values) for values in wordCounter.values())\n",
    "\n",
    "    X_train.append(data)\n",
    "    y_train.append(1)\n",
    "    \n",
    "    \n",
    "print(len(X_train))\n",
    "print(len(y_train)) "
   ]
  },
  {
   "cell_type": "raw",
   "metadata": {},
   "source": [
    "messages = [\"Hey hey hey lets get lunch :)\",\"I need a favor\"]\n",
    "from sklearn.feature_extraction.text import TfidfVectorizer\n",
    "vect = TfidfVectorizer()\n",
    "#dtm = vect.fit_transform(messages) # create DTM\n",
    "dtm = vect.fit_transform(X_train) # create DTM\n",
    "#pd.DataFrame(dtm.toarray(), columns=vect.get_feature_names()) "
   ]
  },
  {
   "cell_type": "code",
   "execution_count": 10,
   "metadata": {},
   "outputs": [],
   "source": [
    "x_train_text, x_test_text, y_train, y_test = train_test_split(X_train, y_train, test_size=0.1)#, random_state=42)"
   ]
  },
  {
   "cell_type": "code",
   "execution_count": 11,
   "metadata": {},
   "outputs": [
    {
     "name": "stdout",
     "output_type": "stream",
     "text": [
      "495\n",
      "495\n",
      "56\n",
      "56\n"
     ]
    }
   ],
   "source": [
    "print(len(x_train_text))\n",
    "print(len(y_train)) \n",
    "print(len(x_test_text))\n",
    "print(len(y_test)) "
   ]
  },
  {
   "cell_type": "code",
   "execution_count": 12,
   "metadata": {},
   "outputs": [
    {
     "name": "stdout",
     "output_type": "stream",
     "text": [
      "Train-set size:  495\n",
      "Test-set size:   56\n"
     ]
    }
   ],
   "source": [
    "print(\"Train-set size: \", len(x_train_text))\n",
    "print(\"Test-set size:  \", len(x_test_text))\n"
   ]
  },
  {
   "cell_type": "code",
   "execution_count": 13,
   "metadata": {},
   "outputs": [],
   "source": [
    "from keras.utils import np_utils\n",
    "\n",
    "y_train = np_utils.to_categorical(y_train, 2)\n",
    "y_test = np_utils.to_categorical(y_test, 2)"
   ]
  },
  {
   "cell_type": "code",
   "execution_count": 14,
   "metadata": {},
   "outputs": [
    {
     "data": {
      "text/plain": [
       "array([[1., 0.],\n",
       "       [1., 0.],\n",
       "       [0., 1.],\n",
       "       [0., 1.],\n",
       "       [0., 1.],\n",
       "       [0., 1.],\n",
       "       [1., 0.],\n",
       "       [0., 1.],\n",
       "       [0., 1.],\n",
       "       [0., 1.],\n",
       "       [0., 1.],\n",
       "       [0., 1.],\n",
       "       [1., 0.],\n",
       "       [0., 1.],\n",
       "       [1., 0.],\n",
       "       [1., 0.],\n",
       "       [0., 1.],\n",
       "       [0., 1.],\n",
       "       [1., 0.],\n",
       "       [1., 0.],\n",
       "       [0., 1.],\n",
       "       [1., 0.],\n",
       "       [0., 1.],\n",
       "       [0., 1.],\n",
       "       [0., 1.],\n",
       "       [1., 0.],\n",
       "       [0., 1.],\n",
       "       [0., 1.],\n",
       "       [1., 0.],\n",
       "       [1., 0.],\n",
       "       [0., 1.],\n",
       "       [1., 0.],\n",
       "       [0., 1.],\n",
       "       [0., 1.],\n",
       "       [1., 0.],\n",
       "       [1., 0.],\n",
       "       [1., 0.],\n",
       "       [0., 1.],\n",
       "       [0., 1.],\n",
       "       [0., 1.],\n",
       "       [1., 0.],\n",
       "       [0., 1.],\n",
       "       [1., 0.],\n",
       "       [1., 0.],\n",
       "       [0., 1.],\n",
       "       [0., 1.],\n",
       "       [1., 0.],\n",
       "       [0., 1.],\n",
       "       [1., 0.],\n",
       "       [0., 1.],\n",
       "       [1., 0.],\n",
       "       [1., 0.],\n",
       "       [0., 1.],\n",
       "       [1., 0.],\n",
       "       [1., 0.],\n",
       "       [0., 1.],\n",
       "       [0., 1.],\n",
       "       [1., 0.],\n",
       "       [0., 1.],\n",
       "       [1., 0.],\n",
       "       [1., 0.],\n",
       "       [0., 1.],\n",
       "       [0., 1.],\n",
       "       [0., 1.],\n",
       "       [1., 0.],\n",
       "       [0., 1.],\n",
       "       [1., 0.],\n",
       "       [0., 1.],\n",
       "       [0., 1.],\n",
       "       [1., 0.],\n",
       "       [0., 1.],\n",
       "       [0., 1.],\n",
       "       [1., 0.],\n",
       "       [0., 1.],\n",
       "       [0., 1.],\n",
       "       [1., 0.],\n",
       "       [1., 0.],\n",
       "       [1., 0.],\n",
       "       [1., 0.],\n",
       "       [1., 0.],\n",
       "       [0., 1.],\n",
       "       [1., 0.],\n",
       "       [1., 0.],\n",
       "       [0., 1.],\n",
       "       [0., 1.],\n",
       "       [0., 1.],\n",
       "       [0., 1.],\n",
       "       [0., 1.],\n",
       "       [1., 0.],\n",
       "       [0., 1.],\n",
       "       [1., 0.],\n",
       "       [1., 0.],\n",
       "       [0., 1.],\n",
       "       [1., 0.],\n",
       "       [0., 1.],\n",
       "       [0., 1.],\n",
       "       [0., 1.],\n",
       "       [0., 1.],\n",
       "       [1., 0.],\n",
       "       [1., 0.],\n",
       "       [0., 1.],\n",
       "       [1., 0.],\n",
       "       [0., 1.],\n",
       "       [0., 1.],\n",
       "       [0., 1.],\n",
       "       [0., 1.],\n",
       "       [1., 0.],\n",
       "       [0., 1.],\n",
       "       [0., 1.],\n",
       "       [0., 1.],\n",
       "       [1., 0.],\n",
       "       [0., 1.],\n",
       "       [1., 0.],\n",
       "       [0., 1.],\n",
       "       [1., 0.],\n",
       "       [1., 0.],\n",
       "       [0., 1.],\n",
       "       [1., 0.],\n",
       "       [0., 1.],\n",
       "       [0., 1.],\n",
       "       [1., 0.],\n",
       "       [1., 0.],\n",
       "       [1., 0.],\n",
       "       [1., 0.],\n",
       "       [1., 0.],\n",
       "       [0., 1.],\n",
       "       [1., 0.],\n",
       "       [1., 0.],\n",
       "       [1., 0.],\n",
       "       [1., 0.],\n",
       "       [0., 1.],\n",
       "       [1., 0.],\n",
       "       [0., 1.],\n",
       "       [1., 0.],\n",
       "       [1., 0.],\n",
       "       [1., 0.],\n",
       "       [0., 1.],\n",
       "       [1., 0.],\n",
       "       [1., 0.],\n",
       "       [1., 0.],\n",
       "       [0., 1.],\n",
       "       [0., 1.],\n",
       "       [0., 1.],\n",
       "       [0., 1.],\n",
       "       [0., 1.],\n",
       "       [0., 1.],\n",
       "       [1., 0.],\n",
       "       [1., 0.],\n",
       "       [0., 1.],\n",
       "       [1., 0.],\n",
       "       [1., 0.],\n",
       "       [1., 0.],\n",
       "       [1., 0.],\n",
       "       [0., 1.],\n",
       "       [0., 1.],\n",
       "       [0., 1.],\n",
       "       [0., 1.],\n",
       "       [0., 1.],\n",
       "       [1., 0.],\n",
       "       [0., 1.],\n",
       "       [0., 1.],\n",
       "       [0., 1.],\n",
       "       [1., 0.],\n",
       "       [0., 1.],\n",
       "       [1., 0.],\n",
       "       [1., 0.],\n",
       "       [0., 1.],\n",
       "       [0., 1.],\n",
       "       [1., 0.],\n",
       "       [1., 0.],\n",
       "       [0., 1.],\n",
       "       [1., 0.],\n",
       "       [0., 1.],\n",
       "       [1., 0.],\n",
       "       [0., 1.],\n",
       "       [0., 1.],\n",
       "       [0., 1.],\n",
       "       [1., 0.],\n",
       "       [0., 1.],\n",
       "       [0., 1.],\n",
       "       [1., 0.],\n",
       "       [0., 1.],\n",
       "       [0., 1.],\n",
       "       [0., 1.],\n",
       "       [1., 0.],\n",
       "       [1., 0.],\n",
       "       [0., 1.],\n",
       "       [0., 1.],\n",
       "       [1., 0.],\n",
       "       [0., 1.],\n",
       "       [1., 0.],\n",
       "       [0., 1.],\n",
       "       [0., 1.],\n",
       "       [1., 0.],\n",
       "       [0., 1.],\n",
       "       [1., 0.],\n",
       "       [1., 0.],\n",
       "       [0., 1.],\n",
       "       [0., 1.],\n",
       "       [1., 0.],\n",
       "       [1., 0.],\n",
       "       [1., 0.],\n",
       "       [1., 0.],\n",
       "       [1., 0.],\n",
       "       [1., 0.],\n",
       "       [0., 1.],\n",
       "       [0., 1.],\n",
       "       [1., 0.],\n",
       "       [0., 1.],\n",
       "       [0., 1.],\n",
       "       [0., 1.],\n",
       "       [0., 1.],\n",
       "       [0., 1.],\n",
       "       [1., 0.],\n",
       "       [1., 0.],\n",
       "       [1., 0.],\n",
       "       [0., 1.],\n",
       "       [0., 1.],\n",
       "       [1., 0.],\n",
       "       [0., 1.],\n",
       "       [0., 1.],\n",
       "       [0., 1.],\n",
       "       [0., 1.],\n",
       "       [0., 1.],\n",
       "       [0., 1.],\n",
       "       [0., 1.],\n",
       "       [0., 1.],\n",
       "       [0., 1.],\n",
       "       [1., 0.],\n",
       "       [1., 0.],\n",
       "       [1., 0.],\n",
       "       [1., 0.],\n",
       "       [0., 1.],\n",
       "       [1., 0.],\n",
       "       [1., 0.],\n",
       "       [1., 0.],\n",
       "       [1., 0.],\n",
       "       [0., 1.],\n",
       "       [1., 0.],\n",
       "       [1., 0.],\n",
       "       [1., 0.],\n",
       "       [0., 1.],\n",
       "       [1., 0.],\n",
       "       [1., 0.],\n",
       "       [1., 0.],\n",
       "       [0., 1.],\n",
       "       [1., 0.],\n",
       "       [1., 0.],\n",
       "       [0., 1.],\n",
       "       [0., 1.],\n",
       "       [1., 0.],\n",
       "       [1., 0.],\n",
       "       [1., 0.],\n",
       "       [0., 1.],\n",
       "       [0., 1.],\n",
       "       [0., 1.],\n",
       "       [1., 0.],\n",
       "       [0., 1.],\n",
       "       [1., 0.],\n",
       "       [0., 1.],\n",
       "       [0., 1.],\n",
       "       [1., 0.],\n",
       "       [1., 0.],\n",
       "       [1., 0.],\n",
       "       [1., 0.],\n",
       "       [0., 1.],\n",
       "       [1., 0.],\n",
       "       [1., 0.],\n",
       "       [1., 0.],\n",
       "       [0., 1.],\n",
       "       [1., 0.],\n",
       "       [1., 0.],\n",
       "       [1., 0.],\n",
       "       [0., 1.],\n",
       "       [0., 1.],\n",
       "       [0., 1.],\n",
       "       [1., 0.],\n",
       "       [1., 0.],\n",
       "       [0., 1.],\n",
       "       [1., 0.],\n",
       "       [0., 1.],\n",
       "       [1., 0.],\n",
       "       [0., 1.],\n",
       "       [1., 0.],\n",
       "       [1., 0.],\n",
       "       [0., 1.],\n",
       "       [0., 1.],\n",
       "       [1., 0.],\n",
       "       [0., 1.],\n",
       "       [1., 0.],\n",
       "       [0., 1.],\n",
       "       [0., 1.],\n",
       "       [1., 0.],\n",
       "       [0., 1.],\n",
       "       [1., 0.],\n",
       "       [0., 1.],\n",
       "       [1., 0.],\n",
       "       [0., 1.],\n",
       "       [0., 1.],\n",
       "       [1., 0.],\n",
       "       [1., 0.],\n",
       "       [0., 1.],\n",
       "       [0., 1.],\n",
       "       [0., 1.],\n",
       "       [0., 1.],\n",
       "       [1., 0.],\n",
       "       [0., 1.],\n",
       "       [0., 1.],\n",
       "       [0., 1.],\n",
       "       [0., 1.],\n",
       "       [0., 1.],\n",
       "       [0., 1.],\n",
       "       [0., 1.],\n",
       "       [1., 0.],\n",
       "       [0., 1.],\n",
       "       [1., 0.],\n",
       "       [1., 0.],\n",
       "       [1., 0.],\n",
       "       [0., 1.],\n",
       "       [1., 0.],\n",
       "       [0., 1.],\n",
       "       [0., 1.],\n",
       "       [1., 0.],\n",
       "       [1., 0.],\n",
       "       [1., 0.],\n",
       "       [1., 0.],\n",
       "       [1., 0.],\n",
       "       [1., 0.],\n",
       "       [0., 1.],\n",
       "       [0., 1.],\n",
       "       [0., 1.],\n",
       "       [0., 1.],\n",
       "       [0., 1.],\n",
       "       [1., 0.],\n",
       "       [1., 0.],\n",
       "       [0., 1.],\n",
       "       [1., 0.],\n",
       "       [0., 1.],\n",
       "       [0., 1.],\n",
       "       [1., 0.],\n",
       "       [0., 1.],\n",
       "       [0., 1.],\n",
       "       [1., 0.],\n",
       "       [1., 0.],\n",
       "       [1., 0.],\n",
       "       [0., 1.],\n",
       "       [1., 0.],\n",
       "       [0., 1.],\n",
       "       [1., 0.],\n",
       "       [1., 0.],\n",
       "       [0., 1.],\n",
       "       [0., 1.],\n",
       "       [0., 1.],\n",
       "       [1., 0.],\n",
       "       [1., 0.],\n",
       "       [0., 1.],\n",
       "       [1., 0.],\n",
       "       [1., 0.],\n",
       "       [0., 1.],\n",
       "       [1., 0.],\n",
       "       [0., 1.],\n",
       "       [1., 0.],\n",
       "       [0., 1.],\n",
       "       [1., 0.],\n",
       "       [1., 0.],\n",
       "       [1., 0.],\n",
       "       [1., 0.],\n",
       "       [1., 0.],\n",
       "       [0., 1.],\n",
       "       [1., 0.],\n",
       "       [0., 1.],\n",
       "       [0., 1.],\n",
       "       [1., 0.],\n",
       "       [1., 0.],\n",
       "       [0., 1.],\n",
       "       [0., 1.],\n",
       "       [0., 1.],\n",
       "       [1., 0.],\n",
       "       [0., 1.],\n",
       "       [1., 0.],\n",
       "       [1., 0.],\n",
       "       [0., 1.],\n",
       "       [1., 0.],\n",
       "       [1., 0.],\n",
       "       [1., 0.],\n",
       "       [1., 0.],\n",
       "       [0., 1.],\n",
       "       [0., 1.],\n",
       "       [0., 1.],\n",
       "       [0., 1.],\n",
       "       [1., 0.],\n",
       "       [0., 1.],\n",
       "       [1., 0.],\n",
       "       [0., 1.],\n",
       "       [1., 0.],\n",
       "       [0., 1.],\n",
       "       [0., 1.],\n",
       "       [1., 0.],\n",
       "       [0., 1.],\n",
       "       [0., 1.],\n",
       "       [0., 1.],\n",
       "       [1., 0.],\n",
       "       [0., 1.],\n",
       "       [0., 1.],\n",
       "       [0., 1.],\n",
       "       [0., 1.],\n",
       "       [1., 0.],\n",
       "       [0., 1.],\n",
       "       [0., 1.],\n",
       "       [1., 0.],\n",
       "       [1., 0.],\n",
       "       [0., 1.],\n",
       "       [1., 0.],\n",
       "       [1., 0.],\n",
       "       [0., 1.],\n",
       "       [0., 1.],\n",
       "       [0., 1.],\n",
       "       [1., 0.],\n",
       "       [1., 0.],\n",
       "       [0., 1.],\n",
       "       [0., 1.],\n",
       "       [0., 1.],\n",
       "       [1., 0.],\n",
       "       [1., 0.],\n",
       "       [1., 0.],\n",
       "       [0., 1.],\n",
       "       [1., 0.],\n",
       "       [0., 1.],\n",
       "       [1., 0.],\n",
       "       [0., 1.],\n",
       "       [0., 1.],\n",
       "       [0., 1.],\n",
       "       [0., 1.],\n",
       "       [1., 0.],\n",
       "       [0., 1.],\n",
       "       [1., 0.],\n",
       "       [1., 0.],\n",
       "       [0., 1.],\n",
       "       [0., 1.],\n",
       "       [0., 1.],\n",
       "       [1., 0.],\n",
       "       [1., 0.],\n",
       "       [0., 1.],\n",
       "       [0., 1.],\n",
       "       [0., 1.],\n",
       "       [1., 0.],\n",
       "       [1., 0.],\n",
       "       [0., 1.],\n",
       "       [1., 0.],\n",
       "       [1., 0.],\n",
       "       [0., 1.],\n",
       "       [1., 0.],\n",
       "       [1., 0.],\n",
       "       [1., 0.],\n",
       "       [0., 1.],\n",
       "       [0., 1.],\n",
       "       [0., 1.],\n",
       "       [1., 0.],\n",
       "       [0., 1.],\n",
       "       [0., 1.],\n",
       "       [0., 1.],\n",
       "       [1., 0.],\n",
       "       [0., 1.],\n",
       "       [1., 0.],\n",
       "       [1., 0.],\n",
       "       [0., 1.],\n",
       "       [0., 1.],\n",
       "       [1., 0.],\n",
       "       [0., 1.],\n",
       "       [0., 1.],\n",
       "       [1., 0.],\n",
       "       [1., 0.],\n",
       "       [1., 0.],\n",
       "       [0., 1.],\n",
       "       [0., 1.],\n",
       "       [1., 0.],\n",
       "       [0., 1.],\n",
       "       [0., 1.],\n",
       "       [1., 0.],\n",
       "       [1., 0.],\n",
       "       [1., 0.],\n",
       "       [0., 1.],\n",
       "       [0., 1.],\n",
       "       [0., 1.],\n",
       "       [0., 1.],\n",
       "       [1., 0.],\n",
       "       [0., 1.],\n",
       "       [0., 1.],\n",
       "       [0., 1.],\n",
       "       [0., 1.],\n",
       "       [1., 0.],\n",
       "       [0., 1.],\n",
       "       [1., 0.],\n",
       "       [1., 0.],\n",
       "       [1., 0.]], dtype=float32)"
      ]
     },
     "execution_count": 14,
     "metadata": {},
     "output_type": "execute_result"
    }
   ],
   "source": [
    "y_train"
   ]
  },
  {
   "cell_type": "code",
   "execution_count": 15,
   "metadata": {},
   "outputs": [],
   "source": [
    "data_text = x_train_text + x_test_text"
   ]
  },
  {
   "cell_type": "markdown",
   "metadata": {},
   "source": [
    "Print an example from the training-set to see that the data looks correct."
   ]
  },
  {
   "cell_type": "markdown",
   "metadata": {},
   "source": [
    "The true \"class\" is a sentiment of the movie-review. It is a value of 0.0 for a negative sentiment and 1.0 for a positive sentiment. In this case the review is positive."
   ]
  },
  {
   "cell_type": "markdown",
   "metadata": {},
   "source": [
    "## Tokenizer\n",
    "\n",
    "A neural network cannot work directly on text-strings so we must convert it somehow. There are two steps in this conversion, the first step is called the \"tokenizer\" which converts words to integers and is done on the data-set before it is input to the neural network. The second step is an integrated part of the neural network itself and is called the \"embedding\"-layer, which is described further below.\n",
    "\n",
    "We may instruct the tokenizer to only use e.g. the 10000 most popular words from the data-set."
   ]
  },
  {
   "cell_type": "code",
   "execution_count": 16,
   "metadata": {},
   "outputs": [],
   "source": [
    "num_words = None"
   ]
  },
  {
   "cell_type": "code",
   "execution_count": 17,
   "metadata": {
    "scrolled": true
   },
   "outputs": [],
   "source": [
    "tokenizer = Tokenizer(num_words=num_words)\n",
    "#tokenizer_1 = Tokenizer(2000)"
   ]
  },
  {
   "cell_type": "markdown",
   "metadata": {},
   "source": [
    "The tokenizer can then be \"fitted\" to the data-set. This scans through all the text and strips it from unwanted characters such as punctuation, and also converts it to lower-case characters. The tokenizer then builds a vocabulary of all unique words along with various data-structures for accessing the data.\n",
    "\n",
    "Note that we fit the tokenizer on the entire data-set so it gathers words from both the training- and test-data. This is OK as we are merely building a vocabulary and want it to be as complete as possible. The actual neural network will of course only be trained on the training-set."
   ]
  },
  {
   "cell_type": "code",
   "execution_count": 18,
   "metadata": {},
   "outputs": [],
   "source": [
    "#sample_text = data_text[:10]#\"This movie describes the life of somebody who grew up in the worst of circumstances but unlike many people he actually grew up to be a respectable person. Whats more is that this is a true story.<br /><br />Antwone Fisher is so innocent and yet he was abused such just because he was not white. Antwone Fisher has been married to the same women for ten years and he never fooled around with women, coke, cigars, weed, alcohol, or any of those things that are very popular in the places he was growing up. <br /><br />There is not much more to say about this movie it is excellent. The only rating I can give it is a 10/10.\"\n",
    "#tokenizer_1.fit_on_texts(sample_text)\n",
    "import time\n",
    "time\n",
    "tokenizer.fit_on_texts(data_text)"
   ]
  },
  {
   "cell_type": "code",
   "execution_count": 19,
   "metadata": {},
   "outputs": [
    {
     "data": {
      "text/plain": [
       "551"
      ]
     },
     "execution_count": 19,
     "metadata": {},
     "output_type": "execute_result"
    }
   ],
   "source": [
    "len(data_text)"
   ]
  },
  {
   "cell_type": "markdown",
   "metadata": {},
   "source": [
    "If you want to use the entire vocabulary then set `num_words=None` above, and then it will automatically be set to the vocabulary-size here. (This is because of Keras' somewhat awkward implementation.)"
   ]
  },
  {
   "cell_type": "code",
   "execution_count": 20,
   "metadata": {},
   "outputs": [],
   "source": [
    "if num_words is None:\n",
    "    num_words = len(tokenizer.word_index)\n"
   ]
  },
  {
   "cell_type": "code",
   "execution_count": 21,
   "metadata": {},
   "outputs": [
    {
     "data": {
      "text/plain": [
       "658"
      ]
     },
     "execution_count": 21,
     "metadata": {},
     "output_type": "execute_result"
    }
   ],
   "source": [
    "num_words"
   ]
  },
  {
   "cell_type": "markdown",
   "metadata": {},
   "source": [
    "We can then inspect the vocabulary that has been gathered by the tokenizer. This is ordered by the number of occurrences of the words in the data-set. These integer-numbers are called word indices or \"tokens\" because they uniquely identify each word in the vocabulary."
   ]
  },
  {
   "cell_type": "code",
   "execution_count": 22,
   "metadata": {},
   "outputs": [],
   "source": [
    "#tokenizer.word_index\n",
    "#tokenizer_1.word_index"
   ]
  },
  {
   "cell_type": "code",
   "execution_count": 23,
   "metadata": {},
   "outputs": [],
   "source": [
    "#tokenizer_1.word_index"
   ]
  },
  {
   "cell_type": "markdown",
   "metadata": {},
   "source": [
    "We can then use the tokenizer to convert all texts in the training-set to lists of these tokens."
   ]
  },
  {
   "cell_type": "code",
   "execution_count": 24,
   "metadata": {},
   "outputs": [
    {
     "name": "stdout",
     "output_type": "stream",
     "text": [
      "CPU times: user 182 ms, sys: 3.6 ms, total: 186 ms\n",
      "Wall time: 350 ms\n"
     ]
    }
   ],
   "source": [
    "%%time\n",
    "x_train_tokens = tokenizer.texts_to_sequences(x_train_text)"
   ]
  },
  {
   "cell_type": "code",
   "execution_count": 25,
   "metadata": {},
   "outputs": [],
   "source": [
    "#x_train_tokens[1]"
   ]
  },
  {
   "cell_type": "markdown",
   "metadata": {},
   "source": [
    "For example, here is a text from the training-set:"
   ]
  },
  {
   "cell_type": "code",
   "execution_count": 26,
   "metadata": {},
   "outputs": [],
   "source": [
    "#x_train_text[1]"
   ]
  },
  {
   "cell_type": "markdown",
   "metadata": {},
   "source": [
    "This text corresponds to the following list of tokens:"
   ]
  },
  {
   "cell_type": "code",
   "execution_count": 27,
   "metadata": {},
   "outputs": [],
   "source": [
    "#x_train_tokens[1]\n",
    "#np.array(x_train_tokens[1])"
   ]
  },
  {
   "cell_type": "markdown",
   "metadata": {},
   "source": [
    "We also need to convert the texts in the test-set to tokens."
   ]
  },
  {
   "cell_type": "code",
   "execution_count": 28,
   "metadata": {},
   "outputs": [
    {
     "name": "stdout",
     "output_type": "stream",
     "text": [
      "CPU times: user 15.5 ms, sys: 3.72 ms, total: 19.2 ms\n",
      "Wall time: 19.3 ms\n"
     ]
    }
   ],
   "source": [
    "%%time\n",
    "x_test_tokens = tokenizer.texts_to_sequences(x_test_text)"
   ]
  },
  {
   "cell_type": "code",
   "execution_count": 29,
   "metadata": {},
   "outputs": [],
   "source": [
    "#x_test_tokens[0]"
   ]
  },
  {
   "cell_type": "markdown",
   "metadata": {},
   "source": [
    "## Padding and Truncating Data\n",
    "\n",
    "The Recurrent Neural Network can take sequences of arbitrary length as input, but in order to use a whole batch of data, the sequences need to have the same length. There are two ways of achieving this: (A) Either we ensure that all sequences in the entire data-set have the same length, or (B) we write a custom data-generator that ensures the sequences have the same length within each batch.\n",
    "\n",
    "Solution (A) is simpler but if we use the length of the longest sequence in the data-set, then we are wasting a lot of memory. This is particularly important for larger data-sets.\n",
    "\n",
    "So in order to make a compromise, we will use a sequence-length that covers most sequences in the data-set, and we will then truncate longer sequences and pad shorter sequences.\n",
    "\n",
    "First we count the number of tokens in all the sequences in the data-set."
   ]
  },
  {
   "cell_type": "code",
   "execution_count": 30,
   "metadata": {},
   "outputs": [
    {
     "name": "stdout",
     "output_type": "stream",
     "text": [
      "CPU times: user 220 µs, sys: 14 µs, total: 234 µs\n",
      "Wall time: 240 µs\n"
     ]
    },
    {
     "data": {
      "text/plain": [
       "array([355, 329, 620, 647, 628, 644, 553, 660, 660, 613, 640, 624, 551,\n",
       "       644, 331, 452, 644, 628, 527, 545, 662, 551, 576, 647, 662, 462,\n",
       "       603, 659, 552, 465, 626, 546, 628, 623, 542, 319, 464, 620, 622,\n",
       "       624, 536, 626, 514, 548, 646, 616, 551, 659, 457, 624, 447, 388,\n",
       "       628, 549, 513, 576, 623, 468, 660, 448, 505, 628, 628, 660, 542,\n",
       "       646, 440, 624, 659, 491, 647, 646, 542, 637, 624, 514, 546, 505,\n",
       "       441, 505, 649, 469, 491, 625, 588, 623, 647, 644, 456, 576, 509,\n",
       "       352, 616, 465, 644, 588, 622, 646, 214, 462, 637, 553, 644, 627,\n",
       "       623, 624, 514, 562, 626, 589, 429, 553, 542, 640, 546, 550, 648,\n",
       "       532, 647, 624, 430, 233, 332, 446, 514, 600, 437, 549, 510, 507,\n",
       "       589, 549, 616, 355, 504, 546, 586, 490, 216, 372, 625, 646, 616,\n",
       "       640, 660, 628, 449, 551, 624, 445, 504, 532, 519, 648, 628, 644,\n",
       "       576, 647, 538, 628, 660, 628, 549, 644, 464, 538, 660, 659, 441,\n",
       "       510, 644, 542, 644, 369, 620, 624, 646, 441, 615, 659, 468, 623,\n",
       "       640, 637, 457, 462, 592, 625, 326, 625, 510, 644, 665, 443, 613,\n",
       "       508, 443, 576, 591, 505, 552, 354, 464, 470, 528, 628, 624, 515,\n",
       "       637, 646, 660, 625, 628, 382, 551, 459, 644, 659, 542, 628, 660,\n",
       "       648, 602, 646, 626, 626, 647, 665, 538, 510, 514, 542, 626, 355,\n",
       "       464, 546, 510, 659, 440, 532, 427, 647, 365, 335, 430, 623, 545,\n",
       "       485, 640, 616, 443, 448, 552, 660, 640, 647, 542, 624, 327, 625,\n",
       "       603, 489, 352, 446, 507, 576, 548, 524, 406, 588, 437, 452, 490,\n",
       "       646, 620, 628, 509, 355, 625, 549, 623, 464, 657, 549, 504, 659,\n",
       "       648, 532, 644, 448, 627, 646, 511, 649, 538, 627, 538, 646, 624,\n",
       "       532, 375, 624, 646, 637, 616, 190, 647, 585, 624, 602, 624, 627,\n",
       "       665, 491, 628, 536, 549, 487, 662, 329, 628, 626, 443, 456, 326,\n",
       "       430, 360, 464, 554, 583, 602, 640, 616, 505, 441, 626, 446, 644,\n",
       "       644, 551, 660, 616, 513, 369, 464, 644, 550, 622, 510, 546, 575,\n",
       "       589, 646, 551, 550, 603, 542, 542, 637, 328, 575, 459, 644, 531,\n",
       "       551, 440, 511, 458, 616, 374, 627, 647, 551, 445, 576, 644, 628,\n",
       "       542, 627, 538, 551, 647, 528, 538, 390, 532, 553, 644, 646, 576,\n",
       "       431, 647, 550, 622, 319, 624, 589, 337, 628, 647, 576, 463, 666,\n",
       "       602, 665, 662, 508, 647, 649, 444, 505, 576, 446, 549, 623, 624,\n",
       "       625, 491, 432, 557, 665, 659, 514, 518, 536, 637, 355, 660, 553,\n",
       "       637, 575, 625, 622, 510, 637, 542, 395, 660, 659, 628, 549, 541,\n",
       "       647, 628, 647, 469, 518, 660, 319, 485, 625, 549, 549, 390, 616,\n",
       "       622, 576, 526, 666, 603, 628, 355, 637, 327, 369, 591, 622, 534,\n",
       "       591, 647, 538, 551, 510, 622, 625, 510, 616, 647, 538, 490, 464,\n",
       "       660, 660, 554, 644, 511, 644, 628, 660, 622, 457, 613, 508, 458,\n",
       "       441, 510, 647, 624, 457, 549, 374, 448, 637, 538, 623, 644, 626,\n",
       "       549, 647, 396, 628, 440, 624, 370, 551, 510, 432, 431, 551, 646,\n",
       "       542, 640, 458, 464, 447, 457, 514, 448, 644, 637, 549, 646, 355,\n",
       "       613, 352, 666, 365, 457, 628, 659, 397, 458, 542, 511, 640, 616,\n",
       "       491, 549, 505, 355, 546])"
      ]
     },
     "execution_count": 30,
     "metadata": {},
     "output_type": "execute_result"
    }
   ],
   "source": [
    "%%time\n",
    "num_tokens = [len(tokens) for tokens in x_train_tokens + x_test_tokens]\n",
    "num_tokens = np.array(num_tokens)\n",
    "num_tokens"
   ]
  },
  {
   "cell_type": "markdown",
   "metadata": {},
   "source": [
    "The average number of tokens in a sequence is:"
   ]
  },
  {
   "cell_type": "code",
   "execution_count": 31,
   "metadata": {},
   "outputs": [
    {
     "data": {
      "text/plain": [
       "552.8221415607985"
      ]
     },
     "execution_count": 31,
     "metadata": {},
     "output_type": "execute_result"
    }
   ],
   "source": [
    "np.mean(num_tokens)"
   ]
  },
  {
   "cell_type": "markdown",
   "metadata": {},
   "source": [
    "The maximum number of tokens in a sequence is:"
   ]
  },
  {
   "cell_type": "code",
   "execution_count": 32,
   "metadata": {},
   "outputs": [
    {
     "data": {
      "text/plain": [
       "666"
      ]
     },
     "execution_count": 32,
     "metadata": {},
     "output_type": "execute_result"
    }
   ],
   "source": [
    "np.max(num_tokens)"
   ]
  },
  {
   "cell_type": "markdown",
   "metadata": {},
   "source": [
    "The max number of tokens we will allow is set to the average plus 2 standard deviations."
   ]
  },
  {
   "cell_type": "code",
   "execution_count": 33,
   "metadata": {},
   "outputs": [
    {
     "data": {
      "text/plain": [
       "742"
      ]
     },
     "execution_count": 33,
     "metadata": {},
     "output_type": "execute_result"
    }
   ],
   "source": [
    "max_tokens = np.mean(num_tokens) + 2 * np.std(num_tokens)\n",
    "max_tokens = int(max_tokens)\n",
    "max_tokens"
   ]
  },
  {
   "cell_type": "markdown",
   "metadata": {},
   "source": [
    "This covers about 95% of the data-set."
   ]
  },
  {
   "cell_type": "code",
   "execution_count": 34,
   "metadata": {},
   "outputs": [
    {
     "data": {
      "text/plain": [
       "1.0"
      ]
     },
     "execution_count": 34,
     "metadata": {},
     "output_type": "execute_result"
    }
   ],
   "source": [
    "np.sum(num_tokens < max_tokens) / len(num_tokens)"
   ]
  },
  {
   "cell_type": "markdown",
   "metadata": {},
   "source": [
    "When padding or truncating the sequences that have a different length, we need to determine if we want to do this padding or truncating 'pre' or 'post'. If a sequence is truncated, it means that a part of the sequence is simply thrown away. If a sequence is padded, it means that zeros are added to the sequence.\n",
    "\n",
    "So the choice of 'pre' or 'post' can be important because it determines whether we throw away the first or last part of a sequence when truncating, and it determines whether we add zeros to the beginning or end of the sequence when padding. This may confuse the Recurrent Neural Network."
   ]
  },
  {
   "cell_type": "code",
   "execution_count": 35,
   "metadata": {},
   "outputs": [],
   "source": [
    "pad = 'pre'"
   ]
  },
  {
   "cell_type": "code",
   "execution_count": 36,
   "metadata": {},
   "outputs": [],
   "source": [
    "x_train_pad = pad_sequences(x_train_tokens, maxlen=max_tokens,\n",
    "                            padding=pad, truncating=pad)"
   ]
  },
  {
   "cell_type": "code",
   "execution_count": 37,
   "metadata": {},
   "outputs": [
    {
     "name": "stdout",
     "output_type": "stream",
     "text": [
      "CPU times: user 4.49 ms, sys: 53 µs, total: 4.55 ms\n",
      "Wall time: 4.69 ms\n"
     ]
    }
   ],
   "source": [
    "%%time\n",
    "x_test_pad = pad_sequences(x_test_tokens, maxlen=max_tokens,\n",
    "                           padding=pad, truncating=pad)"
   ]
  },
  {
   "cell_type": "markdown",
   "metadata": {},
   "source": [
    "We have now transformed the training-set into one big matrix of integers (tokens) with this shape:"
   ]
  },
  {
   "cell_type": "code",
   "execution_count": 38,
   "metadata": {},
   "outputs": [
    {
     "data": {
      "text/plain": [
       "(495, 742)"
      ]
     },
     "execution_count": 38,
     "metadata": {},
     "output_type": "execute_result"
    }
   ],
   "source": [
    "x_train_pad.shape"
   ]
  },
  {
   "cell_type": "markdown",
   "metadata": {},
   "source": [
    "The matrix for the test-set has the same shape:"
   ]
  },
  {
   "cell_type": "code",
   "execution_count": 39,
   "metadata": {
    "scrolled": true
   },
   "outputs": [
    {
     "data": {
      "text/plain": [
       "(56, 742)"
      ]
     },
     "execution_count": 39,
     "metadata": {},
     "output_type": "execute_result"
    }
   ],
   "source": [
    "x_test_pad.shape"
   ]
  },
  {
   "cell_type": "markdown",
   "metadata": {},
   "source": [
    "For example, we had the following sequence of tokens above:"
   ]
  },
  {
   "cell_type": "code",
   "execution_count": 40,
   "metadata": {},
   "outputs": [
    {
     "data": {
      "text/plain": [
       "array([  6,   7,   8,   9,  10,  11,  12,  13,  14,  15,  16,  17,   2,\n",
       "        18,  19,  20,  21,  22,  23,  24,  25,  26,  27,  28,  29,  30,\n",
       "        31,  32,  33,  34,  35,  36,  37,  38,  39,  40,  41,  42,  43,\n",
       "        44,  45,  46,  47,  48,  49,  50,  51,  52,  53,  54,  55,  56,\n",
       "        57,  58,  59,  60,  61,  62,  63,  64,  65,  66,  67,  68,  69,\n",
       "        70,  71,  72,  73,  74,  75,  76,  77,  78,  79,  80,  81,  82,\n",
       "        83,  84,  85,  86,  87,  88,  89,  90,  91,  92,  93,  94,  95,\n",
       "        96,  97,  98,  99, 100, 101, 102, 103, 104, 105, 106, 107, 108,\n",
       "       109, 110, 111, 112, 113, 114, 115, 116, 117, 118, 119, 120, 121,\n",
       "       122, 123, 124, 125, 126, 127, 128, 129, 130, 131, 132, 133, 134,\n",
       "       135, 136, 137, 138, 139, 140, 141, 142, 143, 144, 145, 146, 147,\n",
       "       148, 149, 150, 151, 152, 153, 154, 155, 156, 157, 158, 159, 160,\n",
       "       161, 162, 163, 164, 165, 166, 167, 168, 169, 170, 171, 172, 173,\n",
       "       174, 175, 176, 177, 178, 179, 180, 181, 182, 183, 184, 185, 186,\n",
       "       187, 188, 189, 190, 191, 192, 193, 194, 195, 196, 197, 198, 199,\n",
       "       200, 201, 202, 203, 204, 205, 206, 207, 208, 209, 210, 211, 212,\n",
       "       213, 214, 215, 216, 217, 218, 219, 220, 221, 222, 223, 224, 225,\n",
       "       226, 227, 228, 229, 230, 231, 232, 233, 234, 235, 236, 237, 238,\n",
       "       239, 240, 241, 242, 243, 244, 245, 246, 247, 248, 249, 250, 251,\n",
       "       252,   3, 253, 254, 255, 256, 257, 258, 259, 260, 261, 262, 263,\n",
       "       264, 265, 266, 267, 268, 269, 270, 271, 272, 273, 274, 275, 276,\n",
       "       277, 278, 279, 280, 281, 282, 283, 284, 285, 286, 287, 288, 289,\n",
       "         4,   1, 290, 291, 292, 293, 294, 295, 296, 297, 298, 299, 300,\n",
       "       301, 302, 303, 304, 305, 306, 307, 308, 309, 310, 311, 312, 313,\n",
       "       314, 315, 316, 317, 318, 319, 320, 321, 322, 323, 324, 325, 326,\n",
       "       327, 328, 329, 330])"
      ]
     },
     "execution_count": 40,
     "metadata": {},
     "output_type": "execute_result"
    }
   ],
   "source": [
    "np.array(x_train_tokens[1])"
   ]
  },
  {
   "cell_type": "markdown",
   "metadata": {},
   "source": [
    "This has simply been padded to create the following sequence. Note that when this is input to the Recurrent Neural Network, then it first inputs a lot of zeros. If we had padded 'post' then it would input the integer-tokens first and then a lot of zeros. This may confuse the Recurrent Neural Network."
   ]
  },
  {
   "cell_type": "code",
   "execution_count": 41,
   "metadata": {},
   "outputs": [
    {
     "data": {
      "text/plain": [
       "array([  0,   0,   0,   0,   0,   0,   0,   0,   0,   0,   0,   0,   0,\n",
       "         0,   0,   0,   0,   0,   0,   0,   0,   0,   0,   0,   0,   0,\n",
       "         0,   0,   0,   0,   0,   0,   0,   0,   0,   0,   0,   0,   0,\n",
       "         0,   0,   0,   0,   0,   0,   0,   0,   0,   0,   0,   0,   0,\n",
       "         0,   0,   0,   0,   0,   0,   0,   0,   0,   0,   0,   0,   0,\n",
       "         0,   0,   0,   0,   0,   0,   0,   0,   0,   0,   0,   0,   0,\n",
       "         0,   0,   0,   0,   0,   0,   0,   0,   0,   0,   0,   0,   0,\n",
       "         0,   0,   0,   0,   0,   0,   0,   0,   0,   0,   0,   0,   0,\n",
       "         0,   0,   0,   0,   0,   0,   0,   0,   0,   0,   0,   0,   0,\n",
       "         0,   0,   0,   0,   0,   0,   0,   0,   0,   0,   0,   0,   0,\n",
       "         0,   0,   0,   0,   0,   0,   0,   0,   0,   0,   0,   0,   0,\n",
       "         0,   0,   0,   0,   0,   0,   0,   0,   0,   0,   0,   0,   0,\n",
       "         0,   0,   0,   0,   0,   0,   0,   0,   0,   0,   0,   0,   0,\n",
       "         0,   0,   0,   0,   0,   0,   0,   0,   0,   0,   0,   0,   0,\n",
       "         0,   0,   0,   0,   0,   0,   0,   0,   0,   0,   0,   0,   0,\n",
       "         0,   0,   0,   0,   0,   0,   0,   0,   0,   0,   0,   0,   0,\n",
       "         0,   0,   0,   0,   0,   0,   0,   0,   0,   0,   0,   0,   0,\n",
       "         0,   0,   0,   0,   0,   0,   0,   0,   0,   0,   0,   0,   0,\n",
       "         0,   0,   0,   0,   0,   0,   0,   0,   0,   0,   0,   0,   0,\n",
       "         0,   0,   0,   0,   0,   0,   0,   0,   0,   0,   0,   0,   0,\n",
       "         0,   0,   0,   0,   0,   0,   0,   0,   0,   0,   0,   0,   0,\n",
       "         0,   0,   0,   0,   0,   0,   0,   0,   0,   0,   0,   0,   0,\n",
       "         0,   0,   0,   0,   0,   0,   0,   0,   0,   0,   0,   0,   0,\n",
       "         0,   0,   0,   0,   0,   0,   0,   0,   0,   0,   0,   0,   0,\n",
       "         0,   0,   0,   0,   0,   0,   0,   0,   0,   0,   0,   0,   0,\n",
       "         0,   0,   0,   0,   0,   0,   0,   0,   0,   0,   0,   0,   0,\n",
       "         0,   0,   0,   0,   0,   0,   0,   0,   0,   0,   0,   0,   0,\n",
       "         0,   0,   0,   0,   0,   0,   0,   0,   0,   0,   0,   0,   0,\n",
       "         0,   0,   0,   0,   0,   0,   0,   0,   0,   0,   0,   0,   0,\n",
       "         0,   0,   0,   0,   0,   0,   0,   0,   0,   0,   0,   0,   0,\n",
       "         0,   0,   0,   0,   0,   0,   0,   0,   0,   0,   0,   0,   0,\n",
       "         0,   0,   0,   0,   0,   0,   0,   0,   0,   0,   6,   7,   8,\n",
       "         9,  10,  11,  12,  13,  14,  15,  16,  17,   2,  18,  19,  20,\n",
       "        21,  22,  23,  24,  25,  26,  27,  28,  29,  30,  31,  32,  33,\n",
       "        34,  35,  36,  37,  38,  39,  40,  41,  42,  43,  44,  45,  46,\n",
       "        47,  48,  49,  50,  51,  52,  53,  54,  55,  56,  57,  58,  59,\n",
       "        60,  61,  62,  63,  64,  65,  66,  67,  68,  69,  70,  71,  72,\n",
       "        73,  74,  75,  76,  77,  78,  79,  80,  81,  82,  83,  84,  85,\n",
       "        86,  87,  88,  89,  90,  91,  92,  93,  94,  95,  96,  97,  98,\n",
       "        99, 100, 101, 102, 103, 104, 105, 106, 107, 108, 109, 110, 111,\n",
       "       112, 113, 114, 115, 116, 117, 118, 119, 120, 121, 122, 123, 124,\n",
       "       125, 126, 127, 128, 129, 130, 131, 132, 133, 134, 135, 136, 137,\n",
       "       138, 139, 140, 141, 142, 143, 144, 145, 146, 147, 148, 149, 150,\n",
       "       151, 152, 153, 154, 155, 156, 157, 158, 159, 160, 161, 162, 163,\n",
       "       164, 165, 166, 167, 168, 169, 170, 171, 172, 173, 174, 175, 176,\n",
       "       177, 178, 179, 180, 181, 182, 183, 184, 185, 186, 187, 188, 189,\n",
       "       190, 191, 192, 193, 194, 195, 196, 197, 198, 199, 200, 201, 202,\n",
       "       203, 204, 205, 206, 207, 208, 209, 210, 211, 212, 213, 214, 215,\n",
       "       216, 217, 218, 219, 220, 221, 222, 223, 224, 225, 226, 227, 228,\n",
       "       229, 230, 231, 232, 233, 234, 235, 236, 237, 238, 239, 240, 241,\n",
       "       242, 243, 244, 245, 246, 247, 248, 249, 250, 251, 252,   3, 253,\n",
       "       254, 255, 256, 257, 258, 259, 260, 261, 262, 263, 264, 265, 266,\n",
       "       267, 268, 269, 270, 271, 272, 273, 274, 275, 276, 277, 278, 279,\n",
       "       280, 281, 282, 283, 284, 285, 286, 287, 288, 289,   4,   1, 290,\n",
       "       291, 292, 293, 294, 295, 296, 297, 298, 299, 300, 301, 302, 303,\n",
       "       304, 305, 306, 307, 308, 309, 310, 311, 312, 313, 314, 315, 316,\n",
       "       317, 318, 319, 320, 321, 322, 323, 324, 325, 326, 327, 328, 329,\n",
       "       330], dtype=int32)"
      ]
     },
     "execution_count": 41,
     "metadata": {},
     "output_type": "execute_result"
    }
   ],
   "source": [
    "x_train_pad[1]"
   ]
  },
  {
   "cell_type": "markdown",
   "metadata": {},
   "source": [
    "## Tokenizer Inverse Map\n",
    "\n",
    "For some strange reason, the Keras implementation of a tokenizer does not seem to have the inverse mapping from integer-tokens back to words, which is needed to reconstruct text-strings from lists of tokens. So we make that mapping here."
   ]
  },
  {
   "cell_type": "code",
   "execution_count": 42,
   "metadata": {},
   "outputs": [],
   "source": [
    "idx = tokenizer.word_index\n",
    "inverse_map = dict(zip(idx.values(), idx.keys()))"
   ]
  },
  {
   "cell_type": "markdown",
   "metadata": {},
   "source": [
    "Helper-function for converting a list of tokens back to a string of words."
   ]
  },
  {
   "cell_type": "code",
   "execution_count": 43,
   "metadata": {},
   "outputs": [],
   "source": [
    "def tokens_to_string(tokens):\n",
    "    # Map from tokens back to words.\n",
    "    words = [inverse_map[token] for token in tokens if token != 0]\n",
    "    \n",
    "    # Concatenate all words.\n",
    "    text = \" \".join(words)\n",
    "\n",
    "    return text"
   ]
  },
  {
   "cell_type": "markdown",
   "metadata": {},
   "source": [
    "For example, this is the original text from the data-set:"
   ]
  },
  {
   "cell_type": "code",
   "execution_count": 44,
   "metadata": {
    "scrolled": true
   },
   "outputs": [],
   "source": [
    "#x_train_text[1]"
   ]
  },
  {
   "cell_type": "markdown",
   "metadata": {},
   "source": [
    "We can recreate this text except for punctuation and other symbols, by converting the list of tokens back to words:"
   ]
  },
  {
   "cell_type": "code",
   "execution_count": 45,
   "metadata": {},
   "outputs": [],
   "source": [
    "#tokens_to_string(x_train_tokens[1])"
   ]
  },
  {
   "cell_type": "markdown",
   "metadata": {},
   "source": [
    "## Create the Recurrent Neural Network\n",
    "\n",
    "We are now ready to create the Recurrent Neural Network (RNN). We will use the Keras API for this because of its simplicity. See Tutorial #03-C for a tutorial on Keras."
   ]
  },
  {
   "cell_type": "code",
   "execution_count": 46,
   "metadata": {},
   "outputs": [],
   "source": [
    "model = Sequential()"
   ]
  },
  {
   "cell_type": "code",
   "execution_count": 47,
   "metadata": {},
   "outputs": [
    {
     "name": "stdout",
     "output_type": "stream",
     "text": [
      "_________________________________________________________________\n",
      "Layer (type)                 Output Shape              Param #   \n",
      "=================================================================\n",
      "dense_1 (Dense)              (None, 50)                37150     \n",
      "_________________________________________________________________\n",
      "dense_2 (Dense)              (None, 10)                510       \n",
      "_________________________________________________________________\n",
      "dense_3 (Dense)              (None, 2)                 22        \n",
      "=================================================================\n",
      "Total params: 37,682\n",
      "Trainable params: 37,682\n",
      "Non-trainable params: 0\n",
      "_________________________________________________________________\n",
      "None\n"
     ]
    }
   ],
   "source": [
    "#from keras import regularizers\n",
    "from keras.regularizers import l2\n",
    "\n",
    "\n",
    "# define the architecture of the network\n",
    "model.add(Dense(50, input_dim=742, activation=\"relu\"))\n",
    "model.add(Dense(10, activation=\"relu\"))\n",
    "model.add(Dense(2, activation='softmax'))\n",
    "model.compile(loss='categorical_crossentropy', optimizer='adam', metrics=['accuracy'])\n",
    "print(model.summary())\n"
   ]
  },
  {
   "cell_type": "code",
   "execution_count": 48,
   "metadata": {},
   "outputs": [
    {
     "name": "stdout",
     "output_type": "stream",
     "text": [
      "Train on 495 samples, validate on 56 samples\n",
      "Epoch 1/50\n",
      "495/495 [==============================] - 1s 3ms/step - loss: 6.9270 - acc: 0.5657 - val_loss: 5.7565 - val_acc: 0.6429\n",
      "Epoch 2/50\n",
      "495/495 [==============================] - 0s 160us/step - loss: 8.4661 - acc: 0.4747 - val_loss: 5.7565 - val_acc: 0.6429\n",
      "Epoch 3/50\n",
      "495/495 [==============================] - 0s 137us/step - loss: 8.4661 - acc: 0.4747 - val_loss: 5.7565 - val_acc: 0.6429\n",
      "Epoch 4/50\n",
      "495/495 [==============================] - 0s 122us/step - loss: 8.4661 - acc: 0.4747 - val_loss: 5.7565 - val_acc: 0.6429\n",
      "Epoch 5/50\n",
      "495/495 [==============================] - 0s 163us/step - loss: 8.4661 - acc: 0.4747 - val_loss: 5.7565 - val_acc: 0.6429\n",
      "Epoch 6/50\n",
      "495/495 [==============================] - 0s 125us/step - loss: 8.4661 - acc: 0.4747 - val_loss: 5.7565 - val_acc: 0.6429\n",
      "Epoch 7/50\n",
      "495/495 [==============================] - 0s 129us/step - loss: 8.4661 - acc: 0.4747 - val_loss: 5.7565 - val_acc: 0.6429\n",
      "Epoch 8/50\n",
      "495/495 [==============================] - 0s 146us/step - loss: 8.4661 - acc: 0.4747 - val_loss: 5.7565 - val_acc: 0.6429\n",
      "Epoch 9/50\n",
      "495/495 [==============================] - 0s 133us/step - loss: 8.4661 - acc: 0.4747 - val_loss: 5.7565 - val_acc: 0.6429\n",
      "Epoch 10/50\n",
      "495/495 [==============================] - 0s 101us/step - loss: 8.4661 - acc: 0.4747 - val_loss: 5.7565 - val_acc: 0.6429\n",
      "Epoch 11/50\n",
      "495/495 [==============================] - 0s 112us/step - loss: 8.4661 - acc: 0.4747 - val_loss: 5.7565 - val_acc: 0.6429\n",
      "Epoch 12/50\n",
      "495/495 [==============================] - 0s 155us/step - loss: 8.4661 - acc: 0.4747 - val_loss: 5.7565 - val_acc: 0.6429\n",
      "Epoch 13/50\n",
      "495/495 [==============================] - 0s 95us/step - loss: 8.4661 - acc: 0.4747 - val_loss: 5.7565 - val_acc: 0.6429\n",
      "Epoch 14/50\n",
      "495/495 [==============================] - 0s 107us/step - loss: 8.4661 - acc: 0.4747 - val_loss: 5.7565 - val_acc: 0.6429\n",
      "Epoch 15/50\n",
      "495/495 [==============================] - 0s 167us/step - loss: 8.4661 - acc: 0.4747 - val_loss: 5.7565 - val_acc: 0.6429\n",
      "Epoch 16/50\n",
      "495/495 [==============================] - 0s 126us/step - loss: 8.4661 - acc: 0.4747 - val_loss: 5.7565 - val_acc: 0.6429\n",
      "Epoch 17/50\n",
      "495/495 [==============================] - 0s 149us/step - loss: 8.4661 - acc: 0.4747 - val_loss: 5.7565 - val_acc: 0.6429\n",
      "Epoch 18/50\n",
      "495/495 [==============================] - 0s 108us/step - loss: 8.4661 - acc: 0.4747 - val_loss: 5.7565 - val_acc: 0.6429\n",
      "Epoch 19/50\n",
      "495/495 [==============================] - 0s 98us/step - loss: 8.4661 - acc: 0.4747 - val_loss: 5.7565 - val_acc: 0.6429\n",
      "Epoch 20/50\n",
      "495/495 [==============================] - 0s 146us/step - loss: 8.4661 - acc: 0.4747 - val_loss: 5.7565 - val_acc: 0.6429\n",
      "Epoch 21/50\n",
      "495/495 [==============================] - 0s 100us/step - loss: 8.4661 - acc: 0.4747 - val_loss: 5.7565 - val_acc: 0.6429\n",
      "Epoch 22/50\n",
      "495/495 [==============================] - 0s 131us/step - loss: 8.4661 - acc: 0.4747 - val_loss: 5.7565 - val_acc: 0.6429\n",
      "Epoch 23/50\n",
      "495/495 [==============================] - 0s 99us/step - loss: 8.4661 - acc: 0.4747 - val_loss: 5.7565 - val_acc: 0.6429\n",
      "Epoch 24/50\n",
      "495/495 [==============================] - 0s 104us/step - loss: 8.4661 - acc: 0.4747 - val_loss: 5.7565 - val_acc: 0.6429\n",
      "Epoch 25/50\n",
      "495/495 [==============================] - 0s 99us/step - loss: 8.4661 - acc: 0.4747 - val_loss: 5.7565 - val_acc: 0.6429\n",
      "Epoch 26/50\n",
      "495/495 [==============================] - 0s 155us/step - loss: 8.4661 - acc: 0.4747 - val_loss: 5.7565 - val_acc: 0.6429\n",
      "Epoch 27/50\n",
      "495/495 [==============================] - 0s 98us/step - loss: 8.4661 - acc: 0.4747 - val_loss: 5.7565 - val_acc: 0.6429\n",
      "Epoch 28/50\n",
      "495/495 [==============================] - 0s 110us/step - loss: 8.4661 - acc: 0.4747 - val_loss: 5.7565 - val_acc: 0.6429\n",
      "Epoch 29/50\n",
      "495/495 [==============================] - 0s 162us/step - loss: 8.4661 - acc: 0.4747 - val_loss: 5.7565 - val_acc: 0.6429\n",
      "Epoch 30/50\n",
      "495/495 [==============================] - 0s 107us/step - loss: 8.4661 - acc: 0.4747 - val_loss: 5.7565 - val_acc: 0.6429\n",
      "Epoch 31/50\n",
      "495/495 [==============================] - 0s 125us/step - loss: 8.4661 - acc: 0.4747 - val_loss: 5.7565 - val_acc: 0.6429\n",
      "Epoch 32/50\n",
      "495/495 [==============================] - 0s 106us/step - loss: 8.4661 - acc: 0.4747 - val_loss: 5.7565 - val_acc: 0.6429\n",
      "Epoch 33/50\n",
      "495/495 [==============================] - 0s 106us/step - loss: 8.4661 - acc: 0.4747 - val_loss: 5.7565 - val_acc: 0.6429\n",
      "Epoch 34/50\n",
      "495/495 [==============================] - 0s 106us/step - loss: 8.4661 - acc: 0.4747 - val_loss: 5.7565 - val_acc: 0.6429\n",
      "Epoch 35/50\n",
      "495/495 [==============================] - 0s 155us/step - loss: 8.4661 - acc: 0.4747 - val_loss: 5.7565 - val_acc: 0.6429\n",
      "Epoch 36/50\n",
      "495/495 [==============================] - 0s 96us/step - loss: 8.4661 - acc: 0.4747 - val_loss: 5.7565 - val_acc: 0.6429\n",
      "Epoch 37/50\n",
      "495/495 [==============================] - 0s 104us/step - loss: 8.4661 - acc: 0.4747 - val_loss: 5.7565 - val_acc: 0.6429\n",
      "Epoch 38/50\n",
      "495/495 [==============================] - 0s 103us/step - loss: 8.4661 - acc: 0.4747 - val_loss: 5.7565 - val_acc: 0.6429\n",
      "Epoch 39/50\n",
      "495/495 [==============================] - 0s 120us/step - loss: 8.4661 - acc: 0.4747 - val_loss: 5.7565 - val_acc: 0.6429\n",
      "Epoch 40/50\n",
      "495/495 [==============================] - 0s 98us/step - loss: 8.4661 - acc: 0.4747 - val_loss: 5.7565 - val_acc: 0.6429\n",
      "Epoch 41/50\n",
      "495/495 [==============================] - 0s 90us/step - loss: 8.4661 - acc: 0.4747 - val_loss: 5.7565 - val_acc: 0.6429\n",
      "Epoch 42/50\n",
      "495/495 [==============================] - 0s 113us/step - loss: 8.4661 - acc: 0.4747 - val_loss: 5.7565 - val_acc: 0.6429\n",
      "Epoch 43/50\n",
      "495/495 [==============================] - 0s 108us/step - loss: 8.4661 - acc: 0.4747 - val_loss: 5.7565 - val_acc: 0.6429\n",
      "Epoch 44/50\n",
      "495/495 [==============================] - 0s 101us/step - loss: 8.4661 - acc: 0.4747 - val_loss: 5.7565 - val_acc: 0.6429\n",
      "Epoch 45/50\n",
      "495/495 [==============================] - 0s 119us/step - loss: 8.4661 - acc: 0.4747 - val_loss: 5.7565 - val_acc: 0.6429\n",
      "Epoch 46/50\n",
      "495/495 [==============================] - 0s 110us/step - loss: 8.4661 - acc: 0.4747 - val_loss: 5.7565 - val_acc: 0.6429\n",
      "Epoch 47/50\n",
      "495/495 [==============================] - 0s 97us/step - loss: 8.4661 - acc: 0.4747 - val_loss: 5.7565 - val_acc: 0.6429\n",
      "Epoch 48/50\n",
      "495/495 [==============================] - 0s 171us/step - loss: 8.4661 - acc: 0.4747 - val_loss: 5.7565 - val_acc: 0.6429\n",
      "Epoch 49/50\n",
      "495/495 [==============================] - 0s 126us/step - loss: 8.4661 - acc: 0.4747 - val_loss: 5.7565 - val_acc: 0.6429\n",
      "Epoch 50/50\n",
      "495/495 [==============================] - 0s 158us/step - loss: 8.4661 - acc: 0.4747 - val_loss: 5.7565 - val_acc: 0.6429\n",
      "CPU times: user 4.5 s, sys: 327 ms, total: 4.83 s\n",
      "Wall time: 5.2 s\n"
     ]
    }
   ],
   "source": [
    "%%time\n",
    "history = model.fit(x_train_pad, y_train,\n",
    "          validation_data=(x_test_pad, y_test), epochs=50, batch_size=64)"
   ]
  },
  {
   "cell_type": "markdown",
   "metadata": {},
   "source": [
    "## Performance on Test-Set\n",
    "\n",
    "Now that the model has been trained we can calculate its classification accuracy on the test-set."
   ]
  },
  {
   "cell_type": "code",
   "execution_count": 49,
   "metadata": {},
   "outputs": [
    {
     "name": "stdout",
     "output_type": "stream",
     "text": [
      "56/56 [==============================] - 0s 98us/step\n",
      "CPU times: user 8.8 ms, sys: 344 µs, total: 9.15 ms\n",
      "Wall time: 6.57 ms\n"
     ]
    }
   ],
   "source": [
    "%%time\n",
    "result = model.evaluate(x_test_pad, y_test)"
   ]
  },
  {
   "cell_type": "code",
   "execution_count": 50,
   "metadata": {},
   "outputs": [
    {
     "name": "stdout",
     "output_type": "stream",
     "text": [
      "Accuracy: 64.29%\n"
     ]
    }
   ],
   "source": [
    "print(\"Accuracy: {0:.2%}\".format(result[1]))"
   ]
  },
  {
   "cell_type": "code",
   "execution_count": 51,
   "metadata": {},
   "outputs": [],
   "source": [
    "#####################################\n",
    "# write Traning History to a file\n",
    "output = open('History.pkl', 'wb')\n",
    "pickle.dump(history.history, output)\n",
    "output.close()\n",
    "#####################################"
   ]
  },
  {
   "cell_type": "code",
   "execution_count": 52,
   "metadata": {},
   "outputs": [],
   "source": [
    "\n",
    "# read Traning History back from the file\n",
    "pkl_file = open('History.pkl', 'rb')\n",
    "history = pickle.load(pkl_file)\n",
    "pkl_file.close()"
   ]
  },
  {
   "cell_type": "code",
   "execution_count": 53,
   "metadata": {},
   "outputs": [],
   "source": [
    "def plot_history(history):\n",
    "    loss_list = [s for s in history.keys() if 'loss' in s and 'val' not in s]\n",
    "    val_loss_list = [s for s in history.keys() if 'loss' in s and 'val' in s]\n",
    "    acc_list = [s for s in history.keys() if 'acc' in s and 'val' not in s]\n",
    "    val_acc_list = [s for s in history.keys() if 'acc' in s and 'val' in s]\n",
    "    plt.figure(figsize = (25,7))\n",
    "    if len(loss_list) == 0:\n",
    "        print('Loss is missing in history')\n",
    "        return \n",
    "    \n",
    "    ## As loss always exists\n",
    "    epochs = range(1,len(history[loss_list[0]]) + 1)\n",
    "    \n",
    "    ## Loss\n",
    "    plt.figure(1)\n",
    "    for l in loss_list:\n",
    "        plt.plot(epochs, history[l], 'b', label='Training loss (' + str(str(format(history[l][-1],'.5f'))+')'))\n",
    "    for l in val_loss_list:\n",
    "        plt.plot(epochs, history[l], 'g', label='Testing loss (' + str(str(format(history[l][-1],'.5f'))+')'))\n",
    "    \n",
    "    plt.title('Loss')\n",
    "    plt.xlabel('Epochs')\n",
    "    plt.ylabel('Loss')\n",
    "    plt.legend()\n",
    "    plt.savefig('_Graph#######LOSS.png', bbox_inches='tight')\n",
    "    \n",
    "    \n",
    "    ## Accuracy\n",
    "    plt.figure(figsize = (25,7))\n",
    "    plt.figure(2)\n",
    "    for l in acc_list:\n",
    "        plt.plot(epochs, history[l], 'b', label='Training accuracy (' + str(format(history[l][-1],'.5f'))+')')\n",
    "    for l in val_acc_list:    \n",
    "        plt.plot(epochs, history[l], 'g', label='Testing accuracy (' + str(format(history[l][-1],'.5f'))+')')\n",
    "\n",
    "    plt.title('Accuracy')\n",
    "    plt.xlabel('Epochs')\n",
    "    plt.ylabel('Accuracy')\n",
    "    plt.legend()\n",
    "    plt.savefig('_Graph#######ACC.png', bbox_inches='tight')\n",
    "    plt.show()"
   ]
  },
  {
   "cell_type": "code",
   "execution_count": 54,
   "metadata": {},
   "outputs": [
    {
     "data": {
      "image/png": "[encoded data removed]",
      "text/plain": [
       "<Figure size 2500x700 with 1 Axes>"
      ]
     },
     "metadata": {},
     "output_type": "display_data"
    },
    {
     "data": {
      "image/png": "[encoded data removed]",
      "text/plain": [
       "<Figure size 2500x700 with 1 Axes>"
      ]
     },
     "metadata": {},
     "output_type": "display_data"
    }
   ],
   "source": [
    "plot_history(history)"
   ]
  },
  {
   "cell_type": "code",
   "execution_count": 55,
   "metadata": {},
   "outputs": [
    {
     "name": "stdout",
     "output_type": "stream",
     "text": [
      "CPU times: user 38.7 ms, sys: 97 µs, total: 38.8 ms\n",
      "Wall time: 88.9 ms\n"
     ]
    }
   ],
   "source": [
    "%%time\n",
    "y_pred = model.predict(x=x_test_pad)\n",
    "#y_pred = y_pred.T[0]"
   ]
  },
  {
   "cell_type": "code",
   "execution_count": 56,
   "metadata": {},
   "outputs": [
    {
     "data": {
      "text/plain": [
       "array([0, 1, 1, 0, 0, 0, 0, 1, 0, 1, 1, 1, 0, 1, 0, 1, 0, 1, 0, 0, 0, 0,\n",
       "       0, 0, 1, 0, 1, 0, 0, 0, 0, 0, 0, 1, 1, 0, 1, 0, 1, 0, 1, 0, 0, 1,\n",
       "       1, 0, 0, 0, 0, 1, 1, 0, 0, 0, 0, 0])"
      ]
     },
     "execution_count": 56,
     "metadata": {},
     "output_type": "execute_result"
    }
   ],
   "source": [
    "y_test = np.argmax(y_test, axis=1)\n",
    "y_test"
   ]
  },
  {
   "cell_type": "code",
   "execution_count": 57,
   "metadata": {},
   "outputs": [
    {
     "data": {
      "image/png": "[encoded data removed]",
      "text/plain": [
       "<Figure size 800x600 with 1 Axes>"
      ]
     },
     "metadata": {},
     "output_type": "display_data"
    }
   ],
   "source": [
    "import scikitplot as skplt\n",
    "import matplotlib.pyplot as plt\n",
    "\n",
    "\n",
    "y_true = y_test# ground truth labels\n",
    "y_probas = y_pred# predicted probabilities generated by sklearn classifier\n",
    "\n",
    "list_fams=['Benign','Malware']\n",
    "figsize=(8,6)\n",
    "title = \"ROC for FCN\"\n",
    "title_fontsize = 12\n",
    "fig, ax = plt.subplots(1, 1, figsize=figsize)\n",
    "text_fontsize = 10\n",
    "\n",
    "skplt.metrics.plot_roc(y_true, y_probas,ax=ax, plot_macro=False, plot_micro=False )\n",
    "\n",
    "ax.set_title(title, fontsize=title_fontsize)\n",
    "#ax.get_legend().remove()\n",
    "ax.legend(list_fams)\n",
    "plt.savefig(\"ROC for FCN.png\")\n",
    "plt.show()"
   ]
  },
  {
   "cell_type": "code",
   "execution_count": 58,
   "metadata": {},
   "outputs": [
    {
     "data": {
      "text/plain": [
       "array([0, 0, 0, 0, 0, 0, 0, 0, 0, 0, 0, 0, 0, 0, 0, 0, 0, 0, 0, 0, 0, 0,\n",
       "       0, 0, 0, 0, 0, 0, 0, 0, 0, 0, 0, 0, 0, 0, 0, 0, 0, 0, 0, 0, 0, 0,\n",
       "       0, 0, 0, 0, 0, 0, 0, 0, 0, 0, 0, 0])"
      ]
     },
     "execution_count": 58,
     "metadata": {},
     "output_type": "execute_result"
    }
   ],
   "source": [
    "y_pred = np.argmax(y_pred, axis=1)\n",
    "y_pred"
   ]
  },
  {
   "cell_type": "code",
   "execution_count": 59,
   "metadata": {},
   "outputs": [],
   "source": [
    "import pandas as pd\n",
    "# convert the history.history dict to a pandas DataFrame:     \n",
    "hist_df = pd.DataFrame(history) \n",
    "\n",
    "csv_file = 'FCN-History.csv'\n",
    "with open(csv_file, mode='w') as f:\n",
    "    hist_df.to_csv(f)"
   ]
  },
  {
   "cell_type": "code",
   "execution_count": 60,
   "metadata": {},
   "outputs": [
    {
     "data": {
      "text/plain": [
       "{'Status': True,\n",
       " 'Message': '/data/danish/ImgProPython/TensorFlow-Tutorials/Ensemble-Networks/IoT-Ensemble/FCN/CM_FCN.csv'}"
      ]
     },
     "execution_count": 60,
     "metadata": {},
     "output_type": "execute_result"
    }
   ],
   "source": [
    "from pycm import ConfusionMatrix\n",
    "\n",
    "CM_1DCNN = ConfusionMatrix(y_test,y_pred)\n",
    "CM_1DCNN.save_csv(\"CM_FCN\",address=True)"
   ]
  },
  {
   "cell_type": "code",
   "execution_count": 61,
   "metadata": {},
   "outputs": [
    {
     "name": "stdout",
     "output_type": "stream",
     "text": [
      "Predict  0        1        \n",
      "Actual\n",
      "0        36       0        \n",
      "\n",
      "1        20       0        \n",
      "\n",
      "\n",
      "\n",
      "\n",
      "\n",
      "Overall Statistics : \n",
      "\n",
      "95% CI                                                            (0.51736,0.76836)\n",
      "ACC Macro                                                         0.64286\n",
      "AUNP                                                              0.5\n",
      "AUNU                                                              0.5\n",
      "Bennett S                                                         0.28571\n",
      "CBA                                                               0.32143\n",
      "Chi-Squared                                                       None\n",
      "Chi-Squared DF                                                    1\n",
      "Conditional Entropy                                               -0.0\n",
      "Cramer V                                                          None\n",
      "Cross Entropy                                                     -0.0\n",
      "F1 Macro                                                          0.3913\n",
      "F1 Micro                                                          0.64286\n",
      "Gwet AC1                                                          0.49458\n",
      "Hamming Loss                                                      0.35714\n",
      "Joint Entropy                                                     0.94029\n",
      "KL Divergence                                                     None\n",
      "Kappa                                                             0.0\n",
      "Kappa 95% CI                                                      (-0.3514,0.3514)\n",
      "Kappa No Prevalence                                               0.28571\n",
      "Kappa Standard Error                                              0.17928\n",
      "Kappa Unbiased                                                    -0.21739\n",
      "Lambda A                                                          0.0\n",
      "Lambda B                                                          None\n",
      "Mutual Information                                                0.0\n",
      "NIR                                                               0.64286\n",
      "Overall ACC                                                       0.64286\n",
      "Overall CEN                                                       0.39315\n",
      "Overall J                                                         (0.64286,0.32143)\n",
      "Overall MCC                                                       None\n",
      "Overall MCEN                                                      0.26525\n",
      "Overall RACC                                                      0.64286\n",
      "Overall RACCU                                                     0.70663\n",
      "P-Value                                                           0.56054\n",
      "PPV Macro                                                         None\n",
      "PPV Micro                                                         0.64286\n",
      "Pearson C                                                         None\n",
      "Phi-Squared                                                       None\n",
      "RCI                                                               0.0\n",
      "RR                                                                28.0\n",
      "Reference Entropy                                                 0.94029\n",
      "Response Entropy                                                  -0.0\n",
      "SOA1(Landis & Koch)                                               Slight\n",
      "SOA2(Fleiss)                                                      Poor\n",
      "SOA3(Altman)                                                      Poor\n",
      "SOA4(Cicchetti)                                                   Poor\n",
      "SOA5(Cramer)                                                      None\n",
      "SOA6(Matthews)                                                    None\n",
      "Scott PI                                                          -0.21739\n",
      "Standard Error                                                    0.06403\n",
      "TPR Macro                                                         0.5\n",
      "TPR Micro                                                         0.64286\n",
      "Zero-one Loss                                                     20\n",
      "\n",
      "Class Statistics :\n",
      "\n",
      "Classes                                                           0             1             \n",
      "ACC(Accuracy)                                                     0.64286       0.64286       \n",
      "AGF(Adjusted F-score)                                             0.0           0.0           \n",
      "AGM(Adjusted geometric mean)                                      0.0           0             \n",
      "AM(Difference between automatic and manual classification)        20            -20           \n",
      "AUC(Area under the ROC curve)                                     0.5           0.5           \n",
      "AUCI(AUC value interpretation)                                    Poor          Poor          \n",
      "AUPR(Area under the PR curve)                                     0.82143       None          \n",
      "BCD(Bray-Curtis dissimilarity)                                    0.17857       0.17857       \n",
      "BM(Informedness or bookmaker informedness)                        0.0           0.0           \n",
      "CEN(Confusion entropy)                                            0.47862       0.0           \n",
      "DOR(Diagnostic odds ratio)                                        None          None          \n",
      "DP(Discriminant power)                                            None          None          \n",
      "DPI(Discriminant power interpretation)                            None          None          \n",
      "ERR(Error rate)                                                   0.35714       0.35714       \n",
      "F0.5(F0.5 score)                                                  0.69231       0.0           \n",
      "F1(F1 score - harmonic mean of precision and sensitivity)         0.78261       0.0           \n",
      "F2(F2 score)                                                      0.9           0.0           \n",
      "FDR(False discovery rate)                                         0.35714       None          \n",
      "FN(False negative/miss/type 2 error)                              0             20            \n",
      "FNR(Miss rate or false negative rate)                             0.0           1.0           \n",
      "FOR(False omission rate)                                          None          0.35714       \n",
      "FP(False positive/type 1 error/false alarm)                       20            0             \n",
      "FPR(Fall-out or false positive rate)                              1.0           0.0           \n",
      "G(G-measure geometric mean of precision and sensitivity)          0.80178       None          \n",
      "GI(Gini index)                                                    0.0           0.0           \n",
      "GM(G-mean geometric mean of specificity and sensitivity)          0.0           0.0           \n",
      "IBA(Index of balanced accuracy)                                   0.0           0.0           \n",
      "IS(Information score)                                             0.0           None          \n",
      "J(Jaccard index)                                                  0.64286       0.0           \n",
      "LS(Lift score)                                                    1.0           None          \n",
      "MCC(Matthews correlation coefficient)                             None          None          \n",
      "MCCI(Matthews correlation coefficient interpretation)             None          None          \n",
      "MCEN(Modified confusion entropy)                                  0.53051       0.0           \n",
      "MK(Markedness)                                                    None          None          \n",
      "N(Condition negative)                                             20            36            \n",
      "NLR(Negative likelihood ratio)                                    None          1.0           \n",
      "NLRI(Negative likelihood ratio interpretation)                    None          Negligible    \n",
      "NPV(Negative predictive value)                                    None          0.64286       \n",
      "OC(Overlap coefficient)                                           1.0           None          \n",
      "OOC(Otsuka-Ochiai coefficient)                                    0.80178       None          \n",
      "OP(Optimized precision)                                           -0.35714      -0.35714      \n",
      "P(Condition positive or support)                                  36            20            \n",
      "PLR(Positive likelihood ratio)                                    1.0           None          \n",
      "PLRI(Positive likelihood ratio interpretation)                    Poor          None          \n",
      "POP(Population)                                                   56            56            \n",
      "PPV(Precision or positive predictive value)                       0.64286       None          \n",
      "PRE(Prevalence)                                                   0.64286       0.35714       \n",
      "Q(Yule Q - coefficient of colligation)                            None          None          \n",
      "RACC(Random accuracy)                                             0.64286       0.0           \n",
      "RACCU(Random accuracy unbiased)                                   0.67474       0.03189       \n",
      "TN(True negative/correct rejection)                               0             36            \n",
      "TNR(Specificity or true negative rate)                            0.0           1.0           \n",
      "TON(Test outcome negative)                                        0             56            \n",
      "TOP(Test outcome positive)                                        56            0             \n",
      "TP(True positive/hit)                                             36            0             \n",
      "TPR(Sensitivity, recall, hit rate, or true positive rate)         1.0           0.0           \n",
      "Y(Youden index)                                                   0.0           0.0           \n",
      "dInd(Distance index)                                              1.0           1.0           \n",
      "sInd(Similarity index)                                            0.29289       0.29289       \n",
      "\n"
     ]
    }
   ],
   "source": [
    "print(CM_1DCNN)"
   ]
  },
  {
   "cell_type": "code",
   "execution_count": 62,
   "metadata": {},
   "outputs": [],
   "source": [
    "model.save(\"FCN.h5\")"
   ]
  },
  {
   "cell_type": "code",
   "execution_count": 63,
   "metadata": {},
   "outputs": [
    {
     "data": {
      "image/png": "[encoded data removed]",
      "text/plain": [
       "<Figure size 2000x1200 with 2 Axes>"
      ]
     },
     "metadata": {},
     "output_type": "display_data"
    }
   ],
   "source": [
    "import seaborn as sns\n",
    "\n",
    "def plot_confusion_matrix():\n",
    "    \n",
    "    list_fams=['Benign','Malware']\n",
    "    \n",
    "    cm = confusion_matrix(y_true=y_test, y_pred=y_pred)\n",
    "    \n",
    "    cm=cm.astype('float')/cm.sum(axis=1)[:,np.newaxis]\n",
    "    \n",
    "    figure = plt.gcf()\n",
    "    figure.set_size_inches(20, 12)\n",
    "    sns.set(font_scale=1.25)\n",
    "    hm = sns.heatmap(cm, cmap= \"YlGnBu\" ,cbar=True, annot=True, square=True,\n",
    "                 annot_kws={'size': 9}, linewidth = 0.01,\n",
    "                 yticklabels=list_fams, xticklabels=list_fams)\n",
    "    plt.ylabel('True label')\n",
    "    plt.xlabel('Predicted label')\n",
    "    \n",
    "    plt.savefig('FCN-Matrix.png', bbox_inches='tight')\n",
    "    plt.show()\n",
    "    \n",
    "plot_confusion_matrix()"
   ]
  },
  {
   "cell_type": "code",
   "execution_count": null,
   "metadata": {},
   "outputs": [],
   "source": []
  }
 ],
 "metadata": {
  "anaconda-cloud": {},
  "kernelspec": {
   "display_name": "Python 3",
   "language": "python",
   "name": "python3"
  },
  "language_info": {
   "codemirror_mode": {
    "name": "ipython",
    "version": 3
   },
   "file_extension": ".py",
   "mimetype": "text/x-python",
   "name": "python",
   "nbconvert_exporter": "python",
   "pygments_lexer": "ipython3",
   "version": "3.6.10"
  }
 },
 "nbformat": 4,
 "nbformat_minor": 1
}
