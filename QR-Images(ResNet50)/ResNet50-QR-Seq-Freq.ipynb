{
 "cells": [
  {
   "cell_type": "code",
   "execution_count": 1,
   "metadata": {},
   "outputs": [],
   "source": [
    "import os\n",
    "os.environ[\"CUDA_DEVICE_ORDER\"] = \"PCI_BUS_ID\"   # see issue #152\n",
    "os.environ[\"CUDA_VISIBLE_DEVICES\"] = \"0\""
   ]
  },
  {
   "cell_type": "code",
   "execution_count": 2,
   "metadata": {},
   "outputs": [
    {
     "name": "stderr",
     "output_type": "stream",
     "text": [
      "Using TensorFlow backend.\n"
     ]
    }
   ],
   "source": [
    "## extra imports to set GPU options\n",
    "import tensorflow as tf\n",
    "from keras import backend as k\n",
    "\n",
    "###################################\n",
    "# TensorFlow wizardry\n",
    "config = tf.ConfigProto()\n",
    "\n",
    "# Don't pre-allocate memory; allocate as-needed\n",
    "config.gpu_options.allow_growth = True\n",
    "\n",
    "# Only allow a total of half the GPU memory to be allocated\n",
    "config.gpu_options.per_process_gpu_memory_fraction = 1 # 0.5 for Half\n",
    "\n",
    "# Create a session with the above options specified.\n",
    "k.tensorflow_backend.set_session(tf.Session(config=config))\n"
   ]
  },
  {
   "cell_type": "code",
   "execution_count": 3,
   "metadata": {},
   "outputs": [],
   "source": [
    "from keras import backend as K\n",
    "from keras.models import Sequential, Model\n",
    "from keras.layers import Activation\n",
    "from keras.layers import Dense, Flatten\n",
    "from keras.optimizers import Adam\n",
    "from keras.metrics import categorical_crossentropy\n",
    "from keras.preprocessing.image import ImageDataGenerator\n",
    "from keras.layers.normalization import BatchNormalization\n",
    "from keras.layers.convolutional import *\n",
    "from keras.models import Sequential\n",
    "from keras.layers.core import Flatten, Dense, Dropout\n",
    "from keras.layers.convolutional import Convolution2D, MaxPooling2D, ZeroPadding2D\n",
    "from keras.optimizers import SGD\n",
    "from matplotlib import pyplot as plt\n",
    "from sklearn.metrics import confusion_matrix\n",
    "from keras.utils import plot_model\n",
    "\n",
    "import tensorflow as tf\n",
    "import keras\n",
    "import seaborn as sn\n",
    "import pandas as pd\n",
    "import numpy as np\n",
    "import linecache\n",
    "import sys\n",
    "import h5py\n",
    "import itertools\n",
    "import matplotlib.pyplot as plt\n",
    "import os\n",
    "import pickle\n",
    "import matplotlib.pyplot as plt; plt.rcdefaults()\n",
    "import numpy as np\n",
    "import matplotlib.pyplot as plt\n",
    "from keras.callbacks import ModelCheckpoint\n",
    "from keras.callbacks import TensorBoard\n",
    "from keras.callbacks import ReduceLROnPlateau\n",
    "from keras.callbacks import EarlyStopping\n",
    "from keras.callbacks import RemoteMonitor"
   ]
  },
  {
   "cell_type": "code",
   "execution_count": 4,
   "metadata": {},
   "outputs": [
    {
     "data": {
      "text/plain": [
       "'1.9.0'"
      ]
     },
     "execution_count": 4,
     "metadata": {},
     "output_type": "execute_result"
    }
   ],
   "source": [
    "tf.__version__"
   ]
  },
  {
   "cell_type": "code",
   "execution_count": 5,
   "metadata": {},
   "outputs": [],
   "source": [
    "def path_join(dirname, filenames):\n",
    "    return [os.path.join(dirname, filename) for filename in filenames]"
   ]
  },
  {
   "cell_type": "code",
   "execution_count": 6,
   "metadata": {},
   "outputs": [],
   "source": [
    "#train_path = '/data/danish/Data/Microsoft-Malware-BIG-2015/Malware_Dataset/train_rgb_images'\n",
    "#test_path =  '/data/danish/Data/Microsoft-Malware-BIG-2015/Malware_Dataset/test_rgb_images/'\n",
    "#train_path = '/data/danish/Data/Malimg_Grayscale/'\n",
    "#test_path  = '/data/danish/Data/Malimg_Grayscale_test/'\n",
    "#train_path = '/data/danish/Data/Malimg_Grayscale_train/'\n",
    "#test_path  = '/data/danish/Data/Malimg_Grayscale_test/'\n",
    "train_path = '/data/danish/Data/IoT_Malware_Opcodes/Training_Dataset_Opcodes_Seq_Freq_QRCode_Images/'\n",
    "test_path  = '/data/danish/Data/IoT_Malware_Opcodes/Validation_Dataset_Opcodes_Seq_Freq_QRCode_Images/'\n"
   ]
  },
  {
   "cell_type": "code",
   "execution_count": 7,
   "metadata": {},
   "outputs": [],
   "source": [
    "datagen_train = ImageDataGenerator(\n",
    "      rescale=1./255,\n",
    "      #rotation_range=0.1,#180,\n",
    "      #width_shift_range=0.1,\n",
    "      #height_shift_range=0.1,\n",
    "      #shear_range=0.1,\n",
    "      #zoom_range=0.1,#[0.9, 1.5],\n",
    "      #horizontal_flip=True,\n",
    "      #vertical_flip=True,\n",
    "      #fill_mode='nearest'\n",
    "                )\n",
    "\n",
    "datagen_test = ImageDataGenerator(rescale=1./255)\n"
   ]
  },
  {
   "cell_type": "code",
   "execution_count": 8,
   "metadata": {},
   "outputs": [],
   "source": [
    "if False:\n",
    "    save_to_dir='augmented_images/'\n",
    "else:\n",
    "    save_to_dir = None"
   ]
  },
  {
   "cell_type": "code",
   "execution_count": 9,
   "metadata": {},
   "outputs": [
    {
     "data": {
      "text/plain": [
       "'QRCodeImages=(96, 96)'"
      ]
     },
     "execution_count": 9,
     "metadata": {},
     "output_type": "execute_result"
    }
   ],
   "source": [
    "input_shape=(96,96)\n",
    "batch_size=64\n",
    "save_fn='QRCodeImages='+str(input_shape[:])\n",
    "save_fn"
   ]
  },
  {
   "cell_type": "code",
   "execution_count": 10,
   "metadata": {},
   "outputs": [
    {
     "name": "stdout",
     "output_type": "stream",
     "text": [
      "Found 382 images belonging to 2 classes.\n"
     ]
    }
   ],
   "source": [
    "generator_train = datagen_train.flow_from_directory(directory=train_path,\n",
    "                                                    target_size=input_shape,\n",
    "                                                    batch_size=batch_size,\n",
    "                                                    class_mode='categorical',\n",
    "                                                    #color_mode=\"rgb\",\n",
    "                                                    #save_prefix='Train_Aug',\n",
    "                                                    shuffle=True,\n",
    "                                                    #save_to_dir=save_to_dir,\n",
    "                                                    seed=42)"
   ]
  },
  {
   "cell_type": "code",
   "execution_count": 11,
   "metadata": {},
   "outputs": [
    {
     "name": "stdout",
     "output_type": "stream",
     "text": [
      "Steps for Training\n",
      "\n",
      " 5.96875\n"
     ]
    }
   ],
   "source": [
    "steps_train = generator_train.n/ batch_size\n",
    "print(\"Steps for Training\\n\\n\",steps_train)"
   ]
  },
  {
   "cell_type": "code",
   "execution_count": 12,
   "metadata": {},
   "outputs": [
    {
     "name": "stdout",
     "output_type": "stream",
     "text": [
      "Labels of samples as integer\n",
      "\n",
      " [0 0 0 0 0 0 0 0 0 0 0 0 0 0 0 0 0 0 0 0 0 0 0 0 0 0 0 0 0 0 0 0 0 0 0 0 0\n",
      " 0 0 0 0 0 0 0 0 0 0 0 0 0 0 0 0 0 0 0 0 0 0 0 0 0 0 0 0 0 0 0 0 0 0 0 0 0\n",
      " 0 0 0 0 0 0 0 0 0 0 0 0 0 0 0 0 0 0 0 0 0 0 0 0 0 0 0 0 0 0 0 0 0 0 0 0 0\n",
      " 0 0 0 0 0 0 0 0 0 0 0 0 0 0 0 0 0 0 0 0 0 0 0 0 0 0 0 0 0 0 0 0 0 0 0 0 0\n",
      " 0 0 0 0 0 0 0 0 0 0 0 0 0 0 0 0 0 0 0 0 0 0 0 0 0 0 0 0 0 0 0 0 0 0 0 0 0\n",
      " 0 1 1 1 1 1 1 1 1 1 1 1 1 1 1 1 1 1 1 1 1 1 1 1 1 1 1 1 1 1 1 1 1 1 1 1 1\n",
      " 1 1 1 1 1 1 1 1 1 1 1 1 1 1 1 1 1 1 1 1 1 1 1 1 1 1 1 1 1 1 1 1 1 1 1 1 1\n",
      " 1 1 1 1 1 1 1 1 1 1 1 1 1 1 1 1 1 1 1 1 1 1 1 1 1 1 1 1 1 1 1 1 1 1 1 1 1\n",
      " 1 1 1 1 1 1 1 1 1 1 1 1 1 1 1 1 1 1 1 1 1 1 1 1 1 1 1 1 1 1 1 1 1 1 1 1 1\n",
      " 1 1 1 1 1 1 1 1 1 1 1 1 1 1 1 1 1 1 1 1 1 1 1 1 1 1 1 1 1 1 1 1 1 1 1 1 1\n",
      " 1 1 1 1 1 1 1 1 1 1 1 1]\n"
     ]
    }
   ],
   "source": [
    "cls_train = generator_train.classes\n",
    "print(\"Labels of samples as integer\\n\\n\",cls_train)"
   ]
  },
  {
   "cell_type": "code",
   "execution_count": 13,
   "metadata": {},
   "outputs": [
    {
     "name": "stdout",
     "output_type": "stream",
     "text": [
      "Name of the classes\n",
      "\n",
      " ['benign', 'malicious']\n"
     ]
    }
   ],
   "source": [
    "cls_names_train = list(generator_train.class_indices.keys())\n",
    "print(\"Name of the classes\\n\\n\",cls_names_train)\n",
    "num_cls_train = len(cls_names_train)"
   ]
  },
  {
   "cell_type": "code",
   "execution_count": 14,
   "metadata": {},
   "outputs": [],
   "source": [
    "from sklearn.utils.class_weight import compute_class_weight\n",
    "class_weight_train = compute_class_weight(class_weight='balanced',\n",
    "                                    classes=np.unique(cls_train),\n",
    "                                    y=cls_train)"
   ]
  },
  {
   "cell_type": "code",
   "execution_count": 15,
   "metadata": {},
   "outputs": [],
   "source": [
    "#cls_names_train\n",
    "class_labels = ['malicious','benign']"
   ]
  },
  {
   "cell_type": "code",
   "execution_count": 16,
   "metadata": {},
   "outputs": [
    {
     "data": {
      "text/plain": [
       "array([ 1.02688172,  0.9744898 ])"
      ]
     },
     "execution_count": 16,
     "metadata": {},
     "output_type": "execute_result"
    }
   ],
   "source": [
    "class_weight_train"
   ]
  },
  {
   "cell_type": "code",
   "execution_count": 17,
   "metadata": {},
   "outputs": [
    {
     "data": {
      "image/png": "[encoded data removed]",
      "text/plain": [
       "<matplotlib.figure.Figure at 0x7f3c6f5d69e8>"
      ]
     },
     "metadata": {
      "needs_background": "light"
     },
     "output_type": "display_data"
    }
   ],
   "source": [
    "objects = class_labels#class_dictionary_train#cls_names_train#('Python', 'C++', 'Java', 'Perl', 'Scala', 'Lisp')\n",
    "y_pos = np.arange(len(objects))\n",
    "performance = class_weight_train#[10,8,6,4,2,1]\n",
    " \n",
    "plt.bar(y_pos, performance, align='center', alpha=0.5)\n",
    "plt.xticks(y_pos, objects, rotation='vertical')\n",
    "plt.xlabel('Malware Families')\n",
    "plt.ylabel('Class Weight')\n",
    "plt.title('Malimg Traning Dataset')\n",
    " \n",
    "plt.show()"
   ]
  },
  {
   "cell_type": "code",
   "execution_count": 18,
   "metadata": {},
   "outputs": [
    {
     "name": "stdout",
     "output_type": "stream",
     "text": [
      "Found 165 images belonging to 2 classes.\n"
     ]
    }
   ],
   "source": [
    "generator_test = datagen_test.flow_from_directory(directory=test_path,\n",
    "                                                  target_size=input_shape,\n",
    "                                                  class_mode='categorical',\n",
    "                                                  #color_mode=\"rgb\",\n",
    "                                                  #save_prefix='Test_Aug',\n",
    "                                                  batch_size=batch_size,\n",
    "                                                  shuffle=False,\n",
    "                                                  seed=42)"
   ]
  },
  {
   "cell_type": "code",
   "execution_count": 19,
   "metadata": {},
   "outputs": [
    {
     "name": "stdout",
     "output_type": "stream",
     "text": [
      "Steps for Test\n",
      "\n",
      " 2.578125\n"
     ]
    }
   ],
   "source": [
    "steps_test = generator_test.n / batch_size\n",
    "print(\"Steps for Test\\n\\n\",steps_test)"
   ]
  },
  {
   "cell_type": "code",
   "execution_count": 20,
   "metadata": {},
   "outputs": [
    {
     "name": "stdout",
     "output_type": "stream",
     "text": [
      "Labels of samples as integer\n",
      "\n",
      " [0 0 0 0 0 0 0 0 0 0 0 0 0 0 0 0 0 0 0 0 0 0 0 0 0 0 0 0 0 0 0 0 0 0 0 0 0\n",
      " 0 0 0 0 0 0 0 0 0 0 0 0 0 0 0 0 0 0 0 0 0 0 0 0 0 0 0 0 0 0 0 0 0 0 0 0 0\n",
      " 0 0 0 0 0 0 1 1 1 1 1 1 1 1 1 1 1 1 1 1 1 1 1 1 1 1 1 1 1 1 1 1 1 1 1 1 1\n",
      " 1 1 1 1 1 1 1 1 1 1 1 1 1 1 1 1 1 1 1 1 1 1 1 1 1 1 1 1 1 1 1 1 1 1 1 1 1\n",
      " 1 1 1 1 1 1 1 1 1 1 1 1 1 1 1 1 1]\n"
     ]
    }
   ],
   "source": [
    "cls_test = generator_test.classes\n",
    "print(\"Labels of samples as integer\\n\\n\",cls_test)"
   ]
  },
  {
   "cell_type": "code",
   "execution_count": 21,
   "metadata": {},
   "outputs": [
    {
     "name": "stdout",
     "output_type": "stream",
     "text": [
      "Name of the classes\n",
      "\n",
      " ['benign', 'malicious']\n"
     ]
    }
   ],
   "source": [
    "cls_names_test = list(generator_test.class_indices.keys())\n",
    "print(\"Name of the classes\\n\\n\",cls_names_test)"
   ]
  },
  {
   "cell_type": "code",
   "execution_count": 22,
   "metadata": {},
   "outputs": [],
   "source": [
    "from sklearn.utils.class_weight import compute_class_weight\n",
    "class_weight_test = compute_class_weight(class_weight='balanced',\n",
    "                                    classes=np.unique(cls_test),\n",
    "                                    y=cls_test)"
   ]
  },
  {
   "cell_type": "code",
   "execution_count": 23,
   "metadata": {},
   "outputs": [
    {
     "data": {
      "text/plain": [
       "array([ 1.03125   ,  0.97058824])"
      ]
     },
     "execution_count": 23,
     "metadata": {},
     "output_type": "execute_result"
    }
   ],
   "source": [
    "class_weight_test"
   ]
  },
  {
   "cell_type": "code",
   "execution_count": 24,
   "metadata": {},
   "outputs": [
    {
     "data": {
      "image/png": "[encoded data removed]",
      "text/plain": [
       "<matplotlib.figure.Figure at 0x7f3c6d7d8588>"
      ]
     },
     "metadata": {
      "needs_background": "light"
     },
     "output_type": "display_data"
    }
   ],
   "source": [
    "objects = class_labels#class_dictionary_train#cls_names_train#('Python', 'C++', 'Java', 'Perl', 'Scala', 'Lisp')\n",
    "y_pos = np.arange(len(objects))\n",
    "performance = class_weight_test#[10,8,6,4,2,1]\n",
    " \n",
    "plt.bar(y_pos, performance, align='center', alpha=0.5)\n",
    "plt.xticks(y_pos, objects, rotation='vertical')\n",
    "plt.xlabel('Malware Families')\n",
    "plt.ylabel('Class Weight')\n",
    "plt.title('Malimg Testing Dataset')\n",
    " \n",
    "plt.show()"
   ]
  },
  {
   "cell_type": "code",
   "execution_count": 25,
   "metadata": {},
   "outputs": [
    {
     "data": {
      "image/png": "[encoded data removed]",
      "text/plain": [
       "<matplotlib.figure.Figure at 0x7f3c6ed8c780>"
      ]
     },
     "metadata": {
      "needs_background": "light"
     },
     "output_type": "display_data"
    }
   ],
   "source": [
    "objects = class_labels#class_dictionary_train#cls_names_train#('Python', 'C++', 'Java', 'Perl', 'Scala', 'Lisp')\n",
    "y_pos = np.arange(len(objects))\n",
    "performance = [196,186]\n",
    " \n",
    "plt.bar(y_pos, performance, align='center', alpha=0.5)\n",
    "plt.xticks(y_pos, objects, rotation='vertical')\n",
    "plt.xlabel('Malware Families')\n",
    "plt.ylabel('Samples')\n",
    "plt.title('Malimg Dataset')\n",
    " \n",
    "plt.show()"
   ]
  },
  {
   "cell_type": "code",
   "execution_count": 26,
   "metadata": {},
   "outputs": [
    {
     "name": "stderr",
     "output_type": "stream",
     "text": [
      "/home/danish/anaconda3/envs/tf/lib/python3.6/site-packages/keras_applications/resnet50.py:265: UserWarning: The output shape of `ResNet50(include_top=False)` has been changed since Keras 2.2.0.\n",
      "  warnings.warn('The output shape of `ResNet50(include_top=False)` '\n"
     ]
    },
    {
     "name": "stdout",
     "output_type": "stream",
     "text": [
      "Tensor(\"activation_49/Relu:0\", shape=(?, ?, ?, 2048), dtype=float32)\n",
      "__________________________________________________________________________________________________\n",
      "Layer (type)                    Output Shape         Param #     Connected to                     \n",
      "==================================================================================================\n",
      "input_1 (InputLayer)            (None, None, None, 3 0                                            \n",
      "__________________________________________________________________________________________________\n",
      "conv1_pad (ZeroPadding2D)       (None, None, None, 3 0           input_1[0][0]                    \n",
      "__________________________________________________________________________________________________\n",
      "conv1 (Conv2D)                  (None, None, None, 6 9472        conv1_pad[0][0]                  \n",
      "__________________________________________________________________________________________________\n",
      "bn_conv1 (BatchNormalization)   (None, None, None, 6 256         conv1[0][0]                      \n",
      "__________________________________________________________________________________________________\n",
      "activation_1 (Activation)       (None, None, None, 6 0           bn_conv1[0][0]                   \n",
      "__________________________________________________________________________________________________\n",
      "pool1_pad (ZeroPadding2D)       (None, None, None, 6 0           activation_1[0][0]               \n",
      "__________________________________________________________________________________________________\n",
      "max_pooling2d_1 (MaxPooling2D)  (None, None, None, 6 0           pool1_pad[0][0]                  \n",
      "__________________________________________________________________________________________________\n",
      "res2a_branch2a (Conv2D)         (None, None, None, 6 4160        max_pooling2d_1[0][0]            \n",
      "__________________________________________________________________________________________________\n",
      "bn2a_branch2a (BatchNormalizati (None, None, None, 6 256         res2a_branch2a[0][0]             \n",
      "__________________________________________________________________________________________________\n",
      "activation_2 (Activation)       (None, None, None, 6 0           bn2a_branch2a[0][0]              \n",
      "__________________________________________________________________________________________________\n",
      "res2a_branch2b (Conv2D)         (None, None, None, 6 36928       activation_2[0][0]               \n",
      "__________________________________________________________________________________________________\n",
      "bn2a_branch2b (BatchNormalizati (None, None, None, 6 256         res2a_branch2b[0][0]             \n",
      "__________________________________________________________________________________________________\n",
      "activation_3 (Activation)       (None, None, None, 6 0           bn2a_branch2b[0][0]              \n",
      "__________________________________________________________________________________________________\n",
      "res2a_branch2c (Conv2D)         (None, None, None, 2 16640       activation_3[0][0]               \n",
      "__________________________________________________________________________________________________\n",
      "res2a_branch1 (Conv2D)          (None, None, None, 2 16640       max_pooling2d_1[0][0]            \n",
      "__________________________________________________________________________________________________\n",
      "bn2a_branch2c (BatchNormalizati (None, None, None, 2 1024        res2a_branch2c[0][0]             \n",
      "__________________________________________________________________________________________________\n",
      "bn2a_branch1 (BatchNormalizatio (None, None, None, 2 1024        res2a_branch1[0][0]              \n",
      "__________________________________________________________________________________________________\n",
      "add_1 (Add)                     (None, None, None, 2 0           bn2a_branch2c[0][0]              \n",
      "                                                                 bn2a_branch1[0][0]               \n",
      "__________________________________________________________________________________________________\n",
      "activation_4 (Activation)       (None, None, None, 2 0           add_1[0][0]                      \n",
      "__________________________________________________________________________________________________\n",
      "res2b_branch2a (Conv2D)         (None, None, None, 6 16448       activation_4[0][0]               \n",
      "__________________________________________________________________________________________________\n",
      "bn2b_branch2a (BatchNormalizati (None, None, None, 6 256         res2b_branch2a[0][0]             \n",
      "__________________________________________________________________________________________________\n",
      "activation_5 (Activation)       (None, None, None, 6 0           bn2b_branch2a[0][0]              \n",
      "__________________________________________________________________________________________________\n",
      "res2b_branch2b (Conv2D)         (None, None, None, 6 36928       activation_5[0][0]               \n",
      "__________________________________________________________________________________________________\n",
      "bn2b_branch2b (BatchNormalizati (None, None, None, 6 256         res2b_branch2b[0][0]             \n",
      "__________________________________________________________________________________________________\n",
      "activation_6 (Activation)       (None, None, None, 6 0           bn2b_branch2b[0][0]              \n",
      "__________________________________________________________________________________________________\n",
      "res2b_branch2c (Conv2D)         (None, None, None, 2 16640       activation_6[0][0]               \n",
      "__________________________________________________________________________________________________\n",
      "bn2b_branch2c (BatchNormalizati (None, None, None, 2 1024        res2b_branch2c[0][0]             \n",
      "__________________________________________________________________________________________________\n",
      "add_2 (Add)                     (None, None, None, 2 0           bn2b_branch2c[0][0]              \n",
      "                                                                 activation_4[0][0]               \n",
      "__________________________________________________________________________________________________\n",
      "activation_7 (Activation)       (None, None, None, 2 0           add_2[0][0]                      \n",
      "__________________________________________________________________________________________________\n",
      "res2c_branch2a (Conv2D)         (None, None, None, 6 16448       activation_7[0][0]               \n",
      "__________________________________________________________________________________________________\n",
      "bn2c_branch2a (BatchNormalizati (None, None, None, 6 256         res2c_branch2a[0][0]             \n",
      "__________________________________________________________________________________________________\n",
      "activation_8 (Activation)       (None, None, None, 6 0           bn2c_branch2a[0][0]              \n",
      "__________________________________________________________________________________________________\n",
      "res2c_branch2b (Conv2D)         (None, None, None, 6 36928       activation_8[0][0]               \n",
      "__________________________________________________________________________________________________\n",
      "bn2c_branch2b (BatchNormalizati (None, None, None, 6 256         res2c_branch2b[0][0]             \n",
      "__________________________________________________________________________________________________\n",
      "activation_9 (Activation)       (None, None, None, 6 0           bn2c_branch2b[0][0]              \n",
      "__________________________________________________________________________________________________\n",
      "res2c_branch2c (Conv2D)         (None, None, None, 2 16640       activation_9[0][0]               \n",
      "__________________________________________________________________________________________________\n",
      "bn2c_branch2c (BatchNormalizati (None, None, None, 2 1024        res2c_branch2c[0][0]             \n",
      "__________________________________________________________________________________________________\n",
      "add_3 (Add)                     (None, None, None, 2 0           bn2c_branch2c[0][0]              \n",
      "                                                                 activation_7[0][0]               \n",
      "__________________________________________________________________________________________________\n",
      "activation_10 (Activation)      (None, None, None, 2 0           add_3[0][0]                      \n",
      "__________________________________________________________________________________________________\n",
      "res3a_branch2a (Conv2D)         (None, None, None, 1 32896       activation_10[0][0]              \n",
      "__________________________________________________________________________________________________\n",
      "bn3a_branch2a (BatchNormalizati (None, None, None, 1 512         res3a_branch2a[0][0]             \n",
      "__________________________________________________________________________________________________\n",
      "activation_11 (Activation)      (None, None, None, 1 0           bn3a_branch2a[0][0]              \n",
      "__________________________________________________________________________________________________\n",
      "res3a_branch2b (Conv2D)         (None, None, None, 1 147584      activation_11[0][0]              \n",
      "__________________________________________________________________________________________________\n",
      "bn3a_branch2b (BatchNormalizati (None, None, None, 1 512         res3a_branch2b[0][0]             \n",
      "__________________________________________________________________________________________________\n",
      "activation_12 (Activation)      (None, None, None, 1 0           bn3a_branch2b[0][0]              \n",
      "__________________________________________________________________________________________________\n",
      "res3a_branch2c (Conv2D)         (None, None, None, 5 66048       activation_12[0][0]              \n",
      "__________________________________________________________________________________________________\n",
      "res3a_branch1 (Conv2D)          (None, None, None, 5 131584      activation_10[0][0]              \n",
      "__________________________________________________________________________________________________\n",
      "bn3a_branch2c (BatchNormalizati (None, None, None, 5 2048        res3a_branch2c[0][0]             \n",
      "__________________________________________________________________________________________________\n",
      "bn3a_branch1 (BatchNormalizatio (None, None, None, 5 2048        res3a_branch1[0][0]              \n",
      "__________________________________________________________________________________________________\n",
      "add_4 (Add)                     (None, None, None, 5 0           bn3a_branch2c[0][0]              \n",
      "                                                                 bn3a_branch1[0][0]               \n",
      "__________________________________________________________________________________________________\n",
      "activation_13 (Activation)      (None, None, None, 5 0           add_4[0][0]                      \n",
      "__________________________________________________________________________________________________\n",
      "res3b_branch2a (Conv2D)         (None, None, None, 1 65664       activation_13[0][0]              \n",
      "__________________________________________________________________________________________________\n",
      "bn3b_branch2a (BatchNormalizati (None, None, None, 1 512         res3b_branch2a[0][0]             \n",
      "__________________________________________________________________________________________________\n",
      "activation_14 (Activation)      (None, None, None, 1 0           bn3b_branch2a[0][0]              \n",
      "__________________________________________________________________________________________________\n",
      "res3b_branch2b (Conv2D)         (None, None, None, 1 147584      activation_14[0][0]              \n",
      "__________________________________________________________________________________________________\n",
      "bn3b_branch2b (BatchNormalizati (None, None, None, 1 512         res3b_branch2b[0][0]             \n",
      "__________________________________________________________________________________________________\n",
      "activation_15 (Activation)      (None, None, None, 1 0           bn3b_branch2b[0][0]              \n",
      "__________________________________________________________________________________________________\n",
      "res3b_branch2c (Conv2D)         (None, None, None, 5 66048       activation_15[0][0]              \n",
      "__________________________________________________________________________________________________\n",
      "bn3b_branch2c (BatchNormalizati (None, None, None, 5 2048        res3b_branch2c[0][0]             \n",
      "__________________________________________________________________________________________________\n",
      "add_5 (Add)                     (None, None, None, 5 0           bn3b_branch2c[0][0]              \n",
      "                                                                 activation_13[0][0]              \n",
      "__________________________________________________________________________________________________\n",
      "activation_16 (Activation)      (None, None, None, 5 0           add_5[0][0]                      \n",
      "__________________________________________________________________________________________________\n",
      "res3c_branch2a (Conv2D)         (None, None, None, 1 65664       activation_16[0][0]              \n",
      "__________________________________________________________________________________________________\n",
      "bn3c_branch2a (BatchNormalizati (None, None, None, 1 512         res3c_branch2a[0][0]             \n",
      "__________________________________________________________________________________________________\n",
      "activation_17 (Activation)      (None, None, None, 1 0           bn3c_branch2a[0][0]              \n",
      "__________________________________________________________________________________________________\n",
      "res3c_branch2b (Conv2D)         (None, None, None, 1 147584      activation_17[0][0]              \n",
      "__________________________________________________________________________________________________\n",
      "bn3c_branch2b (BatchNormalizati (None, None, None, 1 512         res3c_branch2b[0][0]             \n",
      "__________________________________________________________________________________________________\n",
      "activation_18 (Activation)      (None, None, None, 1 0           bn3c_branch2b[0][0]              \n",
      "__________________________________________________________________________________________________\n",
      "res3c_branch2c (Conv2D)         (None, None, None, 5 66048       activation_18[0][0]              \n",
      "__________________________________________________________________________________________________\n",
      "bn3c_branch2c (BatchNormalizati (None, None, None, 5 2048        res3c_branch2c[0][0]             \n",
      "__________________________________________________________________________________________________\n",
      "add_6 (Add)                     (None, None, None, 5 0           bn3c_branch2c[0][0]              \n",
      "                                                                 activation_16[0][0]              \n",
      "__________________________________________________________________________________________________\n",
      "activation_19 (Activation)      (None, None, None, 5 0           add_6[0][0]                      \n",
      "__________________________________________________________________________________________________\n",
      "res3d_branch2a (Conv2D)         (None, None, None, 1 65664       activation_19[0][0]              \n",
      "__________________________________________________________________________________________________\n",
      "bn3d_branch2a (BatchNormalizati (None, None, None, 1 512         res3d_branch2a[0][0]             \n",
      "__________________________________________________________________________________________________\n",
      "activation_20 (Activation)      (None, None, None, 1 0           bn3d_branch2a[0][0]              \n",
      "__________________________________________________________________________________________________\n",
      "res3d_branch2b (Conv2D)         (None, None, None, 1 147584      activation_20[0][0]              \n",
      "__________________________________________________________________________________________________\n",
      "bn3d_branch2b (BatchNormalizati (None, None, None, 1 512         res3d_branch2b[0][0]             \n",
      "__________________________________________________________________________________________________\n",
      "activation_21 (Activation)      (None, None, None, 1 0           bn3d_branch2b[0][0]              \n",
      "__________________________________________________________________________________________________\n",
      "res3d_branch2c (Conv2D)         (None, None, None, 5 66048       activation_21[0][0]              \n",
      "__________________________________________________________________________________________________\n",
      "bn3d_branch2c (BatchNormalizati (None, None, None, 5 2048        res3d_branch2c[0][0]             \n",
      "__________________________________________________________________________________________________\n",
      "add_7 (Add)                     (None, None, None, 5 0           bn3d_branch2c[0][0]              \n",
      "                                                                 activation_19[0][0]              \n",
      "__________________________________________________________________________________________________\n",
      "activation_22 (Activation)      (None, None, None, 5 0           add_7[0][0]                      \n",
      "__________________________________________________________________________________________________\n",
      "res4a_branch2a (Conv2D)         (None, None, None, 2 131328      activation_22[0][0]              \n",
      "__________________________________________________________________________________________________\n",
      "bn4a_branch2a (BatchNormalizati (None, None, None, 2 1024        res4a_branch2a[0][0]             \n",
      "__________________________________________________________________________________________________\n",
      "activation_23 (Activation)      (None, None, None, 2 0           bn4a_branch2a[0][0]              \n",
      "__________________________________________________________________________________________________\n",
      "res4a_branch2b (Conv2D)         (None, None, None, 2 590080      activation_23[0][0]              \n",
      "__________________________________________________________________________________________________\n",
      "bn4a_branch2b (BatchNormalizati (None, None, None, 2 1024        res4a_branch2b[0][0]             \n",
      "__________________________________________________________________________________________________\n",
      "activation_24 (Activation)      (None, None, None, 2 0           bn4a_branch2b[0][0]              \n",
      "__________________________________________________________________________________________________\n",
      "res4a_branch2c (Conv2D)         (None, None, None, 1 263168      activation_24[0][0]              \n",
      "__________________________________________________________________________________________________\n",
      "res4a_branch1 (Conv2D)          (None, None, None, 1 525312      activation_22[0][0]              \n",
      "__________________________________________________________________________________________________\n",
      "bn4a_branch2c (BatchNormalizati (None, None, None, 1 4096        res4a_branch2c[0][0]             \n",
      "__________________________________________________________________________________________________\n",
      "bn4a_branch1 (BatchNormalizatio (None, None, None, 1 4096        res4a_branch1[0][0]              \n",
      "__________________________________________________________________________________________________\n",
      "add_8 (Add)                     (None, None, None, 1 0           bn4a_branch2c[0][0]              \n",
      "                                                                 bn4a_branch1[0][0]               \n",
      "__________________________________________________________________________________________________\n",
      "activation_25 (Activation)      (None, None, None, 1 0           add_8[0][0]                      \n",
      "__________________________________________________________________________________________________\n",
      "res4b_branch2a (Conv2D)         (None, None, None, 2 262400      activation_25[0][0]              \n",
      "__________________________________________________________________________________________________\n",
      "bn4b_branch2a (BatchNormalizati (None, None, None, 2 1024        res4b_branch2a[0][0]             \n",
      "__________________________________________________________________________________________________\n",
      "activation_26 (Activation)      (None, None, None, 2 0           bn4b_branch2a[0][0]              \n",
      "__________________________________________________________________________________________________\n",
      "res4b_branch2b (Conv2D)         (None, None, None, 2 590080      activation_26[0][0]              \n",
      "__________________________________________________________________________________________________\n",
      "bn4b_branch2b (BatchNormalizati (None, None, None, 2 1024        res4b_branch2b[0][0]             \n",
      "__________________________________________________________________________________________________\n",
      "activation_27 (Activation)      (None, None, None, 2 0           bn4b_branch2b[0][0]              \n",
      "__________________________________________________________________________________________________\n",
      "res4b_branch2c (Conv2D)         (None, None, None, 1 263168      activation_27[0][0]              \n",
      "__________________________________________________________________________________________________\n",
      "bn4b_branch2c (BatchNormalizati (None, None, None, 1 4096        res4b_branch2c[0][0]             \n",
      "__________________________________________________________________________________________________\n",
      "add_9 (Add)                     (None, None, None, 1 0           bn4b_branch2c[0][0]              \n",
      "                                                                 activation_25[0][0]              \n",
      "__________________________________________________________________________________________________\n",
      "activation_28 (Activation)      (None, None, None, 1 0           add_9[0][0]                      \n",
      "__________________________________________________________________________________________________\n",
      "res4c_branch2a (Conv2D)         (None, None, None, 2 262400      activation_28[0][0]              \n",
      "__________________________________________________________________________________________________\n",
      "bn4c_branch2a (BatchNormalizati (None, None, None, 2 1024        res4c_branch2a[0][0]             \n",
      "__________________________________________________________________________________________________\n",
      "activation_29 (Activation)      (None, None, None, 2 0           bn4c_branch2a[0][0]              \n",
      "__________________________________________________________________________________________________\n",
      "res4c_branch2b (Conv2D)         (None, None, None, 2 590080      activation_29[0][0]              \n",
      "__________________________________________________________________________________________________\n",
      "bn4c_branch2b (BatchNormalizati (None, None, None, 2 1024        res4c_branch2b[0][0]             \n",
      "__________________________________________________________________________________________________\n",
      "activation_30 (Activation)      (None, None, None, 2 0           bn4c_branch2b[0][0]              \n",
      "__________________________________________________________________________________________________\n",
      "res4c_branch2c (Conv2D)         (None, None, None, 1 263168      activation_30[0][0]              \n",
      "__________________________________________________________________________________________________\n",
      "bn4c_branch2c (BatchNormalizati (None, None, None, 1 4096        res4c_branch2c[0][0]             \n",
      "__________________________________________________________________________________________________\n",
      "add_10 (Add)                    (None, None, None, 1 0           bn4c_branch2c[0][0]              \n",
      "                                                                 activation_28[0][0]              \n",
      "__________________________________________________________________________________________________\n",
      "activation_31 (Activation)      (None, None, None, 1 0           add_10[0][0]                     \n",
      "__________________________________________________________________________________________________\n",
      "res4d_branch2a (Conv2D)         (None, None, None, 2 262400      activation_31[0][0]              \n",
      "__________________________________________________________________________________________________\n",
      "bn4d_branch2a (BatchNormalizati (None, None, None, 2 1024        res4d_branch2a[0][0]             \n",
      "__________________________________________________________________________________________________\n",
      "activation_32 (Activation)      (None, None, None, 2 0           bn4d_branch2a[0][0]              \n",
      "__________________________________________________________________________________________________\n",
      "res4d_branch2b (Conv2D)         (None, None, None, 2 590080      activation_32[0][0]              \n",
      "__________________________________________________________________________________________________\n",
      "bn4d_branch2b (BatchNormalizati (None, None, None, 2 1024        res4d_branch2b[0][0]             \n",
      "__________________________________________________________________________________________________\n",
      "activation_33 (Activation)      (None, None, None, 2 0           bn4d_branch2b[0][0]              \n",
      "__________________________________________________________________________________________________\n",
      "res4d_branch2c (Conv2D)         (None, None, None, 1 263168      activation_33[0][0]              \n",
      "__________________________________________________________________________________________________\n",
      "bn4d_branch2c (BatchNormalizati (None, None, None, 1 4096        res4d_branch2c[0][0]             \n",
      "__________________________________________________________________________________________________\n",
      "add_11 (Add)                    (None, None, None, 1 0           bn4d_branch2c[0][0]              \n",
      "                                                                 activation_31[0][0]              \n",
      "__________________________________________________________________________________________________\n",
      "activation_34 (Activation)      (None, None, None, 1 0           add_11[0][0]                     \n",
      "__________________________________________________________________________________________________\n",
      "res4e_branch2a (Conv2D)         (None, None, None, 2 262400      activation_34[0][0]              \n",
      "__________________________________________________________________________________________________\n",
      "bn4e_branch2a (BatchNormalizati (None, None, None, 2 1024        res4e_branch2a[0][0]             \n",
      "__________________________________________________________________________________________________\n",
      "activation_35 (Activation)      (None, None, None, 2 0           bn4e_branch2a[0][0]              \n",
      "__________________________________________________________________________________________________\n",
      "res4e_branch2b (Conv2D)         (None, None, None, 2 590080      activation_35[0][0]              \n",
      "__________________________________________________________________________________________________\n",
      "bn4e_branch2b (BatchNormalizati (None, None, None, 2 1024        res4e_branch2b[0][0]             \n",
      "__________________________________________________________________________________________________\n",
      "activation_36 (Activation)      (None, None, None, 2 0           bn4e_branch2b[0][0]              \n",
      "__________________________________________________________________________________________________\n",
      "res4e_branch2c (Conv2D)         (None, None, None, 1 263168      activation_36[0][0]              \n",
      "__________________________________________________________________________________________________\n",
      "bn4e_branch2c (BatchNormalizati (None, None, None, 1 4096        res4e_branch2c[0][0]             \n",
      "__________________________________________________________________________________________________\n",
      "add_12 (Add)                    (None, None, None, 1 0           bn4e_branch2c[0][0]              \n",
      "                                                                 activation_34[0][0]              \n",
      "__________________________________________________________________________________________________\n",
      "activation_37 (Activation)      (None, None, None, 1 0           add_12[0][0]                     \n",
      "__________________________________________________________________________________________________\n",
      "res4f_branch2a (Conv2D)         (None, None, None, 2 262400      activation_37[0][0]              \n",
      "__________________________________________________________________________________________________\n",
      "bn4f_branch2a (BatchNormalizati (None, None, None, 2 1024        res4f_branch2a[0][0]             \n",
      "__________________________________________________________________________________________________\n",
      "activation_38 (Activation)      (None, None, None, 2 0           bn4f_branch2a[0][0]              \n",
      "__________________________________________________________________________________________________\n",
      "res4f_branch2b (Conv2D)         (None, None, None, 2 590080      activation_38[0][0]              \n",
      "__________________________________________________________________________________________________\n",
      "bn4f_branch2b (BatchNormalizati (None, None, None, 2 1024        res4f_branch2b[0][0]             \n",
      "__________________________________________________________________________________________________\n",
      "activation_39 (Activation)      (None, None, None, 2 0           bn4f_branch2b[0][0]              \n",
      "__________________________________________________________________________________________________\n",
      "res4f_branch2c (Conv2D)         (None, None, None, 1 263168      activation_39[0][0]              \n",
      "__________________________________________________________________________________________________\n",
      "bn4f_branch2c (BatchNormalizati (None, None, None, 1 4096        res4f_branch2c[0][0]             \n",
      "__________________________________________________________________________________________________\n",
      "add_13 (Add)                    (None, None, None, 1 0           bn4f_branch2c[0][0]              \n",
      "                                                                 activation_37[0][0]              \n",
      "__________________________________________________________________________________________________\n",
      "activation_40 (Activation)      (None, None, None, 1 0           add_13[0][0]                     \n",
      "__________________________________________________________________________________________________\n",
      "res5a_branch2a (Conv2D)         (None, None, None, 5 524800      activation_40[0][0]              \n",
      "__________________________________________________________________________________________________\n",
      "bn5a_branch2a (BatchNormalizati (None, None, None, 5 2048        res5a_branch2a[0][0]             \n",
      "__________________________________________________________________________________________________\n",
      "activation_41 (Activation)      (None, None, None, 5 0           bn5a_branch2a[0][0]              \n",
      "__________________________________________________________________________________________________\n",
      "res5a_branch2b (Conv2D)         (None, None, None, 5 2359808     activation_41[0][0]              \n",
      "__________________________________________________________________________________________________\n",
      "bn5a_branch2b (BatchNormalizati (None, None, None, 5 2048        res5a_branch2b[0][0]             \n",
      "__________________________________________________________________________________________________\n",
      "activation_42 (Activation)      (None, None, None, 5 0           bn5a_branch2b[0][0]              \n",
      "__________________________________________________________________________________________________\n",
      "res5a_branch2c (Conv2D)         (None, None, None, 2 1050624     activation_42[0][0]              \n",
      "__________________________________________________________________________________________________\n",
      "res5a_branch1 (Conv2D)          (None, None, None, 2 2099200     activation_40[0][0]              \n",
      "__________________________________________________________________________________________________\n",
      "bn5a_branch2c (BatchNormalizati (None, None, None, 2 8192        res5a_branch2c[0][0]             \n",
      "__________________________________________________________________________________________________\n",
      "bn5a_branch1 (BatchNormalizatio (None, None, None, 2 8192        res5a_branch1[0][0]              \n",
      "__________________________________________________________________________________________________\n",
      "add_14 (Add)                    (None, None, None, 2 0           bn5a_branch2c[0][0]              \n",
      "                                                                 bn5a_branch1[0][0]               \n",
      "__________________________________________________________________________________________________\n",
      "activation_43 (Activation)      (None, None, None, 2 0           add_14[0][0]                     \n",
      "__________________________________________________________________________________________________\n",
      "res5b_branch2a (Conv2D)         (None, None, None, 5 1049088     activation_43[0][0]              \n",
      "__________________________________________________________________________________________________\n",
      "bn5b_branch2a (BatchNormalizati (None, None, None, 5 2048        res5b_branch2a[0][0]             \n",
      "__________________________________________________________________________________________________\n",
      "activation_44 (Activation)      (None, None, None, 5 0           bn5b_branch2a[0][0]              \n",
      "__________________________________________________________________________________________________\n",
      "res5b_branch2b (Conv2D)         (None, None, None, 5 2359808     activation_44[0][0]              \n",
      "__________________________________________________________________________________________________\n",
      "bn5b_branch2b (BatchNormalizati (None, None, None, 5 2048        res5b_branch2b[0][0]             \n",
      "__________________________________________________________________________________________________\n",
      "activation_45 (Activation)      (None, None, None, 5 0           bn5b_branch2b[0][0]              \n",
      "__________________________________________________________________________________________________\n",
      "res5b_branch2c (Conv2D)         (None, None, None, 2 1050624     activation_45[0][0]              \n",
      "__________________________________________________________________________________________________\n",
      "bn5b_branch2c (BatchNormalizati (None, None, None, 2 8192        res5b_branch2c[0][0]             \n",
      "__________________________________________________________________________________________________\n",
      "add_15 (Add)                    (None, None, None, 2 0           bn5b_branch2c[0][0]              \n",
      "                                                                 activation_43[0][0]              \n",
      "__________________________________________________________________________________________________\n",
      "activation_46 (Activation)      (None, None, None, 2 0           add_15[0][0]                     \n",
      "__________________________________________________________________________________________________\n",
      "res5c_branch2a (Conv2D)         (None, None, None, 5 1049088     activation_46[0][0]              \n",
      "__________________________________________________________________________________________________\n",
      "bn5c_branch2a (BatchNormalizati (None, None, None, 5 2048        res5c_branch2a[0][0]             \n",
      "__________________________________________________________________________________________________\n",
      "activation_47 (Activation)      (None, None, None, 5 0           bn5c_branch2a[0][0]              \n",
      "__________________________________________________________________________________________________\n",
      "res5c_branch2b (Conv2D)         (None, None, None, 5 2359808     activation_47[0][0]              \n",
      "__________________________________________________________________________________________________\n",
      "bn5c_branch2b (BatchNormalizati (None, None, None, 5 2048        res5c_branch2b[0][0]             \n",
      "__________________________________________________________________________________________________\n",
      "activation_48 (Activation)      (None, None, None, 5 0           bn5c_branch2b[0][0]              \n",
      "__________________________________________________________________________________________________\n",
      "res5c_branch2c (Conv2D)         (None, None, None, 2 1050624     activation_48[0][0]              \n",
      "__________________________________________________________________________________________________\n",
      "bn5c_branch2c (BatchNormalizati (None, None, None, 2 8192        res5c_branch2c[0][0]             \n",
      "__________________________________________________________________________________________________\n",
      "add_16 (Add)                    (None, None, None, 2 0           bn5c_branch2c[0][0]              \n",
      "                                                                 activation_46[0][0]              \n",
      "__________________________________________________________________________________________________\n",
      "activation_49 (Activation)      (None, None, None, 2 0           add_16[0][0]                     \n",
      "==================================================================================================\n",
      "Total params: 23,587,712\n",
      "Trainable params: 23,534,592\n",
      "Non-trainable params: 53,120\n",
      "__________________________________________________________________________________________________\n"
     ]
    }
   ],
   "source": [
    "model_ = keras.applications.resnet50.ResNet50(include_top=False)\n",
    "#model.summary()\n",
    "transfer_layer = model_.get_layer('activation_49')\n",
    "print(transfer_layer.output)\n",
    "\n",
    "conv_model = Model(inputs=model_.input,\n",
    "                   outputs=transfer_layer.output)\n",
    "conv_model.summary()\n"
   ]
  },
  {
   "cell_type": "code",
   "execution_count": 27,
   "metadata": {},
   "outputs": [],
   "source": [
    "model = Sequential()\n",
    "model.add(conv_model)\n",
    "model.add(keras.layers.pooling.GlobalAveragePooling2D(name='avg_pool'))\n",
    "model.add(Dense(2, activation='softmax'))"
   ]
  },
  {
   "cell_type": "code",
   "execution_count": 28,
   "metadata": {},
   "outputs": [
    {
     "name": "stdout",
     "output_type": "stream",
     "text": [
      "_________________________________________________________________\n",
      "Layer (type)                 Output Shape              Param #   \n",
      "=================================================================\n",
      "model_1 (Model)              (None, None, None, 2048)  23587712  \n",
      "_________________________________________________________________\n",
      "avg_pool (GlobalAveragePooli (None, 2048)              0         \n",
      "_________________________________________________________________\n",
      "dense_1 (Dense)              (None, 2)                 4098      \n",
      "=================================================================\n",
      "Total params: 23,591,810\n",
      "Trainable params: 23,538,690\n",
      "Non-trainable params: 53,120\n",
      "_________________________________________________________________\n"
     ]
    }
   ],
   "source": [
    "model.summary()"
   ]
  },
  {
   "cell_type": "code",
   "execution_count": 29,
   "metadata": {},
   "outputs": [],
   "source": [
    "model.compile(optimizer='adam',loss='categorical_crossentropy', metrics=['accuracy'])"
   ]
  },
  {
   "cell_type": "code",
   "execution_count": 30,
   "metadata": {},
   "outputs": [
    {
     "name": "stdout",
     "output_type": "stream",
     "text": [
      "Epoch 1/50\n",
      "6/5 [==============================] - 19s 3s/step - loss: 0.8748 - acc: 0.6184 - val_loss: 8.2888 - val_acc: 0.4848\n",
      "Epoch 2/50\n",
      "6/5 [==============================] - 1s 154ms/step - loss: 0.4546 - acc: 0.8531 - val_loss: 7.6062 - val_acc: 0.4848\n",
      "Epoch 3/50\n",
      "6/5 [==============================] - 1s 162ms/step - loss: 0.3768 - acc: 0.8554 - val_loss: 6.0711 - val_acc: 0.5152\n",
      "Epoch 4/50\n",
      "6/5 [==============================] - 1s 157ms/step - loss: 0.1144 - acc: 0.9686 - val_loss: 3.6263 - val_acc: 0.6667\n",
      "Epoch 5/50\n",
      "6/5 [==============================] - 1s 154ms/step - loss: 0.0970 - acc: 0.9762 - val_loss: 3.0320 - val_acc: 0.6242\n",
      "Epoch 6/50\n",
      "6/5 [==============================] - 1s 145ms/step - loss: 0.1274 - acc: 0.9607 - val_loss: 2.3442 - val_acc: 0.6424\n",
      "Epoch 7/50\n",
      "6/5 [==============================] - 1s 152ms/step - loss: 0.0933 - acc: 0.9815 - val_loss: 2.2109 - val_acc: 0.6788\n",
      "Epoch 8/50\n",
      "6/5 [==============================] - 1s 147ms/step - loss: 0.0618 - acc: 0.9948 - val_loss: 1.8571 - val_acc: 0.7030\n",
      "Epoch 9/50\n",
      "6/5 [==============================] - 1s 147ms/step - loss: 0.0445 - acc: 0.9974 - val_loss: 1.7293 - val_acc: 0.7091\n",
      "Epoch 10/50\n",
      "6/5 [==============================] - 1s 142ms/step - loss: 0.0462 - acc: 0.9974 - val_loss: 1.6558 - val_acc: 0.7394\n",
      "Epoch 11/50\n",
      "6/5 [==============================] - 1s 151ms/step - loss: 0.0436 - acc: 0.9974 - val_loss: 1.7359 - val_acc: 0.7636\n",
      "Epoch 12/50\n",
      "6/5 [==============================] - 1s 153ms/step - loss: 0.0421 - acc: 0.9974 - val_loss: 1.8564 - val_acc: 0.7576\n",
      "Epoch 13/50\n",
      "6/5 [==============================] - 1s 148ms/step - loss: 0.0424 - acc: 0.9974 - val_loss: 1.8925 - val_acc: 0.7515\n",
      "Epoch 14/50\n",
      "6/5 [==============================] - 1s 149ms/step - loss: 0.0432 - acc: 0.9974 - val_loss: 2.0902 - val_acc: 0.7636\n",
      "Epoch 15/50\n",
      "6/5 [==============================] - 1s 145ms/step - loss: 0.0424 - acc: 0.9974 - val_loss: 2.4161 - val_acc: 0.7394\n",
      "Epoch 16/50\n",
      "6/5 [==============================] - 1s 148ms/step - loss: 0.0420 - acc: 0.9974 - val_loss: 2.5744 - val_acc: 0.7333\n",
      "Epoch 17/50\n",
      "6/5 [==============================] - 1s 148ms/step - loss: 0.0421 - acc: 0.9974 - val_loss: 2.6154 - val_acc: 0.7394\n",
      "Epoch 18/50\n",
      "6/5 [==============================] - 1s 152ms/step - loss: 0.0421 - acc: 0.9974 - val_loss: 2.5907 - val_acc: 0.7455\n",
      "Epoch 19/50\n",
      "6/5 [==============================] - 1s 154ms/step - loss: 0.0421 - acc: 0.9974 - val_loss: 2.5266 - val_acc: 0.7333\n",
      "Epoch 20/50\n",
      "6/5 [==============================] - 1s 150ms/step - loss: 0.0421 - acc: 0.9974 - val_loss: 2.4529 - val_acc: 0.7394\n",
      "Epoch 21/50\n",
      "6/5 [==============================] - 1s 146ms/step - loss: 0.0434 - acc: 0.9973 - val_loss: 2.3784 - val_acc: 0.7273\n",
      "Epoch 22/50\n",
      "6/5 [==============================] - 1s 152ms/step - loss: 0.0420 - acc: 0.9974 - val_loss: 2.3227 - val_acc: 0.7273\n",
      "Epoch 23/50\n",
      "6/5 [==============================] - 1s 159ms/step - loss: 0.0421 - acc: 0.9974 - val_loss: 2.2699 - val_acc: 0.7333\n",
      "Epoch 24/50\n",
      "6/5 [==============================] - 1s 157ms/step - loss: 0.0420 - acc: 0.9974 - val_loss: 2.2299 - val_acc: 0.7394\n",
      "Epoch 25/50\n",
      "6/5 [==============================] - 1s 150ms/step - loss: 0.0420 - acc: 0.9974 - val_loss: 2.1975 - val_acc: 0.7455\n",
      "Epoch 26/50\n",
      "6/5 [==============================] - 1s 155ms/step - loss: 0.0420 - acc: 0.9974 - val_loss: 2.1719 - val_acc: 0.7455\n",
      "Epoch 27/50\n",
      "6/5 [==============================] - 1s 156ms/step - loss: 0.0420 - acc: 0.9974 - val_loss: 2.1484 - val_acc: 0.7455\n",
      "Epoch 28/50\n",
      "6/5 [==============================] - 1s 143ms/step - loss: 0.0420 - acc: 0.9974 - val_loss: 2.1283 - val_acc: 0.7515\n",
      "Epoch 29/50\n",
      "6/5 [==============================] - 1s 144ms/step - loss: 0.0420 - acc: 0.9974 - val_loss: 2.1107 - val_acc: 0.7515\n",
      "Epoch 30/50\n",
      "6/5 [==============================] - 1s 152ms/step - loss: 0.0420 - acc: 0.9974 - val_loss: 2.0955 - val_acc: 0.7636\n",
      "Epoch 31/50\n",
      "6/5 [==============================] - 1s 157ms/step - loss: 0.0420 - acc: 0.9974 - val_loss: 2.0818 - val_acc: 0.7636\n",
      "Epoch 32/50\n",
      "6/5 [==============================] - 1s 161ms/step - loss: 0.0420 - acc: 0.9974 - val_loss: 2.0693 - val_acc: 0.7697\n",
      "Epoch 33/50\n",
      "6/5 [==============================] - 1s 163ms/step - loss: 0.0420 - acc: 0.9974 - val_loss: 2.0575 - val_acc: 0.7697\n",
      "Epoch 34/50\n",
      "6/5 [==============================] - 1s 166ms/step - loss: 0.0432 - acc: 0.9973 - val_loss: 2.0420 - val_acc: 0.7697\n",
      "Epoch 35/50\n",
      "6/5 [==============================] - 1s 168ms/step - loss: 0.0420 - acc: 0.9974 - val_loss: 2.0293 - val_acc: 0.7697\n",
      "Epoch 36/50\n",
      "6/5 [==============================] - 1s 164ms/step - loss: 0.0432 - acc: 0.9973 - val_loss: 2.0193 - val_acc: 0.7697\n",
      "Epoch 37/50\n",
      "6/5 [==============================] - 1s 149ms/step - loss: 0.0423 - acc: 0.9974 - val_loss: 1.9812 - val_acc: 0.7576\n",
      "Epoch 38/50\n",
      "6/5 [==============================] - 1s 150ms/step - loss: 0.0420 - acc: 0.9974 - val_loss: 1.9555 - val_acc: 0.7576\n",
      "Epoch 39/50\n",
      "6/5 [==============================] - 1s 152ms/step - loss: 0.0420 - acc: 0.9974 - val_loss: 1.9425 - val_acc: 0.7636\n",
      "Epoch 40/50\n",
      "6/5 [==============================] - 1s 156ms/step - loss: 0.0420 - acc: 0.9974 - val_loss: 1.9342 - val_acc: 0.7636\n",
      "Epoch 41/50\n",
      "6/5 [==============================] - 1s 151ms/step - loss: 0.0420 - acc: 0.9974 - val_loss: 1.9278 - val_acc: 0.7636\n",
      "Epoch 42/50\n",
      "6/5 [==============================] - 1s 150ms/step - loss: 0.0420 - acc: 0.9974 - val_loss: 1.9235 - val_acc: 0.7636\n",
      "Epoch 43/50\n",
      "6/5 [==============================] - 1s 153ms/step - loss: 0.0420 - acc: 0.9974 - val_loss: 1.9205 - val_acc: 0.7636\n",
      "Epoch 44/50\n",
      "6/5 [==============================] - 1s 149ms/step - loss: 0.0420 - acc: 0.9974 - val_loss: 1.9188 - val_acc: 0.7576\n",
      "Epoch 45/50\n",
      "6/5 [==============================] - 1s 153ms/step - loss: 0.0432 - acc: 0.9973 - val_loss: 1.9175 - val_acc: 0.7576\n",
      "Epoch 46/50\n",
      "6/5 [==============================] - 1s 154ms/step - loss: 0.0420 - acc: 0.9974 - val_loss: 1.9165 - val_acc: 0.7515\n",
      "Epoch 47/50\n",
      "6/5 [==============================] - 1s 154ms/step - loss: 0.0420 - acc: 0.9974 - val_loss: 1.9144 - val_acc: 0.7515\n",
      "Epoch 48/50\n",
      "6/5 [==============================] - 1s 151ms/step - loss: 0.0420 - acc: 0.9974 - val_loss: 1.9126 - val_acc: 0.7515\n",
      "Epoch 49/50\n",
      "6/5 [==============================] - 1s 148ms/step - loss: 0.0420 - acc: 0.9974 - val_loss: 1.9111 - val_acc: 0.7515\n",
      "Epoch 50/50\n",
      "6/5 [==============================] - 1s 148ms/step - loss: 0.0420 - acc: 0.9974 - val_loss: 1.9103 - val_acc: 0.7576\n"
     ]
    }
   ],
   "source": [
    "history = model.fit_generator(generator=generator_train,\n",
    "                                epochs=50,\n",
    "                                steps_per_epoch=steps_train,\n",
    "                                class_weight=class_weight_train,\n",
    "                                validation_data=generator_test,\n",
    "                                validation_steps=steps_test\n",
    "                                )"
   ]
  },
  {
   "cell_type": "code",
   "execution_count": 31,
   "metadata": {},
   "outputs": [],
   "source": [
    "model.save(\"ResNet50.h5\")"
   ]
  },
  {
   "cell_type": "code",
   "execution_count": 32,
   "metadata": {},
   "outputs": [],
   "source": [
    "#####################################\n",
    "# write Traning History to a file\n",
    "output = open('ResNet50-History.pkl', 'wb')\n",
    "pickle.dump(history.history, output)\n",
    "output.close()\n",
    "#####################################"
   ]
  },
  {
   "cell_type": "code",
   "execution_count": 33,
   "metadata": {},
   "outputs": [],
   "source": [
    "\n",
    "# read Traning History back from the file\n",
    "pkl_file = open('ResNet50-History.pkl', 'rb')\n",
    "history = pickle.load(pkl_file)\n",
    "pkl_file.close()"
   ]
  },
  {
   "cell_type": "code",
   "execution_count": 34,
   "metadata": {},
   "outputs": [
    {
     "name": "stdout",
     "output_type": "stream",
     "text": [
      "3/3 [==============================] - 0s 67ms/step\n",
      "acc: 75.76%\n"
     ]
    }
   ],
   "source": [
    "scores = model.evaluate_generator(generator_test, verbose=1)\n",
    "print(\"%s: %.2f%%\" % (model.metrics_names[1], scores[1]*100))"
   ]
  },
  {
   "cell_type": "code",
   "execution_count": 35,
   "metadata": {},
   "outputs": [
    {
     "name": "stdout",
     "output_type": "stream",
     "text": [
      "3/3 [==============================] - 2s 567ms/step\n"
     ]
    }
   ],
   "source": [
    "cls_pred = model.predict_generator(generator_test, verbose=1)#, steps_test, max_queue_size=10, workers=1, use_multiprocessing=False, verbose=1)"
   ]
  },
  {
   "cell_type": "code",
   "execution_count": 37,
   "metadata": {},
   "outputs": [
    {
     "data": {
      "image/png": "[encoded data removed]",
      "text/plain": [
       "<matplotlib.figure.Figure at 0x7f3c122089b0>"
      ]
     },
     "metadata": {
      "needs_background": "light"
     },
     "output_type": "display_data"
    }
   ],
   "source": [
    "import scikitplot as skplt\n",
    "import matplotlib.pyplot as plt\n",
    "\n",
    "\n",
    "y_true = cls_test# ground truth labels\n",
    "y_probas = cls_pred# predicted probabilities generated by sklearn classifier\n",
    "\n",
    "list_fams = ['Benign','Malware']\n",
    "figsize=(8,6)\n",
    "title = \"ROC for ResNet50\"\n",
    "title_fontsize = 12\n",
    "fig, ax = plt.subplots(1, 1, figsize=figsize)\n",
    "text_fontsize = 10\n",
    "\n",
    "skplt.metrics.plot_roc(y_true, y_probas,ax=ax, plot_macro=False, plot_micro=False )\n",
    "\n",
    "ax.set_title(title, fontsize=title_fontsize)\n",
    "#ax.get_legend()#.remove()\n",
    "ax.legend(list_fams)\n",
    "plt.savefig(\"ROC for ResNet50.png\")\n",
    "plt.show()"
   ]
  },
  {
   "cell_type": "code",
   "execution_count": 38,
   "metadata": {},
   "outputs": [],
   "source": [
    "cls_pred = np.argmax(cls_pred, axis=1)"
   ]
  },
  {
   "cell_type": "code",
   "execution_count": 39,
   "metadata": {},
   "outputs": [
    {
     "data": {
      "image/png": "[encoded data removed]",
      "text/plain": [
       "<matplotlib.figure.Figure at 0x7f3c10734d30>"
      ]
     },
     "metadata": {
      "needs_background": "light"
     },
     "output_type": "display_data"
    }
   ],
   "source": [
    "import seaborn as sns\n",
    "\n",
    "def plot_confusion_matrix():\n",
    "    \n",
    "    list_fams=['Benign','Malware']\n",
    "    \n",
    "    \n",
    "    cm = confusion_matrix(y_true=cls_test, y_pred=cls_pred)\n",
    "    \n",
    "    cm=cm.astype('float')/cm.sum(axis=1)[:,np.newaxis]\n",
    "    \n",
    "    figure = plt.gcf()\n",
    "    figure.set_size_inches(20, 12)\n",
    "    sns.set(font_scale=1.25)\n",
    "    hm = sns.heatmap(cm, cmap= \"YlGnBu\" ,cbar=True, annot=True, square=True,\n",
    "                 annot_kws={'size': 9}, linewidth = 0.01,\n",
    "                 yticklabels=list_fams, xticklabels=list_fams)\n",
    "    plt.ylabel('True label')\n",
    "    plt.xlabel('Predicted label')\n",
    "    \n",
    "    plt.savefig('ResNet50-Matrix.png', bbox_inches='tight')\n",
    "    plt.show()\n",
    "    \n",
    "plot_confusion_matrix()"
   ]
  },
  {
   "cell_type": "code",
   "execution_count": 40,
   "metadata": {},
   "outputs": [
    {
     "name": "stdout",
     "output_type": "stream",
     "text": [
      "All Classes\n",
      "Precision:  [ 0.77777778  0.74193548]\n",
      "Recall:  [ 0.7         0.81176471]\n",
      "F1 score:  [ 0.73684211  0.7752809 ]\n",
      "CPU times: user 6.1 ms, sys: 136 µs, total: 6.23 ms\n",
      "Wall time: 4.56 ms\n"
     ]
    }
   ],
   "source": [
    "%%time\n",
    "from sklearn.metrics import precision_recall_fscore_support, accuracy_score\n",
    "cls_true = cls_test = generator_test.classes\n",
    "accuracy = accuracy_score(cls_true, cls_pred)\n",
    "precision, recall, f1_score, _ = precision_recall_fscore_support(cls_true, cls_pred, average=None)\n",
    "\n",
    "print(\"All Classes\")\n",
    "print(\"Precision: \", precision)\n",
    "print(\"Recall: \", recall)\n",
    "print(\"F1 score: \", f1_score)"
   ]
  },
  {
   "cell_type": "code",
   "execution_count": 41,
   "metadata": {},
   "outputs": [
    {
     "name": "stdout",
     "output_type": "stream",
     "text": [
      "Micro\n",
      "Precision:  0.757575757576\n",
      "Recall:  0.757575757576\n",
      "F1 score:  0.757575757576\n",
      "CPU times: user 4.51 ms, sys: 0 ns, total: 4.51 ms\n",
      "Wall time: 3.31 ms\n"
     ]
    }
   ],
   "source": [
    "%%time\n",
    "from sklearn.metrics import precision_recall_fscore_support, accuracy_score\n",
    "cls_true = cls_test = generator_test.classes\n",
    "accuracy = accuracy_score(cls_true, cls_pred)\n",
    "precision, recall, f1_score, _ = precision_recall_fscore_support(cls_true, cls_pred, average='micro')\n",
    "\n",
    "print(\"Micro\")\n",
    "print(\"Precision: \", precision)\n",
    "print(\"Recall: \", recall)\n",
    "print(\"F1 score: \", f1_score)"
   ]
  },
  {
   "cell_type": "code",
   "execution_count": 42,
   "metadata": {},
   "outputs": [
    {
     "name": "stdout",
     "output_type": "stream",
     "text": [
      "Macro\n",
      "Precision:  0.759856630824\n",
      "Recall:  0.755882352941\n",
      "F1 score:  0.75606150207\n",
      "CPU times: user 3.84 ms, sys: 0 ns, total: 3.84 ms\n",
      "Wall time: 3.06 ms\n"
     ]
    }
   ],
   "source": [
    "%%time\n",
    "from sklearn.metrics import precision_recall_fscore_support, accuracy_score\n",
    "cls_true = cls_test = generator_test.classes\n",
    "accuracy = accuracy_score(cls_true, cls_pred)\n",
    "precision, recall, f1_score, _ = precision_recall_fscore_support(cls_true, cls_pred, average='macro')\n",
    "\n",
    "print(\"Macro\")\n",
    "print(\"Precision: \", precision)\n",
    "print(\"Recall: \", recall)\n",
    "print(\"F1 score: \", f1_score)"
   ]
  },
  {
   "cell_type": "code",
   "execution_count": 43,
   "metadata": {},
   "outputs": [
    {
     "name": "stdout",
     "output_type": "stream",
     "text": [
      "weighted\n",
      "Precision:  0.759313565765\n",
      "Recall:  0.757575757576\n",
      "F1 score:  0.756643908034\n",
      "CPU times: user 4.32 ms, sys: 0 ns, total: 4.32 ms\n",
      "Wall time: 3.33 ms\n"
     ]
    }
   ],
   "source": [
    "%%time\n",
    "from sklearn.metrics import precision_recall_fscore_support, accuracy_score\n",
    "cls_true = cls_test = generator_test.classes\n",
    "accuracy = accuracy_score(cls_true, cls_pred)\n",
    "precision, recall, f1_score, _ = precision_recall_fscore_support(cls_true, cls_pred, average='weighted')\n",
    "\n",
    "print(\"weighted\")\n",
    "print(\"Precision: \", precision)\n",
    "print(\"Recall: \", recall)\n",
    "print(\"F1 score: \", f1_score)"
   ]
  },
  {
   "cell_type": "code",
   "execution_count": 44,
   "metadata": {},
   "outputs": [],
   "source": [
    "def plot_history(history):\n",
    "    loss_list = [s for s in history.keys() if 'loss' in s and 'val' not in s]\n",
    "    val_loss_list = [s for s in history.keys() if 'loss' in s and 'val' in s]\n",
    "    acc_list = [s for s in history.keys() if 'acc' in s and 'val' not in s]\n",
    "    val_acc_list = [s for s in history.keys() if 'acc' in s and 'val' in s]\n",
    "    plt.figure(figsize = (25,7))\n",
    "    if len(loss_list) == 0:\n",
    "        print('Loss is missing in history')\n",
    "        return \n",
    "    \n",
    "    ## As loss always exists\n",
    "    epochs = range(1,len(history[loss_list[0]]) + 1)\n",
    "    \n",
    "    ## Loss\n",
    "    plt.figure(1)\n",
    "    for l in loss_list:\n",
    "        plt.plot(epochs, history[l], 'b', label='Training loss (' + str(str(format(history[l][-1],'.5f'))+')'))\n",
    "    for l in val_loss_list:\n",
    "        plt.plot(epochs, history[l], 'g', label='Testing loss (' + str(str(format(history[l][-1],'.5f'))+')'))\n",
    "    \n",
    "    plt.title('Loss')\n",
    "    plt.xlabel('Epochs')\n",
    "    plt.ylabel('Loss')\n",
    "    plt.legend()\n",
    "    plt.savefig(save_fn+'_Graph#######LOSS.png', bbox_inches='tight')\n",
    "    \n",
    "    \n",
    "    ## Accuracy\n",
    "    plt.figure(figsize = (25,7))\n",
    "    plt.figure(2)\n",
    "    for l in acc_list:\n",
    "        plt.plot(epochs, history[l], 'b', label='Training accuracy (' + str(format(history[l][-1],'.5f'))+')')\n",
    "    for l in val_acc_list:    \n",
    "        plt.plot(epochs, history[l], 'g', label='Testing accuracy (' + str(format(history[l][-1],'.5f'))+')')\n",
    "\n",
    "    plt.title('Accuracy')\n",
    "    plt.xlabel('Epochs')\n",
    "    plt.ylabel('Accuracy')\n",
    "    plt.legend()\n",
    "    plt.savefig(save_fn+'_Graph#######ACC.png', bbox_inches='tight')\n",
    "    plt.show()"
   ]
  },
  {
   "cell_type": "code",
   "execution_count": 45,
   "metadata": {},
   "outputs": [
    {
     "data": {
      "image/png": "[encoded data removed]",
      "text/plain": [
       "<matplotlib.figure.Figure at 0x7f3c6d7f0828>"
      ]
     },
     "metadata": {},
     "output_type": "display_data"
    },
    {
     "data": {
      "image/png": "[encoded data removed]",
      "text/plain": [
       "<matplotlib.figure.Figure at 0x7f3c10910b70>"
      ]
     },
     "metadata": {},
     "output_type": "display_data"
    }
   ],
   "source": [
    "plot_history(history)"
   ]
  },
  {
   "cell_type": "code",
   "execution_count": 46,
   "metadata": {},
   "outputs": [],
   "source": [
    "import pandas as pd\n",
    "# convert the history.history dict to a pandas DataFrame:     \n",
    "hist_df = pd.DataFrame(history) \n",
    "\n",
    "csv_file = 'QR-Images-History.csv'\n",
    "with open(csv_file, mode='w') as f:\n",
    "    hist_df.to_csv(f)"
   ]
  },
  {
   "cell_type": "code",
   "execution_count": 47,
   "metadata": {},
   "outputs": [
    {
     "data": {
      "text/plain": [
       "{'Status': True,\n",
       " 'Message': '/data/danish/ImgProPython/TensorFlow-Tutorials/Ensemble-Networks/IoT-Ensemble/QR-Images(ResNet50)/CM_QR-Images.csv'}"
      ]
     },
     "execution_count": 47,
     "metadata": {},
     "output_type": "execute_result"
    }
   ],
   "source": [
    "from pycm import ConfusionMatrix\n",
    "\n",
    "CM_1DCNN = ConfusionMatrix(cls_test,cls_pred)\n",
    "CM_1DCNN.save_csv(\"CM_QR-Images\",address=True)"
   ]
  },
  {
   "cell_type": "code",
   "execution_count": 48,
   "metadata": {},
   "outputs": [
    {
     "name": "stdout",
     "output_type": "stream",
     "text": [
      "Predict  0        1        \n",
      "Actual\n",
      "0        56       24       \n",
      "\n",
      "1        16       69       \n",
      "\n",
      "\n",
      "\n",
      "\n",
      "\n",
      "Overall Statistics : \n",
      "\n",
      "95% CI                                                            (0.69219,0.82297)\n",
      "ACC Macro                                                         0.75758\n",
      "AUNP                                                              0.75588\n",
      "AUNU                                                              0.75588\n",
      "Bennett S                                                         0.51515\n",
      "CBA                                                               0.72097\n",
      "Chi-Squared                                                       43.8852\n",
      "Chi-Squared DF                                                    1\n",
      "Conditional Entropy                                               0.78675\n",
      "Cramer V                                                          0.51572\n",
      "Cross Entropy                                                     1.00619\n",
      "F1 Macro                                                          0.75606\n",
      "F1 Micro                                                          0.75758\n",
      "Gwet AC1                                                          0.51814\n",
      "Hamming Loss                                                      0.24242\n",
      "Joint Entropy                                                     1.78608\n",
      "KL Divergence                                                     0.00685\n",
      "Kappa                                                             0.51327\n",
      "Kappa 95% CI                                                      (0.38199,0.64456)\n",
      "Kappa No Prevalence                                               0.51515\n",
      "Kappa Standard Error                                              0.06698\n",
      "Kappa Unbiased                                                    0.51212\n",
      "Lambda A                                                          0.5\n",
      "Lambda B                                                          0.44444\n",
      "Mutual Information                                                0.20154\n",
      "NIR                                                               0.51515\n",
      "Overall ACC                                                       0.75758\n",
      "Overall CEN                                                       0.7299\n",
      "Overall J                                                         (1.21636,0.60818)\n",
      "Overall MCC                                                       0.51572\n",
      "Overall MCEN                                                      0.56378\n",
      "Overall RACC                                                      0.50193\n",
      "Overall RACCU                                                     0.5031\n",
      "P-Value                                                           0.0\n",
      "PPV Macro                                                         0.75986\n",
      "PPV Micro                                                         0.75758\n",
      "Pearson C                                                         0.45836\n",
      "Phi-Squared                                                       0.26597\n",
      "RCI                                                               0.20167\n",
      "RR                                                                82.5\n",
      "Reference Entropy                                                 0.99934\n",
      "Response Entropy                                                  0.98828\n",
      "SOA1(Landis & Koch)                                               Moderate\n",
      "SOA2(Fleiss)                                                      Intermediate to Good\n",
      "SOA3(Altman)                                                      Moderate\n",
      "SOA4(Cicchetti)                                                   Fair\n",
      "SOA5(Cramer)                                                      Relatively Strong\n",
      "SOA6(Matthews)                                                    Moderate\n",
      "Scott PI                                                          0.51212\n",
      "Standard Error                                                    0.03336\n",
      "TPR Macro                                                         0.75588\n",
      "TPR Micro                                                         0.75758\n",
      "Zero-one Loss                                                     40\n",
      "\n",
      "Class Statistics :\n",
      "\n",
      "Classes                                                           0             1             \n",
      "ACC(Accuracy)                                                     0.75758       0.75758       \n",
      "AGF(Adjusted F-score)                                             0.73432       0.77861       \n",
      "AGM(Adjusted geometric mean)                                      0.77352       0.73624       \n",
      "AM(Difference between automatic and manual classification)        -8            8             \n",
      "AUC(Area under the ROC curve)                                     0.75588       0.75588       \n",
      "AUCI(AUC value interpretation)                                    Good          Good          \n",
      "AUPR(Area under the PR curve)                                     0.73889       0.77685       \n",
      "BCD(Bray-Curtis dissimilarity)                                    0.02424       0.02424       \n",
      "BM(Informedness or bookmaker informedness)                        0.51176       0.51176       \n",
      "CEN(Confusion entropy)                                            0.76236       0.70219       \n",
      "DOR(Diagnostic odds ratio)                                        10.0625       10.0625       \n",
      "DP(Discriminant power)                                            0.55282       0.55282       \n",
      "DPI(Discriminant power interpretation)                            Poor          Poor          \n",
      "ERR(Error rate)                                                   0.24242       0.24242       \n",
      "F0.5(F0.5 score)                                                  0.76087       0.75492       \n",
      "F1(F1 score - harmonic mean of precision and sensitivity)         0.73684       0.77528       \n",
      "F2(F2 score)                                                      0.71429       0.79677       \n",
      "FDR(False discovery rate)                                         0.22222       0.25806       \n",
      "FN(False negative/miss/type 2 error)                              24            16            \n",
      "FNR(Miss rate or false negative rate)                             0.3           0.18824       \n",
      "FOR(False omission rate)                                          0.25806       0.22222       \n",
      "FP(False positive/type 1 error/false alarm)                       16            24            \n",
      "FPR(Fall-out or false positive rate)                              0.18824       0.3           \n",
      "G(G-measure geometric mean of precision and sensitivity)          0.73786       0.77607       \n",
      "GI(Gini index)                                                    0.51176       0.51176       \n",
      "GM(G-mean geometric mean of specificity and sensitivity)          0.75381       0.75381       \n",
      "IBA(Index of balanced accuracy)                                   0.50473       0.63174       \n",
      "IS(Information score)                                             0.68182       0.5263        \n",
      "J(Jaccard index)                                                  0.58333       0.63303       \n",
      "LS(Lift score)                                                    1.60417       1.44023       \n",
      "MCC(Matthews correlation coefficient)                             0.51572       0.51572       \n",
      "MCCI(Matthews correlation coefficient interpretation)             Moderate      Moderate      \n",
      "MCEN(Modified confusion entropy)                                  0.93083       0.88705       \n",
      "MK(Markedness)                                                    0.51971       0.51971       \n",
      "N(Condition negative)                                             85            80            \n",
      "NLR(Negative likelihood ratio)                                    0.36957       0.26891       \n",
      "NLRI(Negative likelihood ratio interpretation)                    Poor          Poor          \n",
      "NPV(Negative predictive value)                                    0.74194       0.77778       \n",
      "OC(Overlap coefficient)                                           0.77778       0.81176       \n",
      "OOC(Otsuka-Ochiai coefficient)                                    0.73786       0.77607       \n",
      "OP(Optimized precision)                                           0.68365       0.68365       \n",
      "P(Condition positive or support)                                  80            85            \n",
      "PLR(Positive likelihood ratio)                                    3.71875       2.70588       \n",
      "PLRI(Positive likelihood ratio interpretation)                    Poor          Poor          \n",
      "POP(Population)                                                   165           165           \n",
      "PPV(Precision or positive predictive value)                       0.77778       0.74194       \n",
      "PRE(Prevalence)                                                   0.48485       0.51515       \n",
      "Q(Yule Q - coefficient of colligation)                            0.81921       0.81921       \n",
      "RACC(Random accuracy)                                             0.21157       0.29036       \n",
      "RACCU(Random accuracy unbiased)                                   0.21216       0.29095       \n",
      "TN(True negative/correct rejection)                               69            56            \n",
      "TNR(Specificity or true negative rate)                            0.81176       0.7           \n",
      "TON(Test outcome negative)                                        93            72            \n",
      "TOP(Test outcome positive)                                        72            93            \n",
      "TP(True positive/hit)                                             56            69            \n",
      "TPR(Sensitivity, recall, hit rate, or true positive rate)         0.7           0.81176       \n",
      "Y(Youden index)                                                   0.51176       0.51176       \n",
      "dInd(Distance index)                                              0.35416       0.35416       \n",
      "sInd(Similarity index)                                            0.74957       0.74957       \n",
      "\n"
     ]
    }
   ],
   "source": [
    "print(CM_1DCNN)"
   ]
  },
  {
   "cell_type": "code",
   "execution_count": null,
   "metadata": {},
   "outputs": [],
   "source": []
  }
 ],
 "metadata": {
  "kernelspec": {
   "display_name": "Python 3",
   "language": "python",
   "name": "python3"
  },
  "language_info": {
   "codemirror_mode": {
    "name": "ipython",
    "version": 3
   },
   "file_extension": ".py",
   "mimetype": "text/x-python",
   "name": "python",
   "nbconvert_exporter": "python",
   "pygments_lexer": "ipython3",
   "version": "3.6.10"
  }
 },
 "nbformat": 4,
 "nbformat_minor": 2
}
