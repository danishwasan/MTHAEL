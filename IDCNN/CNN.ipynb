{
 "cells": [
  {
   "cell_type": "code",
   "execution_count": 1,
   "metadata": {},
   "outputs": [],
   "source": [
    "import os\n",
    "os.environ[\"CUDA_DEVICE_ORDER\"] = \"PCI_BUS_ID\"   # see issue #152\n",
    "os.environ[\"CUDA_VISIBLE_DEVICES\"] = \"0\""
   ]
  },
  {
   "cell_type": "code",
   "execution_count": 2,
   "metadata": {},
   "outputs": [
    {
     "name": "stderr",
     "output_type": "stream",
     "text": [
      "/home/danish/anaconda3/envs/tf/lib/python3.6/site-packages/tensorflow/python/framework/dtypes.py:523: FutureWarning: Passing (type, 1) or '1type' as a synonym of type is deprecated; in a future version of numpy, it will be understood as (type, (1,)) / '(1,)type'.\n",
      "  _np_qint8 = np.dtype([(\"qint8\", np.int8, 1)])\n",
      "/home/danish/anaconda3/envs/tf/lib/python3.6/site-packages/tensorflow/python/framework/dtypes.py:524: FutureWarning: Passing (type, 1) or '1type' as a synonym of type is deprecated; in a future version of numpy, it will be understood as (type, (1,)) / '(1,)type'.\n",
      "  _np_quint8 = np.dtype([(\"quint8\", np.uint8, 1)])\n",
      "/home/danish/anaconda3/envs/tf/lib/python3.6/site-packages/tensorflow/python/framework/dtypes.py:525: FutureWarning: Passing (type, 1) or '1type' as a synonym of type is deprecated; in a future version of numpy, it will be understood as (type, (1,)) / '(1,)type'.\n",
      "  _np_qint16 = np.dtype([(\"qint16\", np.int16, 1)])\n",
      "/home/danish/anaconda3/envs/tf/lib/python3.6/site-packages/tensorflow/python/framework/dtypes.py:526: FutureWarning: Passing (type, 1) or '1type' as a synonym of type is deprecated; in a future version of numpy, it will be understood as (type, (1,)) / '(1,)type'.\n",
      "  _np_quint16 = np.dtype([(\"quint16\", np.uint16, 1)])\n",
      "/home/danish/anaconda3/envs/tf/lib/python3.6/site-packages/tensorflow/python/framework/dtypes.py:527: FutureWarning: Passing (type, 1) or '1type' as a synonym of type is deprecated; in a future version of numpy, it will be understood as (type, (1,)) / '(1,)type'.\n",
      "  _np_qint32 = np.dtype([(\"qint32\", np.int32, 1)])\n",
      "/home/danish/anaconda3/envs/tf/lib/python3.6/site-packages/tensorflow/python/framework/dtypes.py:532: FutureWarning: Passing (type, 1) or '1type' as a synonym of type is deprecated; in a future version of numpy, it will be understood as (type, (1,)) / '(1,)type'.\n",
      "  np_resource = np.dtype([(\"resource\", np.ubyte, 1)])\n",
      "Using TensorFlow backend.\n"
     ]
    }
   ],
   "source": [
    "## extra imports to set GPU options\n",
    "import tensorflow as tf\n",
    "from keras import backend as k\n",
    "\n",
    "###################################\n",
    "# TensorFlow wizardry\n",
    "config = tf.ConfigProto()\n",
    "\n",
    "# Don't pre-allocate memory; allocate as-needed\n",
    "config.gpu_options.allow_growth = True\n",
    "\n",
    "# Only allow a total of half the GPU memory to be allocated\n",
    "config.gpu_options.per_process_gpu_memory_fraction = 1 # 0.5 for Half\n",
    "\n",
    "# Create a session with the above options specified.\n",
    "k.tensorflow_backend.set_session(tf.Session(config=config))\n"
   ]
  },
  {
   "cell_type": "code",
   "execution_count": 3,
   "metadata": {},
   "outputs": [],
   "source": [
    "from keras.datasets import imdb\n",
    "from keras.models import Sequential\n",
    "from keras.layers import Dense\n",
    "from keras.layers import Flatten\n",
    "from keras.layers.convolutional import Conv1D\n",
    "from keras.layers.convolutional import MaxPooling1D\n",
    "from keras.layers.embeddings import Embedding\n",
    "from keras.preprocessing import sequence\n",
    "from sklearn.model_selection import train_test_split\n",
    "from keras.models import Sequential\n",
    "from keras.layers import Dense, GRU, Embedding\n",
    "from keras.optimizers import Adam\n",
    "from keras.preprocessing.text import Tokenizer\n",
    "from keras.preprocessing.sequence import pad_sequences\n",
    "# CNN for the IMDB problem\n",
    "from keras.datasets import imdb\n",
    "from keras.models import Sequential\n",
    "from keras.layers import Dense\n",
    "from keras.layers import Flatten\n",
    "from keras.layers.convolutional import Conv1D\n",
    "from keras.layers.convolutional import MaxPooling1D\n",
    "from keras.layers.embeddings import Embedding\n",
    "from keras.preprocessing import sequence\n",
    "from sklearn.metrics import confusion_matrix\n",
    "\n"
   ]
  },
  {
   "cell_type": "markdown",
   "metadata": {},
   "source": [
    "This was developed using Python 3.6 (Anaconda) and package versions:"
   ]
  },
  {
   "cell_type": "code",
   "execution_count": 4,
   "metadata": {
    "scrolled": false
   },
   "outputs": [
    {
     "data": {
      "text/plain": [
       "'1.9.0'"
      ]
     },
     "execution_count": 4,
     "metadata": {},
     "output_type": "execute_result"
    }
   ],
   "source": [
    "tf.__version__"
   ]
  },
  {
   "cell_type": "code",
   "execution_count": 5,
   "metadata": {
    "scrolled": true
   },
   "outputs": [
    {
     "data": {
      "text/plain": [
       "'2.1.6-tf'"
      ]
     },
     "execution_count": 5,
     "metadata": {},
     "output_type": "execute_result"
    }
   ],
   "source": [
    "tf.keras.__version__"
   ]
  },
  {
   "cell_type": "markdown",
   "metadata": {},
   "source": [
    "## Load Data\n",
    "\n",
    "We will use a data-set consisting of 50000 reviews of movies from IMDB. Keras has a built-in function for downloading a similar data-set (but apparently half the size). However, Keras' version has already converted the text in the data-set to integer-tokens, which is a crucial part of working with natural languages that will also be demonstrated in this tutorial, so we download the actual text-data.\n",
    "\n",
    "NOTE: The data-set is 84 MB and will be downloaded automatically."
   ]
  },
  {
   "cell_type": "code",
   "execution_count": 6,
   "metadata": {},
   "outputs": [
    {
     "name": "stdout",
     "output_type": "stream",
     "text": [
      "/data/danish/Data/IoT_Malware_Opcodes/benign_Sequences/\n",
      "271\n",
      "4.51691460609436\n",
      "271\n",
      "271\n"
     ]
    }
   ],
   "source": [
    "#import imdb\n",
    "import time\n",
    "\n",
    "tic = time.time()\n",
    "relevant_path = \"/data/danish/Data/IoT_Malware_Opcodes/benign_Sequences/\"\n",
    "print(relevant_path)\n",
    "\n",
    "included_extentions = ['txt']\n",
    "file_names = [fn for fn in os.listdir(relevant_path)\n",
    "              if any(fn.endswith(ext) for ext in included_extentions)]\n",
    "print(len(file_names))\n",
    "\n",
    "X_train = []\n",
    "y_train = []\n",
    "wordCounter = {}\n",
    "for fn in file_names:\n",
    "    #file = open('/data/danish/Data/IoT_Malware_Opcodes/benign_Sequences/'+fn, 'r')\n",
    "    with open('/data/danish/Data/IoT_Malware_Opcodes/benign_Sequences/'+fn,'r') as fh:\n",
    "        for line in fh:\n",
    "            # Replacing punctuation characters. Making the string to lower.\n",
    "            # The split will spit the line into a list.\n",
    "            word_list = line.replace(',','').replace('\\'','').replace('.','').lower().split()\n",
    "        for word in word_list:\n",
    "              # Adding  the word into the wordCounter dictionary.\n",
    "            if word not in wordCounter:\n",
    "                wordCounter[word] = 1\n",
    "            else:\n",
    "                # if the word is already in the dictionary update its count.\n",
    "                wordCounter[word] = wordCounter[word] + 1\n",
    "    #print('{:15}{:3}'.format('Word','Count'))\n",
    "    #print('-' * 25)\n",
    "    \n",
    "    # printing the words and its occurrence.\n",
    "    #for  (word,occurance)  in wordCounter.items(): \n",
    "    #    print('{:15}{:3}'.format(word,occurance))\n",
    "\n",
    "    data=' '.join('{}'.format(keys) for keys in wordCounter.keys())\n",
    "    #data=' '.join('{}'.format(values) for values in wordCounter.values())\n",
    "\n",
    "    X_train.append(data)\n",
    "    y_train.append(0)\n",
    "    \n",
    "toc = time.time()\n",
    "print(toc-tic)\n",
    "print(len(X_train))\n",
    "print(len(y_train)) \n",
    "\n"
   ]
  },
  {
   "cell_type": "raw",
   "metadata": {},
   "source": [
    "messages = [\"Hey hey hey lets get lunch :)\",\"I need a favor\"]\n",
    "from sklearn.feature_extraction.text import TfidfVectorizer\n",
    "vect = TfidfVectorizer()\n",
    "#dtm = vect.fit_transform(messages) # create DTM\n",
    "dtm = vect.fit_transform(X_train) # create DTM\n",
    "pd.DataFrame(dtm.toarray(), columns=vect.get_feature_names()) "
   ]
  },
  {
   "cell_type": "code",
   "execution_count": 7,
   "metadata": {},
   "outputs": [
    {
     "name": "stdout",
     "output_type": "stream",
     "text": [
      "/data/danish/Data/IoT_Malware_Opcodes/malicious_Sequences/\n",
      "280\n",
      "4.9469358921051025\n",
      "551\n",
      "551\n"
     ]
    }
   ],
   "source": [
    "#import imdb\n",
    "\n",
    "tic = time.time()\n",
    "relevant_path = \"/data/danish/Data/IoT_Malware_Opcodes/malicious_Sequences/\"\n",
    "print(relevant_path)\n",
    "\n",
    "included_extentions = ['txt']\n",
    "file_names = [fn for fn in os.listdir(relevant_path)\n",
    "              if any(fn.endswith(ext) for ext in included_extentions)]\n",
    "print(len(file_names))\n",
    "\n",
    "\n",
    "for fn in file_names:\n",
    "    #file = open('/data/danish/Data/IoT_Malware_Opcodes/malicious_Sequences/'+fn, 'r')\n",
    "    with open('/data/danish/Data/IoT_Malware_Opcodes/malicious_Sequences/'+fn,'r') as fh:\n",
    "        for line in fh:\n",
    "            # Replacing punctuation characters. Making the string to lower.\n",
    "            # The split will spit the line into a list.\n",
    "            word_list = line.replace(',',' ').replace('\\'','').replace('.','').lower().split()\n",
    "        for word in word_list:\n",
    "              # Adding  the word into the wordCounter dictionary.\n",
    "            if word not in wordCounter:\n",
    "                wordCounter[word] = 1\n",
    "            else:\n",
    "                # if the word is already in the dictionary update its count.\n",
    "                wordCounter[word] = wordCounter[word] + 1\n",
    "    #print('{:15}{:3}'.format('Word','Count'))\n",
    "    #print('-' * 25)\n",
    "    \n",
    "    # printing the words and its occurrence.\n",
    "    #for  (word,occurance)  in wordCounter.items(): \n",
    "    #    print('{:15}{:3}'.format(word,occurance))\n",
    "\n",
    "    data=' '.join('{}'.format(keys) for keys in wordCounter.keys())\n",
    "    #data=' '.join('{}'.format(values) for values in wordCounter.values())\n",
    "\n",
    "    X_train.append(data)\n",
    "    y_train.append(1)\n",
    "    \n",
    "toc = time.time()\n",
    "\n",
    "print(toc-tic)\n",
    "print(len(X_train))\n",
    "print(len(y_train)) "
   ]
  },
  {
   "cell_type": "code",
   "execution_count": 8,
   "metadata": {},
   "outputs": [],
   "source": [
    "x_train_text, x_test_text, y_train, y_test = train_test_split(X_train, y_train, test_size=0.1, random_state=42)"
   ]
  },
  {
   "cell_type": "code",
   "execution_count": 9,
   "metadata": {},
   "outputs": [
    {
     "name": "stdout",
     "output_type": "stream",
     "text": [
      "495\n",
      "495\n",
      "56\n",
      "56\n"
     ]
    }
   ],
   "source": [
    "print(len(x_train_text))\n",
    "print(len(y_train)) \n",
    "print(len(x_test_text))\n",
    "print(len(y_test)) "
   ]
  },
  {
   "cell_type": "code",
   "execution_count": 10,
   "metadata": {},
   "outputs": [
    {
     "name": "stdout",
     "output_type": "stream",
     "text": [
      "Train-set size:  495\n",
      "Test-set size:   56\n"
     ]
    }
   ],
   "source": [
    "print(\"Train-set size: \", len(x_train_text))\n",
    "print(\"Test-set size:  \", len(x_test_text))\n"
   ]
  },
  {
   "cell_type": "code",
   "execution_count": 11,
   "metadata": {},
   "outputs": [],
   "source": [
    "from keras.utils import np_utils\n",
    "\n",
    "y_train = np_utils.to_categorical(y_train, 2)\n",
    "y_test = np_utils.to_categorical(y_test, 2)"
   ]
  },
  {
   "cell_type": "code",
   "execution_count": 12,
   "metadata": {},
   "outputs": [
    {
     "data": {
      "text/plain": [
       "array([[0., 1.],\n",
       "       [1., 0.],\n",
       "       [1., 0.],\n",
       "       [1., 0.],\n",
       "       [0., 1.],\n",
       "       [0., 1.],\n",
       "       [0., 1.],\n",
       "       [0., 1.],\n",
       "       [0., 1.],\n",
       "       [0., 1.],\n",
       "       [0., 1.],\n",
       "       [1., 0.],\n",
       "       [0., 1.],\n",
       "       [1., 0.],\n",
       "       [1., 0.],\n",
       "       [0., 1.],\n",
       "       [0., 1.],\n",
       "       [1., 0.],\n",
       "       [0., 1.],\n",
       "       [1., 0.],\n",
       "       [1., 0.],\n",
       "       [0., 1.],\n",
       "       [0., 1.],\n",
       "       [1., 0.],\n",
       "       [1., 0.],\n",
       "       [0., 1.],\n",
       "       [1., 0.],\n",
       "       [1., 0.],\n",
       "       [1., 0.],\n",
       "       [1., 0.],\n",
       "       [0., 1.],\n",
       "       [1., 0.],\n",
       "       [0., 1.],\n",
       "       [1., 0.],\n",
       "       [1., 0.],\n",
       "       [0., 1.],\n",
       "       [0., 1.],\n",
       "       [1., 0.],\n",
       "       [1., 0.],\n",
       "       [0., 1.],\n",
       "       [1., 0.],\n",
       "       [1., 0.],\n",
       "       [0., 1.],\n",
       "       [1., 0.],\n",
       "       [0., 1.],\n",
       "       [0., 1.],\n",
       "       [1., 0.],\n",
       "       [1., 0.],\n",
       "       [1., 0.],\n",
       "       [0., 1.],\n",
       "       [1., 0.],\n",
       "       [1., 0.],\n",
       "       [1., 0.],\n",
       "       [0., 1.],\n",
       "       [1., 0.],\n",
       "       [0., 1.],\n",
       "       [0., 1.],\n",
       "       [1., 0.],\n",
       "       [1., 0.],\n",
       "       [0., 1.],\n",
       "       [1., 0.],\n",
       "       [1., 0.],\n",
       "       [1., 0.],\n",
       "       [1., 0.],\n",
       "       [1., 0.],\n",
       "       [1., 0.],\n",
       "       [0., 1.],\n",
       "       [1., 0.],\n",
       "       [0., 1.],\n",
       "       [1., 0.],\n",
       "       [0., 1.],\n",
       "       [0., 1.],\n",
       "       [0., 1.],\n",
       "       [1., 0.],\n",
       "       [0., 1.],\n",
       "       [0., 1.],\n",
       "       [0., 1.],\n",
       "       [1., 0.],\n",
       "       [0., 1.],\n",
       "       [1., 0.],\n",
       "       [1., 0.],\n",
       "       [0., 1.],\n",
       "       [0., 1.],\n",
       "       [0., 1.],\n",
       "       [1., 0.],\n",
       "       [0., 1.],\n",
       "       [0., 1.],\n",
       "       [1., 0.],\n",
       "       [1., 0.],\n",
       "       [0., 1.],\n",
       "       [0., 1.],\n",
       "       [0., 1.],\n",
       "       [0., 1.],\n",
       "       [1., 0.],\n",
       "       [1., 0.],\n",
       "       [0., 1.],\n",
       "       [1., 0.],\n",
       "       [0., 1.],\n",
       "       [1., 0.],\n",
       "       [0., 1.],\n",
       "       [1., 0.],\n",
       "       [0., 1.],\n",
       "       [0., 1.],\n",
       "       [0., 1.],\n",
       "       [0., 1.],\n",
       "       [0., 1.],\n",
       "       [0., 1.],\n",
       "       [0., 1.],\n",
       "       [1., 0.],\n",
       "       [0., 1.],\n",
       "       [1., 0.],\n",
       "       [0., 1.],\n",
       "       [0., 1.],\n",
       "       [1., 0.],\n",
       "       [1., 0.],\n",
       "       [0., 1.],\n",
       "       [1., 0.],\n",
       "       [1., 0.],\n",
       "       [0., 1.],\n",
       "       [0., 1.],\n",
       "       [1., 0.],\n",
       "       [1., 0.],\n",
       "       [1., 0.],\n",
       "       [1., 0.],\n",
       "       [1., 0.],\n",
       "       [0., 1.],\n",
       "       [0., 1.],\n",
       "       [1., 0.],\n",
       "       [0., 1.],\n",
       "       [1., 0.],\n",
       "       [1., 0.],\n",
       "       [0., 1.],\n",
       "       [1., 0.],\n",
       "       [0., 1.],\n",
       "       [0., 1.],\n",
       "       [0., 1.],\n",
       "       [0., 1.],\n",
       "       [0., 1.],\n",
       "       [0., 1.],\n",
       "       [1., 0.],\n",
       "       [1., 0.],\n",
       "       [0., 1.],\n",
       "       [1., 0.],\n",
       "       [1., 0.],\n",
       "       [0., 1.],\n",
       "       [0., 1.],\n",
       "       [0., 1.],\n",
       "       [1., 0.],\n",
       "       [1., 0.],\n",
       "       [1., 0.],\n",
       "       [0., 1.],\n",
       "       [0., 1.],\n",
       "       [1., 0.],\n",
       "       [1., 0.],\n",
       "       [0., 1.],\n",
       "       [0., 1.],\n",
       "       [1., 0.],\n",
       "       [0., 1.],\n",
       "       [0., 1.],\n",
       "       [1., 0.],\n",
       "       [1., 0.],\n",
       "       [0., 1.],\n",
       "       [1., 0.],\n",
       "       [0., 1.],\n",
       "       [0., 1.],\n",
       "       [1., 0.],\n",
       "       [1., 0.],\n",
       "       [0., 1.],\n",
       "       [1., 0.],\n",
       "       [1., 0.],\n",
       "       [1., 0.],\n",
       "       [1., 0.],\n",
       "       [1., 0.],\n",
       "       [1., 0.],\n",
       "       [1., 0.],\n",
       "       [0., 1.],\n",
       "       [1., 0.],\n",
       "       [0., 1.],\n",
       "       [1., 0.],\n",
       "       [0., 1.],\n",
       "       [1., 0.],\n",
       "       [1., 0.],\n",
       "       [1., 0.],\n",
       "       [1., 0.],\n",
       "       [1., 0.],\n",
       "       [1., 0.],\n",
       "       [0., 1.],\n",
       "       [0., 1.],\n",
       "       [0., 1.],\n",
       "       [0., 1.],\n",
       "       [0., 1.],\n",
       "       [0., 1.],\n",
       "       [1., 0.],\n",
       "       [0., 1.],\n",
       "       [1., 0.],\n",
       "       [0., 1.],\n",
       "       [1., 0.],\n",
       "       [1., 0.],\n",
       "       [1., 0.],\n",
       "       [0., 1.],\n",
       "       [0., 1.],\n",
       "       [1., 0.],\n",
       "       [1., 0.],\n",
       "       [0., 1.],\n",
       "       [0., 1.],\n",
       "       [0., 1.],\n",
       "       [0., 1.],\n",
       "       [1., 0.],\n",
       "       [0., 1.],\n",
       "       [1., 0.],\n",
       "       [0., 1.],\n",
       "       [0., 1.],\n",
       "       [1., 0.],\n",
       "       [0., 1.],\n",
       "       [0., 1.],\n",
       "       [0., 1.],\n",
       "       [0., 1.],\n",
       "       [0., 1.],\n",
       "       [0., 1.],\n",
       "       [0., 1.],\n",
       "       [0., 1.],\n",
       "       [0., 1.],\n",
       "       [1., 0.],\n",
       "       [1., 0.],\n",
       "       [1., 0.],\n",
       "       [0., 1.],\n",
       "       [1., 0.],\n",
       "       [1., 0.],\n",
       "       [0., 1.],\n",
       "       [0., 1.],\n",
       "       [1., 0.],\n",
       "       [0., 1.],\n",
       "       [1., 0.],\n",
       "       [1., 0.],\n",
       "       [0., 1.],\n",
       "       [1., 0.],\n",
       "       [0., 1.],\n",
       "       [1., 0.],\n",
       "       [0., 1.],\n",
       "       [1., 0.],\n",
       "       [0., 1.],\n",
       "       [1., 0.],\n",
       "       [0., 1.],\n",
       "       [0., 1.],\n",
       "       [1., 0.],\n",
       "       [0., 1.],\n",
       "       [1., 0.],\n",
       "       [1., 0.],\n",
       "       [1., 0.],\n",
       "       [0., 1.],\n",
       "       [1., 0.],\n",
       "       [0., 1.],\n",
       "       [0., 1.],\n",
       "       [0., 1.],\n",
       "       [1., 0.],\n",
       "       [1., 0.],\n",
       "       [1., 0.],\n",
       "       [1., 0.],\n",
       "       [0., 1.],\n",
       "       [0., 1.],\n",
       "       [0., 1.],\n",
       "       [0., 1.],\n",
       "       [0., 1.],\n",
       "       [0., 1.],\n",
       "       [1., 0.],\n",
       "       [0., 1.],\n",
       "       [1., 0.],\n",
       "       [0., 1.],\n",
       "       [1., 0.],\n",
       "       [1., 0.],\n",
       "       [0., 1.],\n",
       "       [0., 1.],\n",
       "       [0., 1.],\n",
       "       [0., 1.],\n",
       "       [0., 1.],\n",
       "       [0., 1.],\n",
       "       [0., 1.],\n",
       "       [0., 1.],\n",
       "       [0., 1.],\n",
       "       [0., 1.],\n",
       "       [0., 1.],\n",
       "       [1., 0.],\n",
       "       [1., 0.],\n",
       "       [0., 1.],\n",
       "       [0., 1.],\n",
       "       [0., 1.],\n",
       "       [0., 1.],\n",
       "       [1., 0.],\n",
       "       [0., 1.],\n",
       "       [1., 0.],\n",
       "       [0., 1.],\n",
       "       [0., 1.],\n",
       "       [1., 0.],\n",
       "       [0., 1.],\n",
       "       [1., 0.],\n",
       "       [1., 0.],\n",
       "       [1., 0.],\n",
       "       [1., 0.],\n",
       "       [1., 0.],\n",
       "       [1., 0.],\n",
       "       [0., 1.],\n",
       "       [1., 0.],\n",
       "       [0., 1.],\n",
       "       [0., 1.],\n",
       "       [0., 1.],\n",
       "       [1., 0.],\n",
       "       [0., 1.],\n",
       "       [0., 1.],\n",
       "       [0., 1.],\n",
       "       [0., 1.],\n",
       "       [1., 0.],\n",
       "       [0., 1.],\n",
       "       [0., 1.],\n",
       "       [1., 0.],\n",
       "       [0., 1.],\n",
       "       [1., 0.],\n",
       "       [1., 0.],\n",
       "       [1., 0.],\n",
       "       [0., 1.],\n",
       "       [1., 0.],\n",
       "       [1., 0.],\n",
       "       [1., 0.],\n",
       "       [0., 1.],\n",
       "       [1., 0.],\n",
       "       [1., 0.],\n",
       "       [1., 0.],\n",
       "       [1., 0.],\n",
       "       [1., 0.],\n",
       "       [1., 0.],\n",
       "       [0., 1.],\n",
       "       [0., 1.],\n",
       "       [1., 0.],\n",
       "       [0., 1.],\n",
       "       [1., 0.],\n",
       "       [1., 0.],\n",
       "       [1., 0.],\n",
       "       [0., 1.],\n",
       "       [0., 1.],\n",
       "       [0., 1.],\n",
       "       [1., 0.],\n",
       "       [0., 1.],\n",
       "       [1., 0.],\n",
       "       [0., 1.],\n",
       "       [0., 1.],\n",
       "       [1., 0.],\n",
       "       [0., 1.],\n",
       "       [0., 1.],\n",
       "       [0., 1.],\n",
       "       [0., 1.],\n",
       "       [1., 0.],\n",
       "       [0., 1.],\n",
       "       [1., 0.],\n",
       "       [1., 0.],\n",
       "       [0., 1.],\n",
       "       [1., 0.],\n",
       "       [1., 0.],\n",
       "       [0., 1.],\n",
       "       [1., 0.],\n",
       "       [0., 1.],\n",
       "       [1., 0.],\n",
       "       [1., 0.],\n",
       "       [0., 1.],\n",
       "       [1., 0.],\n",
       "       [1., 0.],\n",
       "       [0., 1.],\n",
       "       [1., 0.],\n",
       "       [1., 0.],\n",
       "       [0., 1.],\n",
       "       [1., 0.],\n",
       "       [0., 1.],\n",
       "       [1., 0.],\n",
       "       [1., 0.],\n",
       "       [1., 0.],\n",
       "       [0., 1.],\n",
       "       [1., 0.],\n",
       "       [1., 0.],\n",
       "       [0., 1.],\n",
       "       [0., 1.],\n",
       "       [0., 1.],\n",
       "       [1., 0.],\n",
       "       [0., 1.],\n",
       "       [0., 1.],\n",
       "       [1., 0.],\n",
       "       [1., 0.],\n",
       "       [1., 0.],\n",
       "       [1., 0.],\n",
       "       [0., 1.],\n",
       "       [1., 0.],\n",
       "       [0., 1.],\n",
       "       [0., 1.],\n",
       "       [1., 0.],\n",
       "       [0., 1.],\n",
       "       [1., 0.],\n",
       "       [1., 0.],\n",
       "       [1., 0.],\n",
       "       [0., 1.],\n",
       "       [1., 0.],\n",
       "       [0., 1.],\n",
       "       [1., 0.],\n",
       "       [0., 1.],\n",
       "       [0., 1.],\n",
       "       [0., 1.],\n",
       "       [0., 1.],\n",
       "       [0., 1.],\n",
       "       [1., 0.],\n",
       "       [1., 0.],\n",
       "       [1., 0.],\n",
       "       [0., 1.],\n",
       "       [0., 1.],\n",
       "       [1., 0.],\n",
       "       [0., 1.],\n",
       "       [0., 1.],\n",
       "       [0., 1.],\n",
       "       [0., 1.],\n",
       "       [0., 1.],\n",
       "       [0., 1.],\n",
       "       [1., 0.],\n",
       "       [0., 1.],\n",
       "       [1., 0.],\n",
       "       [1., 0.],\n",
       "       [1., 0.],\n",
       "       [1., 0.],\n",
       "       [0., 1.],\n",
       "       [1., 0.],\n",
       "       [0., 1.],\n",
       "       [0., 1.],\n",
       "       [1., 0.],\n",
       "       [1., 0.],\n",
       "       [1., 0.],\n",
       "       [0., 1.],\n",
       "       [1., 0.],\n",
       "       [0., 1.],\n",
       "       [0., 1.],\n",
       "       [1., 0.],\n",
       "       [0., 1.],\n",
       "       [1., 0.],\n",
       "       [1., 0.],\n",
       "       [1., 0.],\n",
       "       [0., 1.],\n",
       "       [1., 0.],\n",
       "       [0., 1.],\n",
       "       [0., 1.],\n",
       "       [0., 1.],\n",
       "       [0., 1.],\n",
       "       [1., 0.],\n",
       "       [0., 1.],\n",
       "       [0., 1.],\n",
       "       [1., 0.],\n",
       "       [0., 1.],\n",
       "       [1., 0.],\n",
       "       [0., 1.],\n",
       "       [1., 0.],\n",
       "       [1., 0.],\n",
       "       [0., 1.],\n",
       "       [1., 0.],\n",
       "       [0., 1.],\n",
       "       [0., 1.],\n",
       "       [1., 0.],\n",
       "       [0., 1.],\n",
       "       [0., 1.],\n",
       "       [0., 1.],\n",
       "       [0., 1.],\n",
       "       [1., 0.],\n",
       "       [1., 0.],\n",
       "       [0., 1.],\n",
       "       [0., 1.],\n",
       "       [1., 0.],\n",
       "       [0., 1.],\n",
       "       [1., 0.],\n",
       "       [1., 0.],\n",
       "       [0., 1.],\n",
       "       [0., 1.],\n",
       "       [1., 0.],\n",
       "       [0., 1.],\n",
       "       [1., 0.],\n",
       "       [0., 1.],\n",
       "       [0., 1.],\n",
       "       [0., 1.],\n",
       "       [0., 1.],\n",
       "       [0., 1.],\n",
       "       [1., 0.],\n",
       "       [1., 0.],\n",
       "       [0., 1.],\n",
       "       [1., 0.],\n",
       "       [0., 1.],\n",
       "       [0., 1.],\n",
       "       [1., 0.],\n",
       "       [0., 1.],\n",
       "       [1., 0.],\n",
       "       [1., 0.],\n",
       "       [1., 0.],\n",
       "       [1., 0.],\n",
       "       [1., 0.],\n",
       "       [0., 1.],\n",
       "       [1., 0.]], dtype=float32)"
      ]
     },
     "execution_count": 12,
     "metadata": {},
     "output_type": "execute_result"
    }
   ],
   "source": [
    "y_train"
   ]
  },
  {
   "cell_type": "code",
   "execution_count": 13,
   "metadata": {},
   "outputs": [],
   "source": [
    "data_text = x_train_text + x_test_text"
   ]
  },
  {
   "cell_type": "markdown",
   "metadata": {},
   "source": [
    "Print an example from the training-set to see that the data looks correct."
   ]
  },
  {
   "cell_type": "markdown",
   "metadata": {},
   "source": [
    "The true \"class\" is a sentiment of the movie-review. It is a value of 0.0 for a negative sentiment and 1.0 for a positive sentiment. In this case the review is positive."
   ]
  },
  {
   "cell_type": "markdown",
   "metadata": {},
   "source": [
    "## Tokenizer\n",
    "\n",
    "A neural network cannot work directly on text-strings so we must convert it somehow. There are two steps in this conversion, the first step is called the \"tokenizer\" which converts words to integers and is done on the data-set before it is input to the neural network. The second step is an integrated part of the neural network itself and is called the \"embedding\"-layer, which is described further below.\n",
    "\n",
    "We may instruct the tokenizer to only use e.g. the 10000 most popular words from the data-set."
   ]
  },
  {
   "cell_type": "code",
   "execution_count": 14,
   "metadata": {},
   "outputs": [],
   "source": [
    "num_words = None"
   ]
  },
  {
   "cell_type": "code",
   "execution_count": 15,
   "metadata": {
    "scrolled": true
   },
   "outputs": [],
   "source": [
    "tokenizer = Tokenizer(num_words=num_words)\n",
    "#tokenizer_1 = Tokenizer(2000)"
   ]
  },
  {
   "cell_type": "markdown",
   "metadata": {},
   "source": [
    "The tokenizer can then be \"fitted\" to the data-set. This scans through all the text and strips it from unwanted characters such as punctuation, and also converts it to lower-case characters. The tokenizer then builds a vocabulary of all unique words along with various data-structures for accessing the data.\n",
    "\n",
    "Note that we fit the tokenizer on the entire data-set so it gathers words from both the training- and test-data. This is OK as we are merely building a vocabulary and want it to be as complete as possible. The actual neural network will of course only be trained on the training-set."
   ]
  },
  {
   "cell_type": "code",
   "execution_count": 16,
   "metadata": {},
   "outputs": [
    {
     "name": "stdout",
     "output_type": "stream",
     "text": [
      "0.2682201862335205\n"
     ]
    }
   ],
   "source": [
    "#sample_text = data_text[:10]#\"This movie describes the life of somebody who grew up in the worst of circumstances but unlike many people he actually grew up to be a respectable person. Whats more is that this is a true story.<br /><br />Antwone Fisher is so innocent and yet he was abused such just because he was not white. Antwone Fisher has been married to the same women for ten years and he never fooled around with women, coke, cigars, weed, alcohol, or any of those things that are very popular in the places he was growing up. <br /><br />There is not much more to say about this movie it is excellent. The only rating I can give it is a 10/10.\"\n",
    "#tokenizer_1.fit_on_texts(sample_text)\n",
    "import time\n",
    "tic = time.time()\n",
    "tokenizer.fit_on_texts(data_text)\n",
    "toc =time.time()\n",
    "print(toc-tic)"
   ]
  },
  {
   "cell_type": "code",
   "execution_count": 17,
   "metadata": {},
   "outputs": [
    {
     "data": {
      "text/plain": [
       "551"
      ]
     },
     "execution_count": 17,
     "metadata": {},
     "output_type": "execute_result"
    }
   ],
   "source": [
    "len(data_text)"
   ]
  },
  {
   "cell_type": "markdown",
   "metadata": {},
   "source": [
    "If you want to use the entire vocabulary then set `num_words=None` above, and then it will automatically be set to the vocabulary-size here. (This is because of Keras' somewhat awkward implementation.)"
   ]
  },
  {
   "cell_type": "code",
   "execution_count": 18,
   "metadata": {},
   "outputs": [],
   "source": [
    "if num_words is None:\n",
    "    num_words = len(tokenizer.word_index)\n"
   ]
  },
  {
   "cell_type": "code",
   "execution_count": 19,
   "metadata": {},
   "outputs": [
    {
     "data": {
      "text/plain": [
       "658"
      ]
     },
     "execution_count": 19,
     "metadata": {},
     "output_type": "execute_result"
    }
   ],
   "source": [
    "num_words"
   ]
  },
  {
   "cell_type": "code",
   "execution_count": 20,
   "metadata": {},
   "outputs": [
    {
     "name": "stdout",
     "output_type": "stream",
     "text": [
      "CPU times: user 170 ms, sys: 3.88 ms, total: 174 ms\n",
      "Wall time: 173 ms\n"
     ]
    }
   ],
   "source": [
    "%%time\n",
    "x_train_tokens = tokenizer.texts_to_sequences(x_train_text)"
   ]
  },
  {
   "cell_type": "code",
   "execution_count": 21,
   "metadata": {},
   "outputs": [],
   "source": [
    "#x_train_tokens[1]"
   ]
  },
  {
   "cell_type": "markdown",
   "metadata": {},
   "source": [
    "For example, here is a text from the training-set:"
   ]
  },
  {
   "cell_type": "code",
   "execution_count": 22,
   "metadata": {},
   "outputs": [],
   "source": [
    "#x_train_text[1]"
   ]
  },
  {
   "cell_type": "markdown",
   "metadata": {},
   "source": [
    "This text corresponds to the following list of tokens:"
   ]
  },
  {
   "cell_type": "code",
   "execution_count": 23,
   "metadata": {},
   "outputs": [],
   "source": [
    "#x_train_tokens[1]\n",
    "#np.array(x_train_tokens[1])"
   ]
  },
  {
   "cell_type": "markdown",
   "metadata": {},
   "source": [
    "We also need to convert the texts in the test-set to tokens."
   ]
  },
  {
   "cell_type": "code",
   "execution_count": 24,
   "metadata": {},
   "outputs": [
    {
     "name": "stdout",
     "output_type": "stream",
     "text": [
      "CPU times: user 22.7 ms, sys: 0 ns, total: 22.7 ms\n",
      "Wall time: 22.4 ms\n"
     ]
    }
   ],
   "source": [
    "%%time\n",
    "x_test_tokens = tokenizer.texts_to_sequences(x_test_text)"
   ]
  },
  {
   "cell_type": "code",
   "execution_count": 25,
   "metadata": {},
   "outputs": [],
   "source": [
    "#x_test_tokens[0]"
   ]
  },
  {
   "cell_type": "markdown",
   "metadata": {},
   "source": [
    "## Padding and Truncating Data\n",
    "\n",
    "The Recurrent Neural Network can take sequences of arbitrary length as input, but in order to use a whole batch of data, the sequences need to have the same length. There are two ways of achieving this: (A) Either we ensure that all sequences in the entire data-set have the same length, or (B) we write a custom data-generator that ensures the sequences have the same length within each batch.\n",
    "\n",
    "Solution (A) is simpler but if we use the length of the longest sequence in the data-set, then we are wasting a lot of memory. This is particularly important for larger data-sets.\n",
    "\n",
    "So in order to make a compromise, we will use a sequence-length that covers most sequences in the data-set, and we will then truncate longer sequences and pad shorter sequences.\n",
    "\n",
    "First we count the number of tokens in all the sequences in the data-set."
   ]
  },
  {
   "cell_type": "code",
   "execution_count": 26,
   "metadata": {},
   "outputs": [
    {
     "name": "stdout",
     "output_type": "stream",
     "text": [
      "CPU times: user 246 µs, sys: 13 µs, total: 259 µs\n",
      "Wall time: 268 µs\n"
     ]
    },
    {
     "data": {
      "text/plain": [
       "array([624, 551, 431, 456, 640, 662, 576, 603, 616, 665, 624, 327, 660,\n",
       "       549, 511, 660, 616, 446, 647, 553, 504, 625, 644, 508, 458, 623,\n",
       "       445, 526, 548, 441, 660, 440, 640, 508, 536, 659, 665, 369, 542,\n",
       "       648, 190, 328, 660, 355, 624, 660, 491, 452, 465, 640, 549, 542,\n",
       "       514, 626, 352, 626, 647, 542, 332, 622, 374, 431, 510, 396, 457,\n",
       "       532, 622, 546, 647, 550, 666, 628, 662, 510, 615, 659, 620, 528,\n",
       "       628, 443, 542, 576, 602, 603, 485, 627, 660, 549, 515, 625, 623,\n",
       "       647, 626, 549, 550, 576, 546, 644, 352, 625, 432, 625, 624, 625,\n",
       "       646, 589, 647, 649, 355, 583, 388, 646, 628, 551, 542, 616, 510,\n",
       "       487, 637, 625, 514, 365, 464, 538, 514, 647, 646, 432, 646, 355,\n",
       "       337, 592, 441, 624, 575, 646, 576, 644, 603, 457, 519, 647, 457,\n",
       "       355, 575, 644, 647, 319, 464, 395, 628, 622, 335, 406, 613, 628,\n",
       "       233, 659, 660, 440, 536, 660, 464, 624, 591, 355, 549, 616, 355,\n",
       "       326, 524, 429, 464, 372, 510, 660, 465, 660, 464, 589, 538, 514,\n",
       "       550, 549, 505, 536, 647, 640, 637, 620, 628, 659, 505, 637, 441,\n",
       "       620, 546, 513, 532, 553, 666, 534, 509, 554, 624, 628, 576, 459,\n",
       "       637, 445, 624, 660, 468, 616, 640, 646, 646, 644, 576, 624, 647,\n",
       "       649, 370, 505, 551, 637, 437, 464, 646, 588, 551, 628, 508, 552,\n",
       "       640, 374, 624, 538, 589, 507, 644, 507, 623, 616, 470, 637, 457,\n",
       "       505, 549, 622, 457, 644, 586, 628, 469, 527, 538, 549, 627, 622,\n",
       "       628, 646, 644, 616, 485, 624, 545, 659, 542, 490, 647, 624, 625,\n",
       "       640, 620, 628, 660, 588, 637, 626, 623, 464, 518, 624, 647, 627,\n",
       "       613, 509, 628, 549, 602, 624, 511, 613, 504, 538, 551, 548, 464,\n",
       "       468, 628, 546, 644, 626, 623, 489, 662, 576, 647, 646, 463, 637,\n",
       "       625, 491, 647, 390, 513, 441, 576, 448, 549, 531, 644, 510, 329,\n",
       "       369, 355, 514, 505, 644, 646, 542, 647, 457, 430, 549, 647, 623,\n",
       "       640, 518, 644, 382, 659, 644, 538, 627, 576, 624, 627, 551, 646,\n",
       "       319, 551, 659, 458, 546, 647, 542, 647, 514, 458, 585, 542, 440,\n",
       "       628, 397, 365, 628, 552, 616, 538, 491, 355, 644, 546, 551, 625,\n",
       "       576, 628, 510, 626, 660, 504, 440, 491, 490, 660, 326, 616, 623,\n",
       "       441, 589, 331, 510, 375, 625, 532, 644, 542, 628, 575, 648, 647,\n",
       "       622, 549, 541, 542, 588, 659, 550, 662, 644, 644, 666, 591, 623,\n",
       "       553, 644, 538, 510, 390, 542, 628, 532, 646, 602, 551, 462, 430,\n",
       "       626, 214, 659, 624, 427, 628, 447, 538, 369, 637, 551, 637, 644,\n",
       "       644, 624, 456, 622, 660, 430, 623, 551, 648, 549, 329, 613, 452,\n",
       "       626, 554, 511, 665, 647, 660, 648, 549, 532, 646, 657, 437, 646,\n",
       "       551, 354, 603, 644, 510, 562, 532, 626, 628, 647, 622, 602, 490,\n",
       "       458, 625, 449, 644, 616, 542, 646, 469, 352, 443, 462, 553, 640,\n",
       "       459, 665, 447, 505, 446, 553, 546, 637, 628, 448, 600, 528, 327,\n",
       "       448, 545, 552, 448, 660, 319, 557, 628, 637, 510, 491, 464, 444,\n",
       "       443, 549, 448, 624, 505, 649, 360, 538, 627, 446, 510, 628, 551,\n",
       "       216, 446, 591, 659, 659, 542, 628, 624, 514, 616, 665, 616, 511,\n",
       "       576, 462, 622, 443, 644])"
      ]
     },
     "execution_count": 26,
     "metadata": {},
     "output_type": "execute_result"
    }
   ],
   "source": [
    "%%time\n",
    "import numpy as np\n",
    "num_tokens = [len(tokens) for tokens in x_train_tokens + x_test_tokens]\n",
    "num_tokens = np.array(num_tokens)\n",
    "num_tokens"
   ]
  },
  {
   "cell_type": "markdown",
   "metadata": {},
   "source": [
    "The average number of tokens in a sequence is:"
   ]
  },
  {
   "cell_type": "code",
   "execution_count": 27,
   "metadata": {},
   "outputs": [
    {
     "data": {
      "text/plain": [
       "552.8221415607985"
      ]
     },
     "execution_count": 27,
     "metadata": {},
     "output_type": "execute_result"
    }
   ],
   "source": [
    "np.mean(num_tokens)"
   ]
  },
  {
   "cell_type": "markdown",
   "metadata": {},
   "source": [
    "The maximum number of tokens in a sequence is:"
   ]
  },
  {
   "cell_type": "code",
   "execution_count": 28,
   "metadata": {},
   "outputs": [
    {
     "data": {
      "text/plain": [
       "666"
      ]
     },
     "execution_count": 28,
     "metadata": {},
     "output_type": "execute_result"
    }
   ],
   "source": [
    "np.max(num_tokens)"
   ]
  },
  {
   "cell_type": "markdown",
   "metadata": {},
   "source": [
    "The max number of tokens we will allow is set to the average plus 2 standard deviations."
   ]
  },
  {
   "cell_type": "code",
   "execution_count": 29,
   "metadata": {},
   "outputs": [
    {
     "data": {
      "text/plain": [
       "742"
      ]
     },
     "execution_count": 29,
     "metadata": {},
     "output_type": "execute_result"
    }
   ],
   "source": [
    "max_tokens = np.mean(num_tokens) + 2 * np.std(num_tokens)\n",
    "max_tokens = int(max_tokens)\n",
    "max_tokens"
   ]
  },
  {
   "cell_type": "markdown",
   "metadata": {},
   "source": [
    "This covers about 95% of the data-set."
   ]
  },
  {
   "cell_type": "code",
   "execution_count": 30,
   "metadata": {},
   "outputs": [
    {
     "data": {
      "text/plain": [
       "1.0"
      ]
     },
     "execution_count": 30,
     "metadata": {},
     "output_type": "execute_result"
    }
   ],
   "source": [
    "np.sum(num_tokens < max_tokens) / len(num_tokens)"
   ]
  },
  {
   "cell_type": "markdown",
   "metadata": {},
   "source": [
    "When padding or truncating the sequences that have a different length, we need to determine if we want to do this padding or truncating 'pre' or 'post'. If a sequence is truncated, it means that a part of the sequence is simply thrown away. If a sequence is padded, it means that zeros are added to the sequence.\n",
    "\n",
    "So the choice of 'pre' or 'post' can be important because it determines whether we throw away the first or last part of a sequence when truncating, and it determines whether we add zeros to the beginning or end of the sequence when padding. This may confuse the Recurrent Neural Network."
   ]
  },
  {
   "cell_type": "code",
   "execution_count": 31,
   "metadata": {},
   "outputs": [],
   "source": [
    "pad = 'pre'"
   ]
  },
  {
   "cell_type": "code",
   "execution_count": 32,
   "metadata": {},
   "outputs": [],
   "source": [
    "x_train_pad = pad_sequences(x_train_tokens, maxlen=max_tokens,\n",
    "                            padding=pad, truncating=pad)"
   ]
  },
  {
   "cell_type": "code",
   "execution_count": 33,
   "metadata": {},
   "outputs": [
    {
     "name": "stdout",
     "output_type": "stream",
     "text": [
      "CPU times: user 4.83 ms, sys: 46 µs, total: 4.87 ms\n",
      "Wall time: 4.36 ms\n"
     ]
    }
   ],
   "source": [
    "%%time\n",
    "x_test_pad = pad_sequences(x_test_tokens, maxlen=max_tokens,\n",
    "                           padding=pad, truncating=pad)"
   ]
  },
  {
   "cell_type": "markdown",
   "metadata": {},
   "source": [
    "We have now transformed the training-set into one big matrix of integers (tokens) with this shape:"
   ]
  },
  {
   "cell_type": "code",
   "execution_count": 34,
   "metadata": {},
   "outputs": [
    {
     "data": {
      "text/plain": [
       "(495, 742)"
      ]
     },
     "execution_count": 34,
     "metadata": {},
     "output_type": "execute_result"
    }
   ],
   "source": [
    "x_train_pad.shape"
   ]
  },
  {
   "cell_type": "markdown",
   "metadata": {},
   "source": [
    "The matrix for the test-set has the same shape:"
   ]
  },
  {
   "cell_type": "code",
   "execution_count": 35,
   "metadata": {
    "scrolled": true
   },
   "outputs": [
    {
     "data": {
      "text/plain": [
       "(56, 742)"
      ]
     },
     "execution_count": 35,
     "metadata": {},
     "output_type": "execute_result"
    }
   ],
   "source": [
    "x_test_pad.shape"
   ]
  },
  {
   "cell_type": "markdown",
   "metadata": {},
   "source": [
    "For example, we had the following sequence of tokens above:"
   ]
  },
  {
   "cell_type": "code",
   "execution_count": 36,
   "metadata": {},
   "outputs": [],
   "source": [
    "idx = tokenizer.word_index\n",
    "inverse_map = dict(zip(idx.values(), idx.keys()))"
   ]
  },
  {
   "cell_type": "markdown",
   "metadata": {},
   "source": [
    "Helper-function for converting a list of tokens back to a string of words."
   ]
  },
  {
   "cell_type": "code",
   "execution_count": 37,
   "metadata": {},
   "outputs": [],
   "source": [
    "def tokens_to_string(tokens):\n",
    "    # Map from tokens back to words.\n",
    "    words = [inverse_map[token] for token in tokens if token != 0]\n",
    "    \n",
    "    # Concatenate all words.\n",
    "    text = \" \".join(words)\n",
    "\n",
    "    return text"
   ]
  },
  {
   "cell_type": "markdown",
   "metadata": {},
   "source": [
    "For example, this is the original text from the data-set:"
   ]
  },
  {
   "cell_type": "code",
   "execution_count": 38,
   "metadata": {},
   "outputs": [],
   "source": [
    "from sklearn.model_selection import KFold\n",
    "from sklearn.model_selection import StratifiedKFold\n",
    "\n",
    "import numpy as np\n",
    "\n",
    "num_folds = 10"
   ]
  },
  {
   "cell_type": "raw",
   "metadata": {},
   "source": [
    "from sklearn.model_selection import KFold\n",
    "from sklearn.model_selection import StratifiedKFold\n",
    "\n",
    "import numpy as np\n",
    "\n",
    "num_folds = 10\n",
    "\n",
    "# Define per-fold score containers <-- these are new\n",
    "acc_per_fold = []\n",
    "loss_per_fold = []\n",
    "train_acc = []\n",
    "test_acc = []\n",
    "train_loss = []\n",
    "test_loss = []\n",
    "pred = []\n",
    "test1 = []\n",
    "\n",
    "inputs = np.concatenate((x_train_pad, x_test_pad), axis=0)\n",
    "targets = np.concatenate((y_train, y_test), axis=0)\n",
    "\n",
    "kfold = StratifiedKFold(n_splits=10, shuffle=True, random_state=7)\n",
    "\n",
    "    \n",
    "fold_no = 1\n",
    "for train, test in kfold.split(inputs, targets):\n",
    "    \n",
    "    model = Sequential()\n",
    "\n",
    "    embedding_size = 10\n",
    "\n",
    "    model.add(Embedding(input_dim=num_words,\n",
    "                        output_dim=embedding_size,\n",
    "                        input_length=max_tokens,\n",
    "                        name='layer_embedding_1DCNN'))\n",
    "\n",
    "    # create the model\n",
    "\n",
    "    model.add(Conv1D(filters=32, kernel_size=3, padding='same', activation='relu'))\n",
    "    model.add(MaxPooling1D(pool_size=2))\n",
    "    model.add(Flatten())\n",
    "    model.add(Dense(50, activation='relu'))\n",
    "    model.add(Dense(1, activation='sigmoid'))\n",
    "    model.compile(loss='binary_crossentropy', optimizer='adam', metrics=['accuracy'])\n",
    "    print(model.summary())\n",
    "\n",
    "    \n",
    "    history = model.fit(inputs[train],targets[train],\n",
    "              validation_data=(inputs[test],targets[test]), epochs=50, batch_size=128)\n",
    "    scores = model.evaluate(inputs[test], targets[test], verbose=1)\n",
    "    prediction = model.predict(x=inputs[test])\n",
    "    \n",
    "    print(f'Score for fold {fold_no}: {model.metrics_names[0]} of {scores[0]}; {model.metrics_names[1]} of {scores[1]*100}%')\n",
    "    acc_per_fold.append(scores[1] * 100)\n",
    "    loss_per_fold.append(scores[0])\n",
    "    train_acc.append(history.history['acc'])\n",
    "    test_acc.append(history.history['val_acc'])\n",
    "    train_loss.append(history.history['loss'])\n",
    "    test_loss.append(history.history['val_loss'])\n",
    "    #pred.append(prediction)\n",
    "    #test1.append(targets[test])\n",
    "    \n",
    "    "
   ]
  },
  {
   "cell_type": "markdown",
   "metadata": {},
   "source": [
    "## Performance on Test-Set\n",
    "\n",
    "Now that the model has been trained we can calculate its classification accuracy on the test-set."
   ]
  },
  {
   "cell_type": "raw",
   "metadata": {},
   "source": [
    "print('------------------------------------------------------------------------')\n",
    "print('Score per fold')\n",
    "for i in range(0, len(acc_per_fold)):\n",
    "    print('------------------------------------------------------------------------')\n",
    "    print(f'> Fold {i+1} - Loss: {loss_per_fold[i]} - Accuracy: {acc_per_fold[i]}%')\n",
    "print('------------------------------------------------------------------------')\n",
    "print('Average scores for all folds:')\n",
    "print(f'> Accuracy: {np.mean(acc_per_fold)} (+- {np.std(acc_per_fold)})')\n",
    "print(f'> Loss: {np.mean(loss_per_fold)}')\n",
    "print('------------------------------------------------------------------------')\n"
   ]
  },
  {
   "cell_type": "code",
   "execution_count": 39,
   "metadata": {},
   "outputs": [
    {
     "name": "stdout",
     "output_type": "stream",
     "text": [
      "_________________________________________________________________\n",
      "Layer (type)                 Output Shape              Param #   \n",
      "=================================================================\n",
      "layer_embedding_1DCNN (Embed (None, 742, 10)           6580      \n",
      "_________________________________________________________________\n",
      "conv1d_1 (Conv1D)            (None, 742, 32)           992       \n",
      "_________________________________________________________________\n",
      "max_pooling1d_1 (MaxPooling1 (None, 371, 32)           0         \n",
      "_________________________________________________________________\n",
      "flatten_1 (Flatten)          (None, 11872)             0         \n",
      "_________________________________________________________________\n",
      "dense_1 (Dense)              (None, 50)                593650    \n",
      "_________________________________________________________________\n",
      "dense_2 (Dense)              (None, 2)                 102       \n",
      "=================================================================\n",
      "Total params: 601,324\n",
      "Trainable params: 601,324\n",
      "Non-trainable params: 0\n",
      "_________________________________________________________________\n",
      "None\n",
      "Train on 495 samples, validate on 56 samples\n",
      "Epoch 1/50\n",
      "495/495 [==============================] - 2s 4ms/step - loss: 0.6331 - acc: 0.6242 - val_loss: 0.5048 - val_acc: 0.9821\n",
      "Epoch 2/50\n",
      "495/495 [==============================] - 0s 85us/step - loss: 0.3821 - acc: 0.9980 - val_loss: 0.2642 - val_acc: 0.9821\n",
      "Epoch 3/50\n",
      "495/495 [==============================] - 0s 86us/step - loss: 0.1649 - acc: 0.9919 - val_loss: 0.1150 - val_acc: 0.9643\n",
      "Epoch 4/50\n",
      "495/495 [==============================] - 0s 90us/step - loss: 0.0565 - acc: 0.9919 - val_loss: 0.0666 - val_acc: 0.9643\n",
      "Epoch 5/50\n",
      "495/495 [==============================] - 0s 75us/step - loss: 0.0222 - acc: 0.9939 - val_loss: 0.0489 - val_acc: 0.9643\n",
      "Epoch 6/50\n",
      "495/495 [==============================] - 0s 80us/step - loss: 0.0127 - acc: 0.9960 - val_loss: 0.0393 - val_acc: 0.9821\n",
      "Epoch 7/50\n",
      "495/495 [==============================] - 0s 71us/step - loss: 0.0090 - acc: 0.9980 - val_loss: 0.0405 - val_acc: 0.9643\n",
      "Epoch 8/50\n",
      "495/495 [==============================] - 0s 82us/step - loss: 0.0077 - acc: 0.9980 - val_loss: 0.0260 - val_acc: 0.9821\n",
      "Epoch 9/50\n",
      "495/495 [==============================] - 0s 85us/step - loss: 0.0065 - acc: 0.9980 - val_loss: 0.0286 - val_acc: 0.9821\n",
      "Epoch 10/50\n",
      "495/495 [==============================] - 0s 87us/step - loss: 0.0053 - acc: 0.9980 - val_loss: 0.0404 - val_acc: 0.9821\n",
      "Epoch 11/50\n",
      "495/495 [==============================] - 0s 86us/step - loss: 0.0063 - acc: 0.9980 - val_loss: 0.0495 - val_acc: 0.9643\n",
      "Epoch 12/50\n",
      "495/495 [==============================] - 0s 76us/step - loss: 0.0058 - acc: 0.9980 - val_loss: 0.0342 - val_acc: 0.9821\n",
      "Epoch 13/50\n",
      "495/495 [==============================] - 0s 82us/step - loss: 0.0055 - acc: 0.9980 - val_loss: 0.0282 - val_acc: 0.9821\n",
      "Epoch 14/50\n",
      "495/495 [==============================] - 0s 81us/step - loss: 0.0057 - acc: 0.9980 - val_loss: 0.0353 - val_acc: 0.9821\n",
      "Epoch 15/50\n",
      "495/495 [==============================] - 0s 86us/step - loss: 0.0064 - acc: 0.9980 - val_loss: 0.0577 - val_acc: 0.9643\n",
      "Epoch 16/50\n",
      "495/495 [==============================] - 0s 89us/step - loss: 0.0065 - acc: 0.9980 - val_loss: 0.0311 - val_acc: 0.9821\n",
      "Epoch 17/50\n",
      "495/495 [==============================] - 0s 92us/step - loss: 0.0050 - acc: 0.9980 - val_loss: 0.0298 - val_acc: 0.9821\n",
      "Epoch 18/50\n",
      "495/495 [==============================] - 0s 83us/step - loss: 0.0056 - acc: 0.9980 - val_loss: 0.0382 - val_acc: 0.9821\n",
      "Epoch 19/50\n",
      "495/495 [==============================] - 0s 85us/step - loss: 0.0052 - acc: 0.9980 - val_loss: 0.0319 - val_acc: 0.9821\n",
      "Epoch 20/50\n",
      "495/495 [==============================] - 0s 80us/step - loss: 0.0050 - acc: 0.9980 - val_loss: 0.0314 - val_acc: 0.9821\n",
      "Epoch 21/50\n",
      "495/495 [==============================] - 0s 81us/step - loss: 0.0050 - acc: 0.9980 - val_loss: 0.0228 - val_acc: 0.9821\n",
      "Epoch 22/50\n",
      "495/495 [==============================] - 0s 84us/step - loss: 0.0055 - acc: 0.9980 - val_loss: 0.0339 - val_acc: 0.9821\n",
      "Epoch 23/50\n",
      "495/495 [==============================] - 0s 86us/step - loss: 0.0056 - acc: 0.9980 - val_loss: 0.0310 - val_acc: 0.9821\n",
      "Epoch 24/50\n",
      "495/495 [==============================] - 0s 90us/step - loss: 0.0049 - acc: 0.9980 - val_loss: 0.0384 - val_acc: 0.9821\n",
      "Epoch 25/50\n",
      "495/495 [==============================] - 0s 79us/step - loss: 0.0050 - acc: 0.9980 - val_loss: 0.0415 - val_acc: 0.9821\n",
      "Epoch 26/50\n",
      "495/495 [==============================] - 0s 80us/step - loss: 0.0058 - acc: 0.9980 - val_loss: 0.0489 - val_acc: 0.9643\n",
      "Epoch 27/50\n",
      "495/495 [==============================] - 0s 75us/step - loss: 0.0051 - acc: 0.9980 - val_loss: 0.0184 - val_acc: 0.9821\n",
      "Epoch 28/50\n",
      "495/495 [==============================] - 0s 84us/step - loss: 0.0073 - acc: 0.9980 - val_loss: 0.0374 - val_acc: 0.9821\n",
      "Epoch 29/50\n",
      "495/495 [==============================] - 0s 78us/step - loss: 0.0050 - acc: 0.9980 - val_loss: 0.0310 - val_acc: 0.9821\n",
      "Epoch 30/50\n",
      "495/495 [==============================] - 0s 84us/step - loss: 0.0049 - acc: 0.9980 - val_loss: 0.0283 - val_acc: 0.9821\n",
      "Epoch 31/50\n",
      "495/495 [==============================] - 0s 80us/step - loss: 0.0053 - acc: 0.9980 - val_loss: 0.0378 - val_acc: 0.9821\n",
      "Epoch 32/50\n",
      "495/495 [==============================] - 0s 85us/step - loss: 0.0050 - acc: 0.9980 - val_loss: 0.0291 - val_acc: 0.9821\n",
      "Epoch 33/50\n",
      "495/495 [==============================] - 0s 84us/step - loss: 0.0049 - acc: 0.9980 - val_loss: 0.0322 - val_acc: 0.9821\n",
      "Epoch 34/50\n",
      "495/495 [==============================] - 0s 79us/step - loss: 0.0053 - acc: 0.9980 - val_loss: 0.0289 - val_acc: 0.9821\n",
      "Epoch 35/50\n",
      "495/495 [==============================] - 0s 79us/step - loss: 0.0049 - acc: 0.9980 - val_loss: 0.0375 - val_acc: 0.9821\n",
      "Epoch 36/50\n",
      "495/495 [==============================] - 0s 83us/step - loss: 0.0058 - acc: 0.9980 - val_loss: 0.0444 - val_acc: 0.9643\n",
      "Epoch 37/50\n",
      "495/495 [==============================] - 0s 77us/step - loss: 0.0070 - acc: 0.9980 - val_loss: 0.0715 - val_acc: 0.9643\n",
      "Epoch 38/50\n",
      "495/495 [==============================] - 0s 85us/step - loss: 0.0069 - acc: 0.9980 - val_loss: 0.0173 - val_acc: 1.0000\n",
      "Epoch 39/50\n",
      "495/495 [==============================] - 0s 85us/step - loss: 0.0146 - acc: 0.9939 - val_loss: 0.0141 - val_acc: 1.0000\n",
      "Epoch 40/50\n",
      "495/495 [==============================] - 0s 82us/step - loss: 0.0038 - acc: 0.9980 - val_loss: 0.1029 - val_acc: 0.9643\n",
      "Epoch 41/50\n",
      "495/495 [==============================] - 0s 84us/step - loss: 0.0101 - acc: 0.9980 - val_loss: 0.1139 - val_acc: 0.9643\n",
      "Epoch 42/50\n",
      "495/495 [==============================] - 0s 95us/step - loss: 0.0093 - acc: 0.9980 - val_loss: 0.0309 - val_acc: 0.9821\n",
      "Epoch 43/50\n",
      "495/495 [==============================] - 0s 81us/step - loss: 0.0052 - acc: 0.9980 - val_loss: 0.0129 - val_acc: 1.0000\n",
      "Epoch 44/50\n",
      "495/495 [==============================] - 0s 81us/step - loss: 0.0069 - acc: 0.9939 - val_loss: 0.0364 - val_acc: 0.9821\n",
      "Epoch 45/50\n",
      "495/495 [==============================] - 0s 80us/step - loss: 0.0050 - acc: 0.9980 - val_loss: 0.0388 - val_acc: 0.9821\n",
      "Epoch 46/50\n",
      "495/495 [==============================] - 0s 81us/step - loss: 0.0064 - acc: 0.9980 - val_loss: 0.0558 - val_acc: 0.9643\n",
      "Epoch 47/50\n",
      "495/495 [==============================] - 0s 72us/step - loss: 0.0051 - acc: 0.9980 - val_loss: 0.0259 - val_acc: 0.9821\n",
      "Epoch 48/50\n",
      "495/495 [==============================] - 0s 81us/step - loss: 0.0075 - acc: 0.9919 - val_loss: 0.0205 - val_acc: 0.9821\n",
      "Epoch 49/50\n",
      "495/495 [==============================] - 0s 89us/step - loss: 0.0035 - acc: 0.9980 - val_loss: 0.0585 - val_acc: 0.9643\n",
      "Epoch 50/50\n",
      "495/495 [==============================] - 0s 76us/step - loss: 0.0055 - acc: 0.9980 - val_loss: 0.0747 - val_acc: 0.9643\n"
     ]
    }
   ],
   "source": [
    "model = Sequential()\n",
    "\n",
    "embedding_size = 10\n",
    "\n",
    "model.add(Embedding(input_dim=num_words,\n",
    "                        output_dim=embedding_size,\n",
    "                        input_length=max_tokens,\n",
    "                        name='layer_embedding_1DCNN'))\n",
    "\n",
    "    # create the model\n",
    "\n",
    "model.add(Conv1D(filters=32, kernel_size=3, padding='same', activation='relu'))\n",
    "model.add(MaxPooling1D(pool_size=2))\n",
    "model.add(Flatten())\n",
    "model.add(Dense(50, activation='relu'))\n",
    "model.add(Dense(2, activation='softmax'))\n",
    "model.compile(loss='categorical_crossentropy', optimizer='adam', metrics=['accuracy'])\n",
    "print(model.summary())\n",
    "\n",
    "    \n",
    "history = model.fit(x_train_pad,y_train,validation_data=(x_test_pad,y_test), epochs=50, batch_size=128)"
   ]
  },
  {
   "cell_type": "code",
   "execution_count": 40,
   "metadata": {},
   "outputs": [
    {
     "name": "stdout",
     "output_type": "stream",
     "text": [
      "56/56 [==============================] - 0s 150us/step\n",
      "CPU times: user 15.8 ms, sys: 304 µs, total: 16.1 ms\n",
      "Wall time: 9.83 ms\n"
     ]
    }
   ],
   "source": [
    "%%time\n",
    "result = model.evaluate(x_test_pad, y_test)"
   ]
  },
  {
   "cell_type": "code",
   "execution_count": 41,
   "metadata": {},
   "outputs": [
    {
     "name": "stdout",
     "output_type": "stream",
     "text": [
      "Accuracy: 96.43%\n"
     ]
    }
   ],
   "source": [
    "print(\"Accuracy: {0:.2%}\".format(result[1]))"
   ]
  },
  {
   "cell_type": "code",
   "execution_count": 42,
   "metadata": {},
   "outputs": [],
   "source": [
    "import pickle\n",
    "#####################################\n",
    "# write Traning History to a file\n",
    "output = open('History.pkl', 'wb')\n",
    "pickle.dump(history.history, output)\n",
    "output.close()\n",
    "#####################################"
   ]
  },
  {
   "cell_type": "code",
   "execution_count": 43,
   "metadata": {},
   "outputs": [],
   "source": [
    "\n",
    "# read Traning History back from the file\n",
    "pkl_file = open('History.pkl', 'rb')\n",
    "history = pickle.load(pkl_file)\n",
    "pkl_file.close()"
   ]
  },
  {
   "cell_type": "code",
   "execution_count": 44,
   "metadata": {},
   "outputs": [],
   "source": [
    "import scikitplot as skplt\n",
    "import matplotlib.pyplot as plt\n",
    "\n",
    "def plot_history(history):\n",
    "    loss_list = [s for s in history.keys() if 'loss' in s and 'val' not in s]\n",
    "    val_loss_list = [s for s in history.keys() if 'loss' in s and 'val' in s]\n",
    "    acc_list = [s for s in history.keys() if 'acc' in s and 'val' not in s]\n",
    "    val_acc_list = [s for s in history.keys() if 'acc' in s and 'val' in s]\n",
    "    plt.figure(figsize = (25,7))\n",
    "    if len(loss_list) == 0:\n",
    "        print('Loss is missing in history')\n",
    "        return \n",
    "    \n",
    "    ## As loss always exists\n",
    "    epochs = range(1,len(history[loss_list[0]]) + 1)\n",
    "    \n",
    "    ## Loss\n",
    "    plt.figure(1)\n",
    "    for l in loss_list:\n",
    "        plt.plot(epochs, history[l], 'b', label='Training loss (' + str(str(format(history[l][-1],'.5f'))+')'))\n",
    "    for l in val_loss_list:\n",
    "        plt.plot(epochs, history[l], 'g', label='Testing loss (' + str(str(format(history[l][-1],'.5f'))+')'))\n",
    "    \n",
    "    plt.title('Loss')\n",
    "    plt.xlabel('Epochs')\n",
    "    plt.ylabel('Loss')\n",
    "    plt.legend()\n",
    "    plt.savefig('_Graph#######LOSS.png', bbox_inches='tight')\n",
    "    \n",
    "    \n",
    "    ## Accuracy\n",
    "    plt.figure(figsize = (25,7))\n",
    "    plt.figure(2)\n",
    "    for l in acc_list:\n",
    "        plt.plot(epochs, history[l], 'b', label='Training accuracy (' + str(format(history[l][-1],'.5f'))+')')\n",
    "    for l in val_acc_list:    \n",
    "        plt.plot(epochs, history[l], 'g', label='Testing accuracy (' + str(format(history[l][-1],'.5f'))+')')\n",
    "\n",
    "    plt.title('Accuracy')\n",
    "    plt.xlabel('Epochs')\n",
    "    plt.ylabel('Accuracy')\n",
    "    plt.legend()\n",
    "    plt.savefig('_Graph#######ACC.png', bbox_inches='tight')\n",
    "    plt.show()"
   ]
  },
  {
   "cell_type": "code",
   "execution_count": 45,
   "metadata": {},
   "outputs": [
    {
     "data": {
      "image/png": "[encoded data removed]",
      "text/plain": [
       "<Figure size 1800x504 with 1 Axes>"
      ]
     },
     "metadata": {
      "needs_background": "light"
     },
     "output_type": "display_data"
    },
    {
     "data": {
      "image/png": "[encoded data removed]",
      "text/plain": [
       "<Figure size 1800x504 with 1 Axes>"
      ]
     },
     "metadata": {
      "needs_background": "light"
     },
     "output_type": "display_data"
    }
   ],
   "source": [
    "plot_history(history)"
   ]
  },
  {
   "cell_type": "code",
   "execution_count": 46,
   "metadata": {},
   "outputs": [
    {
     "name": "stdout",
     "output_type": "stream",
     "text": [
      "CPU times: user 51.3 ms, sys: 4.25 ms, total: 55.5 ms\n",
      "Wall time: 51.3 ms\n"
     ]
    }
   ],
   "source": [
    "%%time\n",
    "y_pred = model.predict(x=x_test_pad)\n",
    "#y_pred = y_pred.T[0]"
   ]
  },
  {
   "cell_type": "code",
   "execution_count": 47,
   "metadata": {},
   "outputs": [],
   "source": [
    "from keras.utils import np_utils\n",
    "\n",
    "y_test = np.argmax(y_test, axis=1)"
   ]
  },
  {
   "cell_type": "code",
   "execution_count": 48,
   "metadata": {},
   "outputs": [
    {
     "data": {
      "image/png": "[encoded data removed]",
      "text/plain": [
       "<Figure size 576x432 with 1 Axes>"
      ]
     },
     "metadata": {
      "needs_background": "light"
     },
     "output_type": "display_data"
    }
   ],
   "source": [
    "import scikitplot as skplt\n",
    "import matplotlib.pyplot as plt\n",
    "\n",
    "\n",
    "y_true = y_test# ground truth labels\n",
    "y_probas = y_pred# predicted probabilities generated by sklearn classifier\n",
    "\n",
    "list_fams = ['Benign','Malware']\n",
    "figsize=(8,6)\n",
    "title = \"ROC for CNN\"\n",
    "title_fontsize = 12\n",
    "fig, ax = plt.subplots(1, 1, figsize=figsize)\n",
    "text_fontsize = 10\n",
    "\n",
    "skplt.metrics.plot_roc(y_true, y_probas,ax=ax, plot_macro=False, plot_micro=False )\n",
    "\n",
    "ax.set_title(title, fontsize=title_fontsize)\n",
    "#ax.get_legend().remove()\n",
    "ax.legend(list_fams)\n",
    "plt.ylabel('True Positive Rate (Sensitivity)')\n",
    "plt.xlabel('False Positive Rate (1-Specificity)')\n",
    "plt.savefig(\"ROC for CNN.png\")\n",
    "plt.show()"
   ]
  },
  {
   "cell_type": "code",
   "execution_count": 49,
   "metadata": {},
   "outputs": [
    {
     "data": {
      "text/plain": [
       "array([1, 0, 0, 0, 0, 0, 1, 1, 0, 1, 0, 0, 0, 0, 0, 0, 1, 0, 0, 1, 1, 0,\n",
       "       0, 0, 0, 0, 0, 0, 1, 0, 1, 0, 0, 1, 0, 0, 1, 0, 0, 0, 1, 1, 1, 0,\n",
       "       1, 1, 0, 1, 1, 1, 0, 1, 0, 1, 0, 1])"
      ]
     },
     "execution_count": 49,
     "metadata": {},
     "output_type": "execute_result"
    }
   ],
   "source": [
    "y_pred = np.argmax(y_pred, axis=1)\n",
    "y_pred"
   ]
  },
  {
   "cell_type": "code",
   "execution_count": null,
   "metadata": {},
   "outputs": [],
   "source": []
  },
  {
   "cell_type": "code",
   "execution_count": 50,
   "metadata": {},
   "outputs": [],
   "source": [
    "import pandas as pd\n",
    "# convert the history.history dict to a pandas DataFrame:     \n",
    "hist_df = pd.DataFrame(history) \n",
    "\n",
    "csv_file = 'CNN-History.csv'\n",
    "with open(csv_file, mode='w') as f:\n",
    "    hist_df.to_csv(f)"
   ]
  },
  {
   "cell_type": "code",
   "execution_count": 51,
   "metadata": {},
   "outputs": [
    {
     "data": {
      "text/plain": [
       "{'Status': True,\n",
       " 'Message': '/data/danish/ImgProPython/TensorFlow-Tutorials/Ensemble-Networks/IoT-Ensemble/IDCNN/CM_CNN.csv'}"
      ]
     },
     "execution_count": 51,
     "metadata": {},
     "output_type": "execute_result"
    }
   ],
   "source": [
    "from pycm import ConfusionMatrix\n",
    "\n",
    "CM_1DCNN = ConfusionMatrix(y_test,y_pred)\n",
    "CM_1DCNN.save_csv(\"CM_CNN\",address=True)"
   ]
  },
  {
   "cell_type": "code",
   "execution_count": 52,
   "metadata": {},
   "outputs": [
    {
     "name": "stdout",
     "output_type": "stream",
     "text": [
      "Predict  0        1        \n",
      "Actual\n",
      "0        32       0        \n",
      "\n",
      "1        2        22       \n",
      "\n",
      "\n",
      "\n",
      "\n",
      "\n",
      "Overall Statistics : \n",
      "\n",
      "95% CI                                                            (0.91568,1.01289)\n",
      "ACC Macro                                                         0.96429\n",
      "AUNP                                                              0.95833\n",
      "AUNU                                                              0.95833\n",
      "Bennett S                                                         0.92857\n",
      "CBA                                                               0.92892\n",
      "Chi-Squared                                                       48.31373\n",
      "Chi-Squared DF                                                    1\n",
      "Conditional Entropy                                               0.17735\n",
      "Cramer V                                                          0.92884\n",
      "Cross Entropy                                                     0.98905\n",
      "F1 Macro                                                          0.96311\n",
      "F1 Micro                                                          0.96429\n",
      "Gwet AC1                                                          0.93078\n",
      "Hamming Loss                                                      0.03571\n",
      "Joint Entropy                                                     1.16258\n",
      "KL Divergence                                                     0.00382\n",
      "Kappa                                                             0.92632\n",
      "Kappa 95% CI                                                      (0.82603,1.0266)\n",
      "Kappa No Prevalence                                               0.92857\n",
      "Kappa Standard Error                                              0.05116\n",
      "Kappa Unbiased                                                    0.92622\n",
      "Lambda A                                                          0.91667\n",
      "Lambda B                                                          0.90909\n",
      "Mutual Information                                                0.78927\n",
      "NIR                                                               0.57143\n",
      "Overall ACC                                                       0.96429\n",
      "Overall CEN                                                       0.17086\n",
      "Overall J                                                         (1.85784,0.92892)\n",
      "Overall MCC                                                       0.92884\n",
      "Overall MCEN                                                      0.13701\n",
      "Overall RACC                                                      0.51531\n",
      "Overall RACCU                                                     0.51594\n",
      "P-Value                                                           0.0\n",
      "PPV Macro                                                         0.97059\n",
      "PPV Micro                                                         0.96429\n",
      "Pearson C                                                         0.68056\n",
      "Phi-Squared                                                       0.86275\n",
      "RCI                                                               0.8011\n",
      "RR                                                                28.0\n",
      "Reference Entropy                                                 0.98523\n",
      "Response Entropy                                                  0.96662\n",
      "SOA1(Landis & Koch)                                               Almost Perfect\n",
      "SOA2(Fleiss)                                                      Excellent\n",
      "SOA3(Altman)                                                      Very Good\n",
      "SOA4(Cicchetti)                                                   Excellent\n",
      "SOA5(Cramer)                                                      Very Strong\n",
      "SOA6(Matthews)                                                    Very Strong\n",
      "Scott PI                                                          0.92622\n",
      "Standard Error                                                    0.0248\n",
      "TPR Macro                                                         0.95833\n",
      "TPR Micro                                                         0.96429\n",
      "Zero-one Loss                                                     2\n",
      "\n",
      "Class Statistics :\n",
      "\n",
      "Classes                                                           0             1             \n",
      "ACC(Accuracy)                                                     0.96429       0.96429       \n",
      "AGF(Adjusted F-score)                                             0.98489       0.94224       \n",
      "AGM(Adjusted geometric mean)                                      0.9452        0.97291       \n",
      "AM(Difference between automatic and manual classification)        2             -2            \n",
      "AUC(Area under the ROC curve)                                     0.95833       0.95833       \n",
      "AUCI(AUC value interpretation)                                    Excellent     Excellent     \n",
      "AUPR(Area under the PR curve)                                     0.97059       0.95833       \n",
      "BCD(Bray-Curtis dissimilarity)                                    0.01786       0.01786       \n",
      "BM(Informedness or bookmaker informedness)                        0.91667       0.91667       \n",
      "CEN(Confusion entropy)                                            0.15286       0.19668       \n",
      "DOR(Diagnostic odds ratio)                                        None          None          \n",
      "DP(Discriminant power)                                            None          None          \n",
      "DPI(Discriminant power interpretation)                            None          None          \n",
      "ERR(Error rate)                                                   0.03571       0.03571       \n",
      "F0.5(F0.5 score)                                                  0.95238       0.98214       \n",
      "F1(F1 score - harmonic mean of precision and sensitivity)         0.9697        0.95652       \n",
      "F2(F2 score)                                                      0.98765       0.9322        \n",
      "FDR(False discovery rate)                                         0.05882       0.0           \n",
      "FN(False negative/miss/type 2 error)                              0             2             \n",
      "FNR(Miss rate or false negative rate)                             0.0           0.08333       \n",
      "FOR(False omission rate)                                          0.0           0.05882       \n",
      "FP(False positive/type 1 error/false alarm)                       2             0             \n",
      "FPR(Fall-out or false positive rate)                              0.08333       0.0           \n",
      "G(G-measure geometric mean of precision and sensitivity)          0.97014       0.95743       \n",
      "GI(Gini index)                                                    0.91667       0.91667       \n",
      "GM(G-mean geometric mean of specificity and sensitivity)          0.95743       0.95743       \n",
      "IBA(Index of balanced accuracy)                                   0.99306       0.84028       \n",
      "IS(Information score)                                             0.71989       1.22239       \n",
      "J(Jaccard index)                                                  0.94118       0.91667       \n",
      "LS(Lift score)                                                    1.64706       2.33333       \n",
      "MCC(Matthews correlation coefficient)                             0.92884       0.92884       \n",
      "MCCI(Matthews correlation coefficient interpretation)             Very Strong   Very Strong   \n",
      "MCEN(Modified confusion entropy)                                  0.24044       0.29875       \n",
      "MK(Markedness)                                                    0.94118       0.94118       \n",
      "N(Condition negative)                                             24            32            \n",
      "NLR(Negative likelihood ratio)                                    0.0           0.08333       \n",
      "NLRI(Negative likelihood ratio interpretation)                    Good          Good          \n",
      "NPV(Negative predictive value)                                    1.0           0.94118       \n",
      "OC(Overlap coefficient)                                           1.0           1.0           \n",
      "OOC(Otsuka-Ochiai coefficient)                                    0.97014       0.95743       \n",
      "OP(Optimized precision)                                           0.92081       0.92081       \n",
      "P(Condition positive or support)                                  32            24            \n",
      "PLR(Positive likelihood ratio)                                    12.0          None          \n",
      "PLRI(Positive likelihood ratio interpretation)                    Good          None          \n",
      "POP(Population)                                                   56            56            \n",
      "PPV(Precision or positive predictive value)                       0.94118       1.0           \n",
      "PRE(Prevalence)                                                   0.57143       0.42857       \n",
      "Q(Yule Q - coefficient of colligation)                            None          None          \n",
      "RACC(Random accuracy)                                             0.34694       0.16837       \n",
      "RACCU(Random accuracy unbiased)                                   0.34726       0.16869       \n",
      "TN(True negative/correct rejection)                               22            32            \n",
      "TNR(Specificity or true negative rate)                            0.91667       1.0           \n",
      "TON(Test outcome negative)                                        22            34            \n",
      "TOP(Test outcome positive)                                        34            22            \n",
      "TP(True positive/hit)                                             32            22            \n",
      "TPR(Sensitivity, recall, hit rate, or true positive rate)         1.0           0.91667       \n",
      "Y(Youden index)                                                   0.91667       0.91667       \n",
      "dInd(Distance index)                                              0.08333       0.08333       \n",
      "sInd(Similarity index)                                            0.94107       0.94107       \n",
      "\n"
     ]
    }
   ],
   "source": [
    "print(CM_1DCNN)"
   ]
  },
  {
   "cell_type": "code",
   "execution_count": 53,
   "metadata": {},
   "outputs": [],
   "source": [
    "model.save(\"CNN.h5\")"
   ]
  },
  {
   "cell_type": "code",
   "execution_count": 54,
   "metadata": {},
   "outputs": [
    {
     "name": "stdout",
     "output_type": "stream",
     "text": [
      "weighted\n",
      "Precision:  [0.94117647 1.        ]\n",
      "Recall:  [1.         0.91666667]\n",
      "F1 score:  [0.96969697 0.95652174]\n",
      "CPU times: user 2.12 ms, sys: 3.87 ms, total: 5.99 ms\n",
      "Wall time: 4.19 ms\n"
     ]
    }
   ],
   "source": [
    "%%time\n",
    "from sklearn.metrics import precision_recall_fscore_support, accuracy_score\n",
    "precision, recall, f1_score, _ = precision_recall_fscore_support(y_test, y_pred, average=None)\n",
    "\n",
    "print(\"weighted\")\n",
    "print(\"Precision: \", precision)\n",
    "print(\"Recall: \", recall)\n",
    "print(\"F1 score: \", f1_score)"
   ]
  },
  {
   "cell_type": "code",
   "execution_count": 55,
   "metadata": {},
   "outputs": [
    {
     "ename": "NameError",
     "evalue": "name 'confusion_matrix' is not defined",
     "output_type": "error",
     "traceback": [
      "\u001b[0;31m---------------------------------------------------------------------------\u001b[0m",
      "\u001b[0;31mNameError\u001b[0m                                 Traceback (most recent call last)",
      "\u001b[0;32m<ipython-input-55-bbddef3dd905>\u001b[0m in \u001b[0;36m<module>\u001b[0;34m\u001b[0m\n\u001b[1;32m     21\u001b[0m     \u001b[0mplt\u001b[0m\u001b[0;34m.\u001b[0m\u001b[0mshow\u001b[0m\u001b[0;34m(\u001b[0m\u001b[0;34m)\u001b[0m\u001b[0;34m\u001b[0m\u001b[0;34m\u001b[0m\u001b[0m\n\u001b[1;32m     22\u001b[0m \u001b[0;34m\u001b[0m\u001b[0m\n\u001b[0;32m---> 23\u001b[0;31m \u001b[0mplot_confusion_matrix\u001b[0m\u001b[0;34m(\u001b[0m\u001b[0;34m)\u001b[0m\u001b[0;34m\u001b[0m\u001b[0;34m\u001b[0m\u001b[0m\n\u001b[0m",
      "\u001b[0;32m<ipython-input-55-bbddef3dd905>\u001b[0m in \u001b[0;36mplot_confusion_matrix\u001b[0;34m()\u001b[0m\n\u001b[1;32m      5\u001b[0m     \u001b[0mlist_fams\u001b[0m\u001b[0;34m=\u001b[0m\u001b[0;34m[\u001b[0m\u001b[0;34m'Benign'\u001b[0m\u001b[0;34m,\u001b[0m\u001b[0;34m'Malware'\u001b[0m\u001b[0;34m]\u001b[0m\u001b[0;34m\u001b[0m\u001b[0;34m\u001b[0m\u001b[0m\n\u001b[1;32m      6\u001b[0m \u001b[0;34m\u001b[0m\u001b[0m\n\u001b[0;32m----> 7\u001b[0;31m     \u001b[0mcm\u001b[0m \u001b[0;34m=\u001b[0m \u001b[0mconfusion_matrix\u001b[0m\u001b[0;34m(\u001b[0m\u001b[0my_true\u001b[0m\u001b[0;34m=\u001b[0m\u001b[0my_test\u001b[0m\u001b[0;34m,\u001b[0m \u001b[0my_pred\u001b[0m\u001b[0;34m=\u001b[0m\u001b[0my_pred\u001b[0m\u001b[0;34m)\u001b[0m\u001b[0;34m\u001b[0m\u001b[0;34m\u001b[0m\u001b[0m\n\u001b[0m\u001b[1;32m      8\u001b[0m \u001b[0;34m\u001b[0m\u001b[0m\n\u001b[1;32m      9\u001b[0m     \u001b[0mcm\u001b[0m\u001b[0;34m=\u001b[0m\u001b[0mcm\u001b[0m\u001b[0;34m.\u001b[0m\u001b[0mastype\u001b[0m\u001b[0;34m(\u001b[0m\u001b[0;34m'float'\u001b[0m\u001b[0;34m)\u001b[0m\u001b[0;34m/\u001b[0m\u001b[0mcm\u001b[0m\u001b[0;34m.\u001b[0m\u001b[0msum\u001b[0m\u001b[0;34m(\u001b[0m\u001b[0maxis\u001b[0m\u001b[0;34m=\u001b[0m\u001b[0;36m1\u001b[0m\u001b[0;34m)\u001b[0m\u001b[0;34m[\u001b[0m\u001b[0;34m:\u001b[0m\u001b[0;34m,\u001b[0m\u001b[0mnp\u001b[0m\u001b[0;34m.\u001b[0m\u001b[0mnewaxis\u001b[0m\u001b[0;34m]\u001b[0m\u001b[0;34m\u001b[0m\u001b[0;34m\u001b[0m\u001b[0m\n",
      "\u001b[0;31mNameError\u001b[0m: name 'confusion_matrix' is not defined"
     ]
    }
   ],
   "source": [
    "import seaborn as sns\n",
    "\n",
    "def plot_confusion_matrix():\n",
    "    \n",
    "    list_fams=['Benign','Malware']\n",
    "    \n",
    "    cm = confusion_matrix(y_true=y_test, y_pred=y_pred)\n",
    "    \n",
    "    cm=cm.astype('float')/cm.sum(axis=1)[:,np.newaxis]\n",
    "    \n",
    "    figure = plt.gcf()\n",
    "    figure.set_size_inches(20, 12)\n",
    "    sns.set(font_scale=1.25)\n",
    "    hm = sns.heatmap(cm, cmap= \"YlGnBu\" ,cbar=True, annot=True, square=True,\n",
    "                 annot_kws={'size': 9}, linewidth = 0.01,\n",
    "                 yticklabels=list_fams, xticklabels=list_fams)\n",
    "    plt.ylabel('True label')\n",
    "    plt.xlabel('Predicted label')\n",
    "    \n",
    "    plt.savefig('CNN-Matrix.png', bbox_inches='tight')\n",
    "    plt.show()\n",
    "    \n",
    "plot_confusion_matrix()"
   ]
  },
  {
   "cell_type": "code",
   "execution_count": null,
   "metadata": {},
   "outputs": [],
   "source": []
  },
  {
   "cell_type": "code",
   "execution_count": null,
   "metadata": {},
   "outputs": [],
   "source": []
  },
  {
   "cell_type": "code",
   "execution_count": null,
   "metadata": {},
   "outputs": [],
   "source": []
  },
  {
   "cell_type": "code",
   "execution_count": null,
   "metadata": {},
   "outputs": [],
   "source": []
  }
 ],
 "metadata": {
  "anaconda-cloud": {},
  "kernelspec": {
   "display_name": "Python 3",
   "language": "python",
   "name": "python3"
  },
  "language_info": {
   "codemirror_mode": {
    "name": "ipython",
    "version": 3
   },
   "file_extension": ".py",
   "mimetype": "text/x-python",
   "name": "python",
   "nbconvert_exporter": "python",
   "pygments_lexer": "ipython3",
   "version": "3.6.10"
  }
 },
 "nbformat": 4,
 "nbformat_minor": 1
}
